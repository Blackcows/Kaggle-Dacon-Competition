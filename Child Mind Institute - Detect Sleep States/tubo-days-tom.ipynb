{
 "cells": [
  {
   "cell_type": "markdown",
   "id": "f41e2b9a",
   "metadata": {
    "papermill": {
     "duration": 0.00404,
     "end_time": "2023-12-04T08:31:57.341125",
     "exception": false,
     "start_time": "2023-12-04T08:31:57.337085",
     "status": "completed"
    },
    "tags": []
   },
   "source": [
    "See the following repositories for details  \n",
    "https://github.com/TomuToyoshima/kaggle-child-mind-institute-detect-sleep-states"
   ]
  },
  {
   "cell_type": "markdown",
   "id": "4ed9a112",
   "metadata": {
    "papermill": {
     "duration": 0.003263,
     "end_time": "2023-12-04T08:31:57.348107",
     "exception": false,
     "start_time": "2023-12-04T08:31:57.344844",
     "status": "completed"
    },
    "tags": []
   },
   "source": [
    "# Install additional libraries"
   ]
  },
  {
   "cell_type": "code",
   "execution_count": 1,
   "id": "9b5542e9",
   "metadata": {
    "execution": {
     "iopub.execute_input": "2023-12-04T08:31:57.356202Z",
     "iopub.status.busy": "2023-12-04T08:31:57.355909Z",
     "iopub.status.idle": "2023-12-04T08:32:17.504682Z",
     "shell.execute_reply": "2023-12-04T08:32:17.503767Z"
    },
    "papermill": {
     "duration": 20.155497,
     "end_time": "2023-12-04T08:32:17.507039",
     "exception": false,
     "start_time": "2023-12-04T08:31:57.351542",
     "status": "completed"
    },
    "tags": []
   },
   "outputs": [
    {
     "name": "stdout",
     "output_type": "stream",
     "text": [
      "Looking in links: /kaggle/input/ex-library\r\n",
      "Processing /kaggle/input/ex-library/hydra_core-1.3.2-py3-none-any.whl\r\n",
      "Processing /kaggle/input/ex-library/segmentation_models_pytorch-0.3.3-py3-none-any.whl\r\n",
      "Requirement already satisfied: torchvision>=0.5.0 in /opt/conda/lib/python3.10/site-packages (from segmentation_models_pytorch==0.3.3) (0.15.1)\r\n",
      "Processing /kaggle/input/ex-library/pretrainedmodels-0.7.4.tar.gz (from segmentation_models_pytorch==0.3.3)\r\n",
      "  Preparing metadata (setup.py) ... \u001b[?25l-\b \bdone\r\n",
      "\u001b[?25hProcessing /kaggle/input/ex-library/efficientnet_pytorch-0.7.1.tar.gz (from segmentation_models_pytorch==0.3.3)\r\n",
      "  Preparing metadata (setup.py) ... \u001b[?25ldone\r\n",
      "\u001b[?25hProcessing /kaggle/input/ex-library/timm-0.9.2-py3-none-any.whl (from segmentation_models_pytorch==0.3.3)\r\n",
      "Requirement already satisfied: tqdm in /opt/conda/lib/python3.10/site-packages (from segmentation_models_pytorch==0.3.3) (4.66.1)\r\n",
      "Requirement already satisfied: pillow in /opt/conda/lib/python3.10/site-packages (from segmentation_models_pytorch==0.3.3) (9.5.0)\r\n",
      "Requirement already satisfied: torch in /opt/conda/lib/python3.10/site-packages (from efficientnet-pytorch==0.7.1->segmentation_models_pytorch==0.3.3) (2.0.0)\r\n",
      "Processing /kaggle/input/ex-library/munch-4.0.0-py2.py3-none-any.whl (from pretrainedmodels==0.7.4->segmentation_models_pytorch==0.3.3)\r\n",
      "Requirement already satisfied: pyyaml in /opt/conda/lib/python3.10/site-packages (from timm==0.9.2->segmentation_models_pytorch==0.3.3) (6.0)\r\n",
      "Requirement already satisfied: huggingface-hub in /opt/conda/lib/python3.10/site-packages (from timm==0.9.2->segmentation_models_pytorch==0.3.3) (0.16.4)\r\n",
      "Requirement already satisfied: safetensors in /opt/conda/lib/python3.10/site-packages (from timm==0.9.2->segmentation_models_pytorch==0.3.3) (0.3.3)\r\n",
      "Processing /kaggle/input/ex-library/omegaconf-2.3.0-py3-none-any.whl (from hydra-core)\r\n",
      "Processing /kaggle/input/ex-library/antlr4-python3-runtime-4.9.3.tar.gz (from hydra-core)\r\n",
      "  Preparing metadata (setup.py) ... \u001b[?25ldone\r\n",
      "\u001b[?25hRequirement already satisfied: packaging in /opt/conda/lib/python3.10/site-packages (from hydra-core) (21.3)\r\n",
      "Requirement already satisfied: numpy in /opt/conda/lib/python3.10/site-packages (from torchvision>=0.5.0->segmentation_models_pytorch==0.3.3) (1.23.5)\r\n",
      "Requirement already satisfied: requests in /opt/conda/lib/python3.10/site-packages (from torchvision>=0.5.0->segmentation_models_pytorch==0.3.3) (2.31.0)\r\n",
      "Requirement already satisfied: pyparsing!=3.0.5,>=2.0.2 in /opt/conda/lib/python3.10/site-packages (from packaging->hydra-core) (3.0.9)\r\n",
      "Requirement already satisfied: filelock in /opt/conda/lib/python3.10/site-packages (from torch->efficientnet-pytorch==0.7.1->segmentation_models_pytorch==0.3.3) (3.12.2)\r\n",
      "Requirement already satisfied: typing-extensions in /opt/conda/lib/python3.10/site-packages (from torch->efficientnet-pytorch==0.7.1->segmentation_models_pytorch==0.3.3) (4.6.3)\r\n",
      "Requirement already satisfied: sympy in /opt/conda/lib/python3.10/site-packages (from torch->efficientnet-pytorch==0.7.1->segmentation_models_pytorch==0.3.3) (1.12)\r\n",
      "Requirement already satisfied: networkx in /opt/conda/lib/python3.10/site-packages (from torch->efficientnet-pytorch==0.7.1->segmentation_models_pytorch==0.3.3) (3.1)\r\n",
      "Requirement already satisfied: jinja2 in /opt/conda/lib/python3.10/site-packages (from torch->efficientnet-pytorch==0.7.1->segmentation_models_pytorch==0.3.3) (3.1.2)\r\n",
      "Requirement already satisfied: fsspec in /opt/conda/lib/python3.10/site-packages (from huggingface-hub->timm==0.9.2->segmentation_models_pytorch==0.3.3) (2023.9.0)\r\n",
      "Requirement already satisfied: charset-normalizer<4,>=2 in /opt/conda/lib/python3.10/site-packages (from requests->torchvision>=0.5.0->segmentation_models_pytorch==0.3.3) (3.1.0)\r\n",
      "Requirement already satisfied: idna<4,>=2.5 in /opt/conda/lib/python3.10/site-packages (from requests->torchvision>=0.5.0->segmentation_models_pytorch==0.3.3) (3.4)\r\n",
      "Requirement already satisfied: urllib3<3,>=1.21.1 in /opt/conda/lib/python3.10/site-packages (from requests->torchvision>=0.5.0->segmentation_models_pytorch==0.3.3) (1.26.15)\r\n",
      "Requirement already satisfied: certifi>=2017.4.17 in /opt/conda/lib/python3.10/site-packages (from requests->torchvision>=0.5.0->segmentation_models_pytorch==0.3.3) (2023.7.22)\r\n",
      "Requirement already satisfied: MarkupSafe>=2.0 in /opt/conda/lib/python3.10/site-packages (from jinja2->torch->efficientnet-pytorch==0.7.1->segmentation_models_pytorch==0.3.3) (2.1.3)\r\n",
      "Requirement already satisfied: mpmath>=0.19 in /opt/conda/lib/python3.10/site-packages (from sympy->torch->efficientnet-pytorch==0.7.1->segmentation_models_pytorch==0.3.3) (1.3.0)\r\n",
      "Building wheels for collected packages: efficientnet-pytorch, pretrainedmodels, antlr4-python3-runtime\r\n",
      "  Building wheel for efficientnet-pytorch (setup.py) ... \u001b[?25l-\b \bdone\r\n",
      "\u001b[?25h  Created wheel for efficientnet-pytorch: filename=efficientnet_pytorch-0.7.1-py3-none-any.whl size=16427 sha256=ff4d01e81c4847934902e1ccf107e6a4f8f266b18c2a11bd163cfa4b66fe4c7d\r\n",
      "  Stored in directory: /root/.cache/pip/wheels/25/42/08/c312f1b741dfff3f2661c53bd056f4f9683cebbb9fe228b1a5\r\n",
      "  Building wheel for pretrainedmodels (setup.py) ... \u001b[?25l-\b \b\\\b \bdone\r\n",
      "\u001b[?25h  Created wheel for pretrainedmodels: filename=pretrainedmodels-0.7.4-py3-none-any.whl size=60945 sha256=f28d75276349dd53bd79fb0aa3f96bfa1f1ebd8ff0aa9e8aaadcb5e758893b23\r\n",
      "  Stored in directory: /root/.cache/pip/wheels/4f/02/1f/a5cd4682c2d04e69a0c748116ed4f366e169592fdf08a72b55\r\n",
      "  Building wheel for antlr4-python3-runtime (setup.py) ... \u001b[?25l-\b \bdone\r\n",
      "\u001b[?25h  Created wheel for antlr4-python3-runtime: filename=antlr4_python3_runtime-4.9.3-py3-none-any.whl size=144554 sha256=10f6933d16bfbf9cc861a591bb64c680a6aaffd4cab4fec3ca07cfdb1d3f13ef\r\n",
      "  Stored in directory: /root/.cache/pip/wheels/bf/5c/34/cdd531f2be0298fb3c66c4db6dff71ec7385fc1fd2d5d60436\r\n",
      "Successfully built efficientnet-pytorch pretrainedmodels antlr4-python3-runtime\r\n",
      "Installing collected packages: antlr4-python3-runtime, omegaconf, munch, hydra-core, efficientnet-pytorch, timm, pretrainedmodels, segmentation_models_pytorch\r\n",
      "  Attempting uninstall: timm\r\n",
      "    Found existing installation: timm 0.9.7\r\n",
      "    Uninstalling timm-0.9.7:\r\n",
      "      Successfully uninstalled timm-0.9.7\r\n",
      "Successfully installed antlr4-python3-runtime-4.9.3 efficientnet-pytorch-0.7.1 hydra-core-1.3.2 munch-4.0.0 omegaconf-2.3.0 pretrainedmodels-0.7.4 segmentation_models_pytorch-0.3.3 timm-0.9.2\r\n"
     ]
    }
   ],
   "source": [
    "!pip install hydra-core segmentation_models_pytorch==0.3.3 --no-index --find-links=/kaggle/input/ex-library"
   ]
  },
  {
   "cell_type": "code",
   "execution_count": 2,
   "id": "c6ee839e",
   "metadata": {
    "execution": {
     "iopub.execute_input": "2023-12-04T08:32:17.520396Z",
     "iopub.status.busy": "2023-12-04T08:32:17.520089Z",
     "iopub.status.idle": "2023-12-04T08:32:17.526262Z",
     "shell.execute_reply": "2023-12-04T08:32:17.525422Z"
    },
    "papermill": {
     "duration": 0.015298,
     "end_time": "2023-12-04T08:32:17.528360",
     "exception": false,
     "start_time": "2023-12-04T08:32:17.513062",
     "status": "completed"
    },
    "tags": []
   },
   "outputs": [
    {
     "name": "stdout",
     "output_type": "stream",
     "text": [
      "[Errno 2] No such file or directory: '/kaggle/input/TomuToyoshima/kaggle-child-mind-institute-detect-sleep-states'\n",
      "/kaggle/working\n"
     ]
    }
   ],
   "source": [
    "%cd /kaggle/input/TomuToyoshima/kaggle-child-mind-institute-detect-sleep-states"
   ]
  },
  {
   "cell_type": "markdown",
   "id": "8b18a41d",
   "metadata": {
    "papermill": {
     "duration": 0.005665,
     "end_time": "2023-12-04T08:32:17.539766",
     "exception": false,
     "start_time": "2023-12-04T08:32:17.534101",
     "status": "completed"
    },
    "tags": []
   },
   "source": [
    "# Config"
   ]
  },
  {
   "cell_type": "code",
   "execution_count": 3,
   "id": "22c72ff4",
   "metadata": {
    "execution": {
     "iopub.execute_input": "2023-12-04T08:32:17.552503Z",
     "iopub.status.busy": "2023-12-04T08:32:17.552237Z",
     "iopub.status.idle": "2023-12-04T08:32:17.556246Z",
     "shell.execute_reply": "2023-12-04T08:32:17.555451Z"
    },
    "papermill": {
     "duration": 0.012461,
     "end_time": "2023-12-04T08:32:17.558225",
     "exception": false,
     "start_time": "2023-12-04T08:32:17.545764",
     "status": "completed"
    },
    "tags": []
   },
   "outputs": [],
   "source": [
    "# Config\n",
    "DURATION = 5760\n",
    "DOWNSAMPLE_RATE = 2\n",
    "PHASE = 'test'\n",
    "EXP_NAME = 'exp001'"
   ]
  },
  {
   "cell_type": "markdown",
   "id": "c6fc09fa",
   "metadata": {
    "papermill": {
     "duration": 0.005681,
     "end_time": "2023-12-04T08:32:17.569608",
     "exception": false,
     "start_time": "2023-12-04T08:32:17.563927",
     "status": "completed"
    },
    "tags": []
   },
   "source": [
    "# Preprocess"
   ]
  },
  {
   "cell_type": "code",
   "execution_count": 4,
   "id": "8776db82",
   "metadata": {
    "execution": {
     "iopub.execute_input": "2023-12-04T08:32:17.581968Z",
     "iopub.status.busy": "2023-12-04T08:32:17.581678Z",
     "iopub.status.idle": "2023-12-04T08:32:18.620387Z",
     "shell.execute_reply": "2023-12-04T08:32:18.619443Z"
    },
    "papermill": {
     "duration": 1.047199,
     "end_time": "2023-12-04T08:32:18.622450",
     "exception": false,
     "start_time": "2023-12-04T08:32:17.575251",
     "status": "completed"
    },
    "tags": []
   },
   "outputs": [
    {
     "name": "stdout",
     "output_type": "stream",
     "text": [
      "/opt/conda/bin/python: Error while finding module specification for 'run.prepare_data' (ModuleNotFoundError: No module named 'run')\r\n"
     ]
    }
   ],
   "source": [
    "!python -m run.prepare_data dir=kaggle phase=$PHASE"
   ]
  },
  {
   "cell_type": "markdown",
   "id": "58c1811b",
   "metadata": {
    "papermill": {
     "duration": 0.005871,
     "end_time": "2023-12-04T08:32:18.634717",
     "exception": false,
     "start_time": "2023-12-04T08:32:18.628846",
     "status": "completed"
    },
    "tags": []
   },
   "source": [
    "# Inference"
   ]
  },
  {
   "cell_type": "code",
   "execution_count": 5,
   "id": "81bd5b66",
   "metadata": {
    "execution": {
     "iopub.execute_input": "2023-12-04T08:32:18.647857Z",
     "iopub.status.busy": "2023-12-04T08:32:18.647531Z",
     "iopub.status.idle": "2023-12-04T08:32:19.675208Z",
     "shell.execute_reply": "2023-12-04T08:32:19.674271Z"
    },
    "papermill": {
     "duration": 1.036867,
     "end_time": "2023-12-04T08:32:19.677620",
     "exception": false,
     "start_time": "2023-12-04T08:32:18.640753",
     "status": "completed"
    },
    "tags": []
   },
   "outputs": [
    {
     "name": "stdout",
     "output_type": "stream",
     "text": [
      "/opt/conda/bin/python: Error while finding module specification for 'run.inference' (ModuleNotFoundError: No module named 'run')\r\n"
     ]
    }
   ],
   "source": [
    "!python -m run.inference\\\n",
    "    dir=kaggle\\\n",
    "    model.encoder_name=resnet34\\\n",
    "    model.encoder_weights=null\\\n",
    "    num_workers=2\\\n",
    "    exp_name=$EXP_NAME\\\n",
    "    weight.run_name=single\\\n",
    "    batch_size=64\\\n",
    "    duration=$DURATION\\\n",
    "    downsample_rate=$DOWNSAMPLE_RATE\\\n",
    "    post_process.score_th=0.005\\\n",
    "    post_process.distance=40\\\n",
    "    phase=$PHASE"
   ]
  },
  {
   "cell_type": "code",
   "execution_count": 6,
   "id": "f8914682",
   "metadata": {
    "execution": {
     "iopub.execute_input": "2023-12-04T08:32:19.691323Z",
     "iopub.status.busy": "2023-12-04T08:32:19.691025Z",
     "iopub.status.idle": "2023-12-04T08:32:21.596966Z",
     "shell.execute_reply": "2023-12-04T08:32:21.595886Z"
    },
    "papermill": {
     "duration": 1.915757,
     "end_time": "2023-12-04T08:32:21.599692",
     "exception": false,
     "start_time": "2023-12-04T08:32:19.683935",
     "status": "completed"
    },
    "tags": []
   },
   "outputs": [],
   "source": [
    "# いらないファイル、フォルダ削除\n",
    "!rm -rf /kaggle/working/processed_data\n",
    "!rm -rf /kaggle/working/output"
   ]
  },
  {
   "cell_type": "code",
   "execution_count": null,
   "id": "7fe8e86c",
   "metadata": {
    "papermill": {
     "duration": 0.005829,
     "end_time": "2023-12-04T08:32:21.611960",
     "exception": false,
     "start_time": "2023-12-04T08:32:21.606131",
     "status": "completed"
    },
    "tags": []
   },
   "outputs": [],
   "source": []
  }
 ],
 "metadata": {
  "kaggle": {
   "accelerator": "nvidiaTeslaT4",
   "dataSources": [
    {
     "databundleVersionId": 6589269,
     "sourceId": 53666,
     "sourceType": "competition"
    },
    {
     "datasetId": 3785250,
     "sourceId": 6879418,
     "sourceType": "datasetVersion"
    },
    {
     "datasetId": 4008173,
     "sourceId": 6975427,
     "sourceType": "datasetVersion"
    },
    {
     "sourceId": 144358840,
     "sourceType": "kernelVersion"
    },
    {
     "sourceId": 149254949,
     "sourceType": "kernelVersion"
    }
   ],
   "dockerImageVersionId": 30559,
   "isGpuEnabled": true,
   "isInternetEnabled": false,
   "language": "python",
   "sourceType": "notebook"
  },
  "kernelspec": {
   "display_name": "Python 3",
   "language": "python",
   "name": "python3"
  },
  "language_info": {
   "codemirror_mode": {
    "name": "ipython",
    "version": 3
   },
   "file_extension": ".py",
   "mimetype": "text/x-python",
   "name": "python",
   "nbconvert_exporter": "python",
   "pygments_lexer": "ipython3",
   "version": "3.10.12"
  },
  "papermill": {
   "default_parameters": {},
   "duration": 27.738853,
   "end_time": "2023-12-04T08:32:21.836362",
   "environment_variables": {},
   "exception": null,
   "input_path": "__notebook__.ipynb",
   "output_path": "__notebook__.ipynb",
   "parameters": {},
   "start_time": "2023-12-04T08:31:54.097509",
   "version": "2.4.0"
  }
 },
 "nbformat": 4,
 "nbformat_minor": 5
}
