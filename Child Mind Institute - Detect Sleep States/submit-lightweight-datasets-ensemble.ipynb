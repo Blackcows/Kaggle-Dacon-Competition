{
 "cells": [
  {
   "cell_type": "markdown",
   "id": "b33dbda7",
   "metadata": {
    "papermill": {
     "duration": 0.006259,
     "end_time": "2023-10-14T11:07:21.261048",
     "exception": false,
     "start_time": "2023-10-14T11:07:21.254789",
     "status": "completed"
    },
    "tags": []
   },
   "source": [
    "\n",
    "## Importing data"
   ]
  },
  {
   "cell_type": "code",
   "execution_count": 1,
   "id": "3cdc648f",
   "metadata": {
    "execution": {
     "iopub.execute_input": "2023-10-14T11:07:21.274907Z",
     "iopub.status.busy": "2023-10-14T11:07:21.274100Z",
     "iopub.status.idle": "2023-10-14T11:07:25.266180Z",
     "shell.execute_reply": "2023-10-14T11:07:25.265168Z"
    },
    "papermill": {
     "duration": 4.001694,
     "end_time": "2023-10-14T11:07:25.268461",
     "exception": false,
     "start_time": "2023-10-14T11:07:21.266767",
     "status": "completed"
    },
    "tags": []
   },
   "outputs": [],
   "source": [
    "import numpy as np\n",
    "import pandas as pd\n",
    "from itertools import groupby\n",
    "from sklearn.model_selection import train_test_split\n",
    "from pandas.api.types import is_datetime64_ns_dtype\n",
    "\n",
    "from sklearn.ensemble import RandomForestClassifier\n",
    "from sklearn.ensemble import GradientBoostingClassifier\n",
    "import lightgbm as lgb\n",
    "from imblearn.under_sampling import RandomUnderSampler\n",
    "from joblib import Parallel, delayed\n",
    "import gc\n",
    "import plotly.express as px\n",
    "\n",
    "import warnings\n",
    "warnings.filterwarnings(\"ignore\")\n",
    "\n",
    "from metric import score # Import event detection ap score function\n",
    "\n",
    "# These are variables to be used by the score function\n",
    "column_names = {\n",
    "    'series_id_column_name': 'series_id',\n",
    "    'time_column_name': 'step',\n",
    "    'event_column_name': 'event',\n",
    "    'score_column_name': 'score',\n",
    "}\n",
    "\n",
    "tolerances = {\n",
    "    'onset': [12, 36, 60, 90, 120, 150, 180, 240, 300, 360], \n",
    "    'wakeup': [12, 36, 60, 90, 120, 150, 180, 240, 300, 360]\n",
    "}"
   ]
  },
  {
   "cell_type": "code",
   "execution_count": 2,
   "id": "d45b3bee",
   "metadata": {
    "execution": {
     "iopub.execute_input": "2023-10-14T11:07:25.282141Z",
     "iopub.status.busy": "2023-10-14T11:07:25.281163Z",
     "iopub.status.idle": "2023-10-14T11:07:25.289956Z",
     "shell.execute_reply": "2023-10-14T11:07:25.288912Z"
    },
    "papermill": {
     "duration": 0.017731,
     "end_time": "2023-10-14T11:07:25.292013",
     "exception": false,
     "start_time": "2023-10-14T11:07:25.274282",
     "status": "completed"
    },
    "tags": []
   },
   "outputs": [],
   "source": [
    "def reduce_mem_usage(df):\n",
    "    \n",
    "    \"\"\" \n",
    "    Iterate through all numeric columns of a dataframe and modify the data type\n",
    "    to reduce memory usage.        \n",
    "    \"\"\"\n",
    "    \n",
    "    for col in df.columns:\n",
    "        col_type = df[col].dtype\n",
    "\n",
    "        if col_type != object and not is_datetime64_ns_dtype(df[col]) and not 'category':\n",
    "            c_min = df[col].min()\n",
    "            c_max = df[col].max()\n",
    "            if str(col_type)[:3] == 'int':\n",
    "                if c_min > np.iinfo(np.int8).min and c_max < np.iinfo(np.int8).max:\n",
    "                    df[col] = df[col].astype(np.int8)\n",
    "                elif c_min > np.iinfo(np.int16).min and c_max < np.iinfo(np.int16).max:\n",
    "                    df[col] = df[col].astype(np.int16)\n",
    "                elif c_min > np.iinfo(np.int32).min and c_max < np.iinfo(np.int32).max:\n",
    "                    df[col] = df[col].astype(np.int32)\n",
    "                elif c_min > np.iinfo(np.int64).min and c_max < np.iinfo(np.int64).max:\n",
    "                    df[col] = df[col].astype(np.int32)  \n",
    "            else:\n",
    "                df[col] = df[col].astype(np.float16)\n",
    "        \n",
    "    return df"
   ]
  },
  {
   "cell_type": "code",
   "execution_count": 3,
   "id": "d4805b2f",
   "metadata": {
    "execution": {
     "iopub.execute_input": "2023-10-14T11:07:25.305864Z",
     "iopub.status.busy": "2023-10-14T11:07:25.305493Z",
     "iopub.status.idle": "2023-10-14T11:07:25.317730Z",
     "shell.execute_reply": "2023-10-14T11:07:25.316554Z"
    },
    "papermill": {
     "duration": 0.021517,
     "end_time": "2023-10-14T11:07:25.319785",
     "exception": false,
     "start_time": "2023-10-14T11:07:25.298268",
     "status": "completed"
    },
    "tags": []
   },
   "outputs": [],
   "source": [
    "def feat_eng(df):\n",
    "    \n",
    "    df['series_id'] = df['series_id'].astype('category')\n",
    "    df['timestamp'] = pd.to_datetime(df['timestamp']).apply(lambda t: t.tz_localize(None))\n",
    "    df['hour'] = df[\"timestamp\"].dt.hour\n",
    "    \n",
    "    df.sort_values(['timestamp'], inplace=True)\n",
    "    df.set_index('timestamp', inplace=True)\n",
    "    \n",
    "    df['lids'] = np.maximum(0., df['enmo'] - 0.02)\n",
    "    df['lids'] = df['lids'].rolling(f'{120*5}s', center=True, min_periods=1).agg('sum')\n",
    "    df['lids'] = 100 / (df['lids'] + 1)\n",
    "    df['lids'] = df['lids'].rolling(f'{360*5}s', center=True, min_periods=1).agg('mean').astype(np.float32)\n",
    "    \n",
    "    df[\"enmo\"] = (df[\"enmo\"]*1000).astype(np.int16)\n",
    "    df[\"anglez\"] = df[\"anglez\"].astype(np.int16)\n",
    "    df[\"anglezdiffabs\"] = df[\"anglez\"].diff().abs().astype(np.float32)\n",
    "    \n",
    "    for col in ['enmo', 'anglez', 'anglezdiffabs']:\n",
    "        \n",
    "        # periods in seconds        \n",
    "        periods = [60, 360, 720, 3600] \n",
    "        \n",
    "        for n in periods:\n",
    "            \n",
    "            rol_args = {'window':f'{n+5}s', 'min_periods':10, 'center':True}\n",
    "            \n",
    "            for agg in ['median', 'mean', 'max', 'min', 'var']:\n",
    "                df[f'{col}_{agg}_{n}'] = df[col].rolling(**rol_args).agg(agg).astype(np.float32).values\n",
    "                gc.collect()\n",
    "            \n",
    "            if n == max(periods):\n",
    "                df[f'{col}_mad_{n}'] = (df[col] - df[f'{col}_median_{n}']).abs().rolling(**rol_args).median().astype(np.float32)\n",
    "            \n",
    "            df[f'{col}_amplit_{n}'] = df[f'{col}_max_{n}']-df[f'{col}_min_{n}']\n",
    "            df[f'{col}_amplit_{n}_min'] = df[f'{col}_amplit_{n}'].rolling(**rol_args).min().astype(np.float32).values\n",
    "            \n",
    "#             if col in ['enmo', 'anglez']:\n",
    "            df[f'{col}_diff_{n}_max'] = df[f'{col}_max_{n}'].diff().abs().rolling(**rol_args).max().astype(np.float32)\n",
    "            df[f'{col}_diff_{n}_mean'] = df[f'{col}_max_{n}'].diff().abs().rolling(**rol_args).mean().astype(np.float32)\n",
    "\n",
    "    \n",
    "            gc.collect()\n",
    "    \n",
    "    df.reset_index(inplace=True)\n",
    "    df.dropna(inplace=True)\n",
    "\n",
    "    return df"
   ]
  },
  {
   "cell_type": "code",
   "execution_count": 4,
   "id": "9a2e8aa1",
   "metadata": {
    "execution": {
     "iopub.execute_input": "2023-10-14T11:07:25.333246Z",
     "iopub.status.busy": "2023-10-14T11:07:25.332277Z",
     "iopub.status.idle": "2023-10-14T11:07:25.338009Z",
     "shell.execute_reply": "2023-10-14T11:07:25.337337Z"
    },
    "papermill": {
     "duration": 0.014434,
     "end_time": "2023-10-14T11:07:25.339871",
     "exception": false,
     "start_time": "2023-10-14T11:07:25.325437",
     "status": "completed"
    },
    "tags": []
   },
   "outputs": [],
   "source": [
    "file = '/kaggle/input/zzzs-lightweight-training-dataset-target/Zzzs_train.parquet'\n",
    "\n",
    "def feat_eng_by_id(idx):\n",
    "    \n",
    "    from warnings import simplefilter \n",
    "    simplefilter(action=\"ignore\", category=pd.errors.PerformanceWarning)\n",
    "    \n",
    "    df  = pd.read_parquet(file, filters=[('series_id','=',idx)])\n",
    "    df['awake'] = df['awake'].astype(np.int8)\n",
    "    df = feat_eng(df)\n",
    "    \n",
    "    return df"
   ]
  },
  {
   "cell_type": "markdown",
   "id": "c613a09b",
   "metadata": {
    "papermill": {
     "duration": 0.005473,
     "end_time": "2023-10-14T11:07:25.350950",
     "exception": false,
     "start_time": "2023-10-14T11:07:25.345477",
     "status": "completed"
    },
    "tags": []
   },
   "source": [
    "## Training and validating "
   ]
  },
  {
   "cell_type": "code",
   "execution_count": 5,
   "id": "bc01a412",
   "metadata": {
    "execution": {
     "iopub.execute_input": "2023-10-14T11:07:25.364012Z",
     "iopub.status.busy": "2023-10-14T11:07:25.363288Z",
     "iopub.status.idle": "2023-10-14T11:07:27.475284Z",
     "shell.execute_reply": "2023-10-14T11:07:27.473887Z"
    },
    "papermill": {
     "duration": 2.120895,
     "end_time": "2023-10-14T11:07:27.477303",
     "exception": false,
     "start_time": "2023-10-14T11:07:25.356408",
     "status": "completed"
    },
    "tags": []
   },
   "outputs": [
    {
     "name": "stdout",
     "output_type": "stream",
     "text": [
      "35\n"
     ]
    }
   ],
   "source": [
    "DEV = False\n",
    "\n",
    "series_id  = pd.read_parquet(file, columns=['series_id'])\n",
    "series_id = series_id.series_id.unique()\n",
    "\n",
    "print(len(series_id))\n",
    "\n",
    "if DEV:\n",
    "    series_id = series_id[::10]"
   ]
  },
  {
   "cell_type": "code",
   "execution_count": 6,
   "id": "ee6c5586",
   "metadata": {
    "execution": {
     "iopub.execute_input": "2023-10-14T11:07:27.491367Z",
     "iopub.status.busy": "2023-10-14T11:07:27.490524Z",
     "iopub.status.idle": "2023-10-14T11:07:27.495447Z",
     "shell.execute_reply": "2023-10-14T11:07:27.494602Z"
    },
    "papermill": {
     "duration": 0.013795,
     "end_time": "2023-10-14T11:07:27.497376",
     "exception": false,
     "start_time": "2023-10-14T11:07:27.483581",
     "status": "completed"
    },
    "tags": []
   },
   "outputs": [],
   "source": [
    "weird_series = ['31011ade7c0a', 'a596ad0b82aa']\n",
    "\n",
    "series_id = [s for s in series_id if s not in weird_series]"
   ]
  },
  {
   "cell_type": "code",
   "execution_count": 7,
   "id": "cf7a2c6d",
   "metadata": {
    "execution": {
     "iopub.execute_input": "2023-10-14T11:07:27.510505Z",
     "iopub.status.busy": "2023-10-14T11:07:27.510165Z",
     "iopub.status.idle": "2023-10-14T11:11:04.733033Z",
     "shell.execute_reply": "2023-10-14T11:11:04.731800Z"
    },
    "papermill": {
     "duration": 217.237948,
     "end_time": "2023-10-14T11:11:04.741132",
     "exception": false,
     "start_time": "2023-10-14T11:07:27.503184",
     "status": "completed"
    },
    "tags": []
   },
   "outputs": [
    {
     "name": "stdout",
     "output_type": "stream",
     "text": [
      "CPU times: user 9.45 s, sys: 25.4 s, total: 34.8 s\n",
      "Wall time: 3min 37s\n"
     ]
    }
   ],
   "source": [
    "%%time\n",
    "\n",
    "train = Parallel(n_jobs=6)(delayed(feat_eng_by_id)(i) for i in series_id)\n",
    "train = pd.concat(train, ignore_index=True)"
   ]
  },
  {
   "cell_type": "code",
   "execution_count": 8,
   "id": "8a6be688",
   "metadata": {
    "execution": {
     "iopub.execute_input": "2023-10-14T11:11:04.754635Z",
     "iopub.status.busy": "2023-10-14T11:11:04.754293Z",
     "iopub.status.idle": "2023-10-14T11:11:04.762098Z",
     "shell.execute_reply": "2023-10-14T11:11:04.760993Z"
    },
    "papermill": {
     "duration": 0.016753,
     "end_time": "2023-10-14T11:11:04.764061",
     "exception": false,
     "start_time": "2023-10-14T11:11:04.747308",
     "status": "completed"
    },
    "tags": []
   },
   "outputs": [
    {
     "data": {
      "text/plain": [
       "60"
      ]
     },
     "execution_count": 8,
     "metadata": {},
     "output_type": "execute_result"
    }
   ],
   "source": [
    "# REDUCE train data by half\n",
    "step=360 if DEV else 60\n",
    "train = train.iloc[::step]\n",
    "step"
   ]
  },
  {
   "cell_type": "code",
   "execution_count": 9,
   "id": "989ab328",
   "metadata": {
    "execution": {
     "iopub.execute_input": "2023-10-14T11:11:04.778092Z",
     "iopub.status.busy": "2023-10-14T11:11:04.777711Z",
     "iopub.status.idle": "2023-10-14T11:11:05.150506Z",
     "shell.execute_reply": "2023-10-14T11:11:05.149297Z"
    },
    "papermill": {
     "duration": 0.381888,
     "end_time": "2023-10-14T11:11:05.152544",
     "exception": false,
     "start_time": "2023-10-14T11:11:04.770656",
     "status": "completed"
    },
    "tags": []
   },
   "outputs": [
    {
     "data": {
      "text/plain": [
       "0"
      ]
     },
     "execution_count": 9,
     "metadata": {},
     "output_type": "execute_result"
    }
   ],
   "source": [
    "drop_cols = ['series_id', 'step', 'timestamp']\n",
    "\n",
    "X, y = train.drop(columns=drop_cols+['awake']), train['awake']\n",
    "\n",
    "gc.collect()"
   ]
  },
  {
   "cell_type": "code",
   "execution_count": 10,
   "id": "6a3ab4aa",
   "metadata": {
    "execution": {
     "iopub.execute_input": "2023-10-14T11:11:05.166673Z",
     "iopub.status.busy": "2023-10-14T11:11:05.166353Z",
     "iopub.status.idle": "2023-10-14T11:11:05.356240Z",
     "shell.execute_reply": "2023-10-14T11:11:05.355030Z"
    },
    "papermill": {
     "duration": 0.199578,
     "end_time": "2023-10-14T11:11:05.358266",
     "exception": false,
     "start_time": "2023-10-14T11:11:05.158688",
     "status": "completed"
    },
    "tags": []
   },
   "outputs": [],
   "source": [
    "if not DEV:\n",
    "    del train\n",
    "    gc.collect()"
   ]
  },
  {
   "cell_type": "markdown",
   "id": "736c531c",
   "metadata": {
    "papermill": {
     "duration": 0.005747,
     "end_time": "2023-10-14T11:11:05.370156",
     "exception": false,
     "start_time": "2023-10-14T11:11:05.364409",
     "status": "completed"
    },
    "tags": []
   },
   "source": [
    "## Ensemble"
   ]
  },
  {
   "cell_type": "code",
   "execution_count": 11,
   "id": "7546dbce",
   "metadata": {
    "execution": {
     "iopub.execute_input": "2023-10-14T11:11:05.383672Z",
     "iopub.status.busy": "2023-10-14T11:11:05.383353Z",
     "iopub.status.idle": "2023-10-14T11:11:05.390754Z",
     "shell.execute_reply": "2023-10-14T11:11:05.389712Z"
    },
    "papermill": {
     "duration": 0.016366,
     "end_time": "2023-10-14T11:11:05.392496",
     "exception": false,
     "start_time": "2023-10-14T11:11:05.376130",
     "status": "completed"
    },
    "tags": []
   },
   "outputs": [],
   "source": [
    "class EnsembleAvgProba():\n",
    "    \n",
    "    def __init__(self, classifiers):\n",
    "        \n",
    "        self.classifiers = classifiers\n",
    "    \n",
    "    def fit(self,X,y):\n",
    "        \n",
    "        for classifier in self.classifiers:                \n",
    "            classifier.fit(X, y)\n",
    "            gc.collect()\n",
    "     \n",
    "    def predict_proba(self, X):\n",
    "        \n",
    "        probs = []\n",
    "        \n",
    "        for m in self.classifiers:\n",
    "            probs.append(m.predict_proba(X))\n",
    "        \n",
    "        probabilities = np.stack(probs)\n",
    "        p = np.mean(probabilities, axis=0)\n",
    "        \n",
    "        return p \n",
    "    \n",
    "    def predict(self, X):\n",
    "        \n",
    "        probs = []\n",
    "        \n",
    "        for m in self.classifiers:\n",
    "            probs.append(m.predict(X))\n",
    "        \n",
    "        probabilities = np.stack(probs)\n",
    "        p = np.mean(probabilities, axis=0)\n",
    "        \n",
    "        return p.round()"
   ]
  },
  {
   "cell_type": "code",
   "execution_count": 12,
   "id": "dd4c4b00",
   "metadata": {
    "execution": {
     "iopub.execute_input": "2023-10-14T11:11:05.405929Z",
     "iopub.status.busy": "2023-10-14T11:11:05.405583Z",
     "iopub.status.idle": "2023-10-14T11:11:05.606784Z",
     "shell.execute_reply": "2023-10-14T11:11:05.605902Z"
    },
    "papermill": {
     "duration": 0.210444,
     "end_time": "2023-10-14T11:11:05.608963",
     "exception": false,
     "start_time": "2023-10-14T11:11:05.398519",
     "status": "completed"
    },
    "tags": []
   },
   "outputs": [],
   "source": [
    "lgb_params1 = {    \n",
    "    'boosting_type':'gbdt',\n",
    "    'num_leaves':31,\n",
    "    'max_depth':6,\n",
    "    'learning_rate':0.03,\n",
    "    'n_estimators':850,\n",
    "    'subsample_for_bin':200000,\n",
    "    'min_child_weight':0.001,\n",
    "    'min_child_samples':20,\n",
    "    'subsample':0.9,\n",
    "#     'colsample_bytree':0.7,\n",
    "    'reg_alpha':0.05,\n",
    "    'reg_lambda':0.05,\n",
    "             }\n",
    "import xgboost as xgb\n",
    "\n",
    "\n",
    "# Training classifier\n",
    "\n",
    "model = EnsembleAvgProba(classifiers=[\n",
    "                    lgb.LGBMClassifier(random_state=42, **lgb_params1),\n",
    "                    GradientBoostingClassifier(n_estimators=100,max_depth=5,min_samples_leaf=300,random_state=42),\n",
    "                    RandomForestClassifier(n_estimators=500, min_samples_leaf=300, random_state=42, n_jobs=-1),\n",
    "                    xgb.XGBClassifier(n_estimators=520,objective=\"binary:logistic\", learning_rate=0.02, max_depth=7, random_state=42)    ]\n",
    "                )"
   ]
  },
  {
   "cell_type": "code",
   "execution_count": 13,
   "id": "0bdb41fb",
   "metadata": {
    "execution": {
     "iopub.execute_input": "2023-10-14T11:11:05.622918Z",
     "iopub.status.busy": "2023-10-14T11:11:05.622558Z",
     "iopub.status.idle": "2023-10-14T11:56:59.002053Z",
     "shell.execute_reply": "2023-10-14T11:56:59.000570Z"
    },
    "papermill": {
     "duration": 2753.39297,
     "end_time": "2023-10-14T11:56:59.008246",
     "exception": false,
     "start_time": "2023-10-14T11:11:05.615276",
     "status": "completed"
    },
    "tags": []
   },
   "outputs": [
    {
     "name": "stdout",
     "output_type": "stream",
     "text": [
      "CPU times: user 47min 37s, sys: 4.67 s, total: 47min 42s\n",
      "Wall time: 45min 53s\n"
     ]
    }
   ],
   "source": [
    "%%time\n",
    "\n",
    "model.fit(X, y)"
   ]
  },
  {
   "cell_type": "markdown",
   "id": "e7cca6e8",
   "metadata": {
    "papermill": {
     "duration": 0.005862,
     "end_time": "2023-10-14T11:56:59.020994",
     "exception": false,
     "start_time": "2023-10-14T11:56:59.015132",
     "status": "completed"
    },
    "tags": []
   },
   "source": [
    "### Plot feature importance"
   ]
  },
  {
   "cell_type": "code",
   "execution_count": 14,
   "id": "140d797d",
   "metadata": {
    "execution": {
     "iopub.execute_input": "2023-10-14T11:56:59.034885Z",
     "iopub.status.busy": "2023-10-14T11:56:59.034506Z",
     "iopub.status.idle": "2023-10-14T11:56:59.069526Z",
     "shell.execute_reply": "2023-10-14T11:56:59.068380Z"
    },
    "papermill": {
     "duration": 0.044878,
     "end_time": "2023-10-14T11:56:59.071923",
     "exception": false,
     "start_time": "2023-10-14T11:56:59.027045",
     "status": "completed"
    },
    "tags": []
   },
   "outputs": [],
   "source": [
    "feats = []\n",
    "\n",
    "feat_imp = model.classifiers[0].booster_.feature_importance(importance_type='gain')\n",
    "feat_imp = pd.Series(model.classifiers[0].feature_importances_, index=X.columns).sort_values()\n",
    "feats.append(feat_imp)\n",
    "\n",
    "for m in model.classifiers[1:]:\n",
    "    feat_imp = pd.Series(m.feature_importances_, index=X.columns).sort_values()\n",
    "    feats.append(feat_imp)"
   ]
  },
  {
   "cell_type": "code",
   "execution_count": 15,
   "id": "b92fa68d",
   "metadata": {
    "execution": {
     "iopub.execute_input": "2023-10-14T11:56:59.086140Z",
     "iopub.status.busy": "2023-10-14T11:56:59.085716Z",
     "iopub.status.idle": "2023-10-14T11:57:00.826550Z",
     "shell.execute_reply": "2023-10-14T11:57:00.825540Z"
    },
    "papermill": {
     "duration": 1.750464,
     "end_time": "2023-10-14T11:57:00.828643",
     "exception": false,
     "start_time": "2023-10-14T11:56:59.078179",
     "status": "completed"
    },
    "tags": []
   },
   "outputs": [
    {
     "name": "stdout",
     "output_type": "stream",
     "text": [
      "Columns with poor contribution\n",
      "Index(['anglezdiffabs_min_3600', 'anglezdiffabs_min_720',\n",
      "       'anglezdiffabs_amplit_720', 'anglezdiffabs_amplit_3600'],\n",
      "      dtype='object')\n"
     ]
    },
    {
     "data": {
      "text/html": [
       "        <script type=\"text/javascript\">\n",
       "        window.PlotlyConfig = {MathJaxConfig: 'local'};\n",
       "        if (window.MathJax && window.MathJax.Hub && window.MathJax.Hub.Config) {window.MathJax.Hub.Config({SVG: {font: \"STIX-Web\"}});}\n",
       "        if (typeof require !== 'undefined') {\n",
       "        require.undef(\"plotly\");\n",
       "        requirejs.config({\n",
       "            paths: {\n",
       "                'plotly': ['https://cdn.plot.ly/plotly-2.24.1.min']\n",
       "            }\n",
       "        });\n",
       "        require(['plotly'], function(Plotly) {\n",
       "            window._Plotly = Plotly;\n",
       "        });\n",
       "        }\n",
       "        </script>\n",
       "        "
      ]
     },
     "metadata": {},
     "output_type": "display_data"
    },
    {
     "data": {
      "text/html": [
       "<div>                            <div id=\"a7f67b22-0c1c-4e1a-a0f8-396e981f2c7e\" class=\"plotly-graph-div\" style=\"height:525px; width:100%;\"></div>            <script type=\"text/javascript\">                require([\"plotly\"], function(Plotly) {                    window.PLOTLYENV=window.PLOTLYENV || {};                                    if (document.getElementById(\"a7f67b22-0c1c-4e1a-a0f8-396e981f2c7e\")) {                    Plotly.newPlot(                        \"a7f67b22-0c1c-4e1a-a0f8-396e981f2c7e\",                        [{\"alignmentgroup\":\"True\",\"hovertemplate\":\"x=%{x}\\u003cbr\\u003ey=%{y}\\u003cextra\\u003e\\u003c\\u002fextra\\u003e\",\"legendgroup\":\"\",\"marker\":{\"color\":\"#636efa\",\"pattern\":{\"shape\":\"\"}},\"name\":\"\",\"offsetgroup\":\"\",\"orientation\":\"h\",\"showlegend\":false,\"textposition\":\"auto\",\"x\":[0.0,0.0,0.00002935790214353386,0.00033771946908677766,0.001533942972691015,0.5000317157835835,0.7500660376054872,1.258389180469904,1.500005681982012,2.0011086052973153,2.502834524691398,2.751585326801358,3.5000401532558616,3.500310640933881,3.501425615628026,4.0093779042793205,4.2501096007667885,4.500079495539983,5.250039240494834,5.252195656737148,6.250090187673136,6.252966290140224,6.512813051174441,6.750107925352948,7.00004134563042,7.000228578459904,8.250118461036944,8.750059252468404,8.75010170382045,8.750107392541508,9.000557857611847,9.500041768468833,9.500050947754268,9.500050988156994,9.500092656628802,10.000044749608929,10.000050937575363,10.000400861052572,10.004513399916096,10.250044082975528,10.250051200016411,10.250086529146866,10.25009324793422,11.000035155831686,11.000087776783953,11.502428859971266,12.00014804255479,12.000544561342679,12.250087183606874,12.500046484362558,12.750071944909154,13.250040738541879,13.75012437108366,13.750143309593982,14.500055926156541,14.50017292439375,15.004174758449663,18.50011156866143,18.763337085194973,19.5001207467868,19.750978148134706,20.000119103729,20.250154630932183,20.25017612320843,21.516026604697714,21.520199082221538,22.750172681454817,22.75083805132853,26.500081450177014,27.2500986257072,27.500059979645943,27.50074896732446,29.000220922901416,29.250117740243592,31.009088444463377,31.25019490411216,31.500097592460325,31.50043044295285,34.00024718279339,36.25056156192723,40.500064921878455,41.00029667361245,42.50075410355997,42.52620565625591,44.233266672901784,49.004719054570366,49.76604097862804,52.00068660339851,59.75196289979671,62.75290893949906,71.0041980160502,79.75015618394595,83.75052278177819,100.50020811323463,113.50466434731538,117.50022689388585,120.00025854683,120.25211735446258,125.5002243075944,126.50505661384118,126.7547638039874,130.00022712287964,134.75020530849082,143.0157847878487,169.5004423786535,180.25034121908658,182.75035984104633,209.75061601086952,225.2507681934889,232.28099268736113,246.00071148766924,281.00048998032986,281.25025562374657,307.2505458271094,367.506305480921,503.00809310812053],\"xaxis\":\"x\",\"y\":[\"anglezdiffabs_min_3600\",\"anglezdiffabs_min_720\",\"anglezdiffabs_amplit_720\",\"anglezdiffabs_amplit_3600\",\"anglezdiffabs_amplit_60\",\"anglezdiffabs_min_60\",\"anglezdiffabs_amplit_360\",\"anglezdiffabs_median_60\",\"anglezdiffabs_min_360\",\"anglezdiffabs_var_60\",\"anglez_amplit_60\",\"enmo_amplit_60\",\"anglez_diff_60_max\",\"anglezdiffabs\",\"anglezdiffabs_max_60\",\"anglezdiffabs_amplit_60_min\",\"anglezdiffabs_var_360\",\"anglezdiffabs_max_360\",\"anglez_diff_60_mean\",\"anglez_var_60\",\"anglez_var_360\",\"enmo_var_60\",\"anglez_amplit_60_min\",\"enmo_max_60\",\"anglez_diff_360_mean\",\"anglez_mean_60\",\"anglezdiffabs_diff_60_mean\",\"anglez_diff_360_max\",\"anglez_amplit_360\",\"enmo_amplit_360\",\"anglez_median_60\",\"enmo_median_60\",\"enmo_diff_360_max\",\"anglezdiffabs_diff_60_max\",\"enmo_min_720\",\"enmo_diff_360_mean\",\"enmo_diff_60_max\",\"enmo_amplit_720\",\"anglezdiffabs_mean_360\",\"anglezdiffabs_diff_360_mean\",\"enmo_mean_60\",\"enmo_diff_60_mean\",\"enmo_max_360\",\"enmo\",\"anglezdiffabs_max_720\",\"anglezdiffabs_mean_60\",\"anglez_var_720\",\"enmo_var_360\",\"enmo_median_360\",\"anglezdiffabs_diff_360_max\",\"enmo_min_60\",\"anglez_diff_720_mean\",\"anglezdiffabs_var_720\",\"enmo_max_720\",\"anglez_amplit_720\",\"anglez_mean_360\",\"anglezdiffabs_amplit_360_min\",\"enmo_min_360\",\"enmo_amplit_60_min\",\"anglez_max_360\",\"enmo_var_720\",\"anglez_mean_720\",\"enmo_mean_360\",\"anglez_max_60\",\"anglezdiffabs_median_360\",\"anglezdiffabs_median_720\",\"enmo_median_720\",\"anglez\",\"anglezdiffabs_diff_720_mean\",\"anglez_max_720\",\"anglez_diff_720_max\",\"anglezdiffabs_amplit_720_min\",\"anglez_median_360\",\"enmo_diff_720_mean\",\"anglez_amplit_360_min\",\"anglez_min_360\",\"enmo_diff_720_max\",\"anglez_min_60\",\"enmo_min_3600\",\"anglez_median_720\",\"anglezdiffabs_diff_720_max\",\"enmo_mean_720\",\"anglez_amplit_720_min\",\"anglezdiffabs_median_3600\",\"anglezdiffabs_mad_3600\",\"enmo_amplit_360_min\",\"anglezdiffabs_mean_720\",\"anglez_min_720\",\"enmo_amplit_3600\",\"enmo_amplit_720_min\",\"lids\",\"anglez_amplit_3600\",\"enmo_median_3600\",\"anglez_mean_3600\",\"enmo_mad_3600\",\"anglez_var_3600\",\"anglez_mad_3600\",\"enmo_max_3600\",\"anglezdiffabs_diff_3600_mean\",\"enmo_mean_3600\",\"anglezdiffabs_var_3600\",\"anglez_diff_3600_mean\",\"anglez_max_3600\",\"enmo_var_3600\",\"anglez_median_3600\",\"anglez_diff_3600_max\",\"anglez_min_3600\",\"anglezdiffabs_max_3600\",\"enmo_diff_3600_mean\",\"anglezdiffabs_mean_3600\",\"enmo_diff_3600_max\",\"anglezdiffabs_amplit_3600_min\",\"anglezdiffabs_diff_3600_max\",\"anglez_amplit_3600_min\",\"enmo_amplit_3600_min\",\"hour\"],\"yaxis\":\"y\",\"type\":\"bar\"}],                        {\"template\":{\"data\":{\"histogram2dcontour\":[{\"type\":\"histogram2dcontour\",\"colorbar\":{\"outlinewidth\":0,\"ticks\":\"\"},\"colorscale\":[[0.0,\"#0d0887\"],[0.1111111111111111,\"#46039f\"],[0.2222222222222222,\"#7201a8\"],[0.3333333333333333,\"#9c179e\"],[0.4444444444444444,\"#bd3786\"],[0.5555555555555556,\"#d8576b\"],[0.6666666666666666,\"#ed7953\"],[0.7777777777777778,\"#fb9f3a\"],[0.8888888888888888,\"#fdca26\"],[1.0,\"#f0f921\"]]}],\"choropleth\":[{\"type\":\"choropleth\",\"colorbar\":{\"outlinewidth\":0,\"ticks\":\"\"}}],\"histogram2d\":[{\"type\":\"histogram2d\",\"colorbar\":{\"outlinewidth\":0,\"ticks\":\"\"},\"colorscale\":[[0.0,\"#0d0887\"],[0.1111111111111111,\"#46039f\"],[0.2222222222222222,\"#7201a8\"],[0.3333333333333333,\"#9c179e\"],[0.4444444444444444,\"#bd3786\"],[0.5555555555555556,\"#d8576b\"],[0.6666666666666666,\"#ed7953\"],[0.7777777777777778,\"#fb9f3a\"],[0.8888888888888888,\"#fdca26\"],[1.0,\"#f0f921\"]]}],\"heatmap\":[{\"type\":\"heatmap\",\"colorbar\":{\"outlinewidth\":0,\"ticks\":\"\"},\"colorscale\":[[0.0,\"#0d0887\"],[0.1111111111111111,\"#46039f\"],[0.2222222222222222,\"#7201a8\"],[0.3333333333333333,\"#9c179e\"],[0.4444444444444444,\"#bd3786\"],[0.5555555555555556,\"#d8576b\"],[0.6666666666666666,\"#ed7953\"],[0.7777777777777778,\"#fb9f3a\"],[0.8888888888888888,\"#fdca26\"],[1.0,\"#f0f921\"]]}],\"heatmapgl\":[{\"type\":\"heatmapgl\",\"colorbar\":{\"outlinewidth\":0,\"ticks\":\"\"},\"colorscale\":[[0.0,\"#0d0887\"],[0.1111111111111111,\"#46039f\"],[0.2222222222222222,\"#7201a8\"],[0.3333333333333333,\"#9c179e\"],[0.4444444444444444,\"#bd3786\"],[0.5555555555555556,\"#d8576b\"],[0.6666666666666666,\"#ed7953\"],[0.7777777777777778,\"#fb9f3a\"],[0.8888888888888888,\"#fdca26\"],[1.0,\"#f0f921\"]]}],\"contourcarpet\":[{\"type\":\"contourcarpet\",\"colorbar\":{\"outlinewidth\":0,\"ticks\":\"\"}}],\"contour\":[{\"type\":\"contour\",\"colorbar\":{\"outlinewidth\":0,\"ticks\":\"\"},\"colorscale\":[[0.0,\"#0d0887\"],[0.1111111111111111,\"#46039f\"],[0.2222222222222222,\"#7201a8\"],[0.3333333333333333,\"#9c179e\"],[0.4444444444444444,\"#bd3786\"],[0.5555555555555556,\"#d8576b\"],[0.6666666666666666,\"#ed7953\"],[0.7777777777777778,\"#fb9f3a\"],[0.8888888888888888,\"#fdca26\"],[1.0,\"#f0f921\"]]}],\"surface\":[{\"type\":\"surface\",\"colorbar\":{\"outlinewidth\":0,\"ticks\":\"\"},\"colorscale\":[[0.0,\"#0d0887\"],[0.1111111111111111,\"#46039f\"],[0.2222222222222222,\"#7201a8\"],[0.3333333333333333,\"#9c179e\"],[0.4444444444444444,\"#bd3786\"],[0.5555555555555556,\"#d8576b\"],[0.6666666666666666,\"#ed7953\"],[0.7777777777777778,\"#fb9f3a\"],[0.8888888888888888,\"#fdca26\"],[1.0,\"#f0f921\"]]}],\"mesh3d\":[{\"type\":\"mesh3d\",\"colorbar\":{\"outlinewidth\":0,\"ticks\":\"\"}}],\"scatter\":[{\"fillpattern\":{\"fillmode\":\"overlay\",\"size\":10,\"solidity\":0.2},\"type\":\"scatter\"}],\"parcoords\":[{\"type\":\"parcoords\",\"line\":{\"colorbar\":{\"outlinewidth\":0,\"ticks\":\"\"}}}],\"scatterpolargl\":[{\"type\":\"scatterpolargl\",\"marker\":{\"colorbar\":{\"outlinewidth\":0,\"ticks\":\"\"}}}],\"bar\":[{\"error_x\":{\"color\":\"#2a3f5f\"},\"error_y\":{\"color\":\"#2a3f5f\"},\"marker\":{\"line\":{\"color\":\"#E5ECF6\",\"width\":0.5},\"pattern\":{\"fillmode\":\"overlay\",\"size\":10,\"solidity\":0.2}},\"type\":\"bar\"}],\"scattergeo\":[{\"type\":\"scattergeo\",\"marker\":{\"colorbar\":{\"outlinewidth\":0,\"ticks\":\"\"}}}],\"scatterpolar\":[{\"type\":\"scatterpolar\",\"marker\":{\"colorbar\":{\"outlinewidth\":0,\"ticks\":\"\"}}}],\"histogram\":[{\"marker\":{\"pattern\":{\"fillmode\":\"overlay\",\"size\":10,\"solidity\":0.2}},\"type\":\"histogram\"}],\"scattergl\":[{\"type\":\"scattergl\",\"marker\":{\"colorbar\":{\"outlinewidth\":0,\"ticks\":\"\"}}}],\"scatter3d\":[{\"type\":\"scatter3d\",\"line\":{\"colorbar\":{\"outlinewidth\":0,\"ticks\":\"\"}},\"marker\":{\"colorbar\":{\"outlinewidth\":0,\"ticks\":\"\"}}}],\"scattermapbox\":[{\"type\":\"scattermapbox\",\"marker\":{\"colorbar\":{\"outlinewidth\":0,\"ticks\":\"\"}}}],\"scatterternary\":[{\"type\":\"scatterternary\",\"marker\":{\"colorbar\":{\"outlinewidth\":0,\"ticks\":\"\"}}}],\"scattercarpet\":[{\"type\":\"scattercarpet\",\"marker\":{\"colorbar\":{\"outlinewidth\":0,\"ticks\":\"\"}}}],\"carpet\":[{\"aaxis\":{\"endlinecolor\":\"#2a3f5f\",\"gridcolor\":\"white\",\"linecolor\":\"white\",\"minorgridcolor\":\"white\",\"startlinecolor\":\"#2a3f5f\"},\"baxis\":{\"endlinecolor\":\"#2a3f5f\",\"gridcolor\":\"white\",\"linecolor\":\"white\",\"minorgridcolor\":\"white\",\"startlinecolor\":\"#2a3f5f\"},\"type\":\"carpet\"}],\"table\":[{\"cells\":{\"fill\":{\"color\":\"#EBF0F8\"},\"line\":{\"color\":\"white\"}},\"header\":{\"fill\":{\"color\":\"#C8D4E3\"},\"line\":{\"color\":\"white\"}},\"type\":\"table\"}],\"barpolar\":[{\"marker\":{\"line\":{\"color\":\"#E5ECF6\",\"width\":0.5},\"pattern\":{\"fillmode\":\"overlay\",\"size\":10,\"solidity\":0.2}},\"type\":\"barpolar\"}],\"pie\":[{\"automargin\":true,\"type\":\"pie\"}]},\"layout\":{\"autotypenumbers\":\"strict\",\"colorway\":[\"#636efa\",\"#EF553B\",\"#00cc96\",\"#ab63fa\",\"#FFA15A\",\"#19d3f3\",\"#FF6692\",\"#B6E880\",\"#FF97FF\",\"#FECB52\"],\"font\":{\"color\":\"#2a3f5f\"},\"hovermode\":\"closest\",\"hoverlabel\":{\"align\":\"left\"},\"paper_bgcolor\":\"white\",\"plot_bgcolor\":\"#E5ECF6\",\"polar\":{\"bgcolor\":\"#E5ECF6\",\"angularaxis\":{\"gridcolor\":\"white\",\"linecolor\":\"white\",\"ticks\":\"\"},\"radialaxis\":{\"gridcolor\":\"white\",\"linecolor\":\"white\",\"ticks\":\"\"}},\"ternary\":{\"bgcolor\":\"#E5ECF6\",\"aaxis\":{\"gridcolor\":\"white\",\"linecolor\":\"white\",\"ticks\":\"\"},\"baxis\":{\"gridcolor\":\"white\",\"linecolor\":\"white\",\"ticks\":\"\"},\"caxis\":{\"gridcolor\":\"white\",\"linecolor\":\"white\",\"ticks\":\"\"}},\"coloraxis\":{\"colorbar\":{\"outlinewidth\":0,\"ticks\":\"\"}},\"colorscale\":{\"sequential\":[[0.0,\"#0d0887\"],[0.1111111111111111,\"#46039f\"],[0.2222222222222222,\"#7201a8\"],[0.3333333333333333,\"#9c179e\"],[0.4444444444444444,\"#bd3786\"],[0.5555555555555556,\"#d8576b\"],[0.6666666666666666,\"#ed7953\"],[0.7777777777777778,\"#fb9f3a\"],[0.8888888888888888,\"#fdca26\"],[1.0,\"#f0f921\"]],\"sequentialminus\":[[0.0,\"#0d0887\"],[0.1111111111111111,\"#46039f\"],[0.2222222222222222,\"#7201a8\"],[0.3333333333333333,\"#9c179e\"],[0.4444444444444444,\"#bd3786\"],[0.5555555555555556,\"#d8576b\"],[0.6666666666666666,\"#ed7953\"],[0.7777777777777778,\"#fb9f3a\"],[0.8888888888888888,\"#fdca26\"],[1.0,\"#f0f921\"]],\"diverging\":[[0,\"#8e0152\"],[0.1,\"#c51b7d\"],[0.2,\"#de77ae\"],[0.3,\"#f1b6da\"],[0.4,\"#fde0ef\"],[0.5,\"#f7f7f7\"],[0.6,\"#e6f5d0\"],[0.7,\"#b8e186\"],[0.8,\"#7fbc41\"],[0.9,\"#4d9221\"],[1,\"#276419\"]]},\"xaxis\":{\"gridcolor\":\"white\",\"linecolor\":\"white\",\"ticks\":\"\",\"title\":{\"standoff\":15},\"zerolinecolor\":\"white\",\"automargin\":true,\"zerolinewidth\":2},\"yaxis\":{\"gridcolor\":\"white\",\"linecolor\":\"white\",\"ticks\":\"\",\"title\":{\"standoff\":15},\"zerolinecolor\":\"white\",\"automargin\":true,\"zerolinewidth\":2},\"scene\":{\"xaxis\":{\"backgroundcolor\":\"#E5ECF6\",\"gridcolor\":\"white\",\"linecolor\":\"white\",\"showbackground\":true,\"ticks\":\"\",\"zerolinecolor\":\"white\",\"gridwidth\":2},\"yaxis\":{\"backgroundcolor\":\"#E5ECF6\",\"gridcolor\":\"white\",\"linecolor\":\"white\",\"showbackground\":true,\"ticks\":\"\",\"zerolinecolor\":\"white\",\"gridwidth\":2},\"zaxis\":{\"backgroundcolor\":\"#E5ECF6\",\"gridcolor\":\"white\",\"linecolor\":\"white\",\"showbackground\":true,\"ticks\":\"\",\"zerolinecolor\":\"white\",\"gridwidth\":2}},\"shapedefaults\":{\"line\":{\"color\":\"#2a3f5f\"}},\"annotationdefaults\":{\"arrowcolor\":\"#2a3f5f\",\"arrowhead\":0,\"arrowwidth\":1},\"geo\":{\"bgcolor\":\"white\",\"landcolor\":\"#E5ECF6\",\"subunitcolor\":\"white\",\"showland\":true,\"showlakes\":true,\"lakecolor\":\"white\"},\"title\":{\"x\":0.05},\"mapbox\":{\"style\":\"light\"}}},\"xaxis\":{\"anchor\":\"y\",\"domain\":[0.0,1.0],\"title\":{\"text\":\"x\"}},\"yaxis\":{\"anchor\":\"x\",\"domain\":[0.0,1.0],\"title\":{\"text\":\"y\"}},\"legend\":{\"tracegroupgap\":0},\"margin\":{\"t\":60},\"barmode\":\"relative\"},                        {\"responsive\": true}                    ).then(function(){\n",
       "                            \n",
       "var gd = document.getElementById('a7f67b22-0c1c-4e1a-a0f8-396e981f2c7e');\n",
       "var x = new MutationObserver(function (mutations, observer) {{\n",
       "        var display = window.getComputedStyle(gd).display;\n",
       "        if (!display || display === 'none') {{\n",
       "            console.log([gd, 'removed!']);\n",
       "            Plotly.purge(gd);\n",
       "            observer.disconnect();\n",
       "        }}\n",
       "}});\n",
       "\n",
       "// Listen for the removal of the full notebook cells\n",
       "var notebookContainer = gd.closest('#notebook-container');\n",
       "if (notebookContainer) {{\n",
       "    x.observe(notebookContainer, {childList: true});\n",
       "}}\n",
       "\n",
       "// Listen for the clearing of the current output cell\n",
       "var outputEl = gd.closest('.output');\n",
       "if (outputEl) {{\n",
       "    x.observe(outputEl, {childList: true});\n",
       "}}\n",
       "\n",
       "                        })                };                });            </script>        </div>"
      ]
     },
     "metadata": {},
     "output_type": "display_data"
    }
   ],
   "source": [
    "feat_imp = pd.Series(pd.concat(feats, axis=1).mean(axis=1), index=feats[0].index).sort_values()\n",
    "print('Columns with poor contribution', feat_imp[feat_imp<0.001].index, sep='\\n')\n",
    "fig = px.bar(x=feat_imp, y=feat_imp.index, orientation='h')\n",
    "fig.show()"
   ]
  },
  {
   "cell_type": "code",
   "execution_count": 16,
   "id": "2c4c0cfe",
   "metadata": {
    "execution": {
     "iopub.execute_input": "2023-10-14T11:57:00.843784Z",
     "iopub.status.busy": "2023-10-14T11:57:00.843192Z",
     "iopub.status.idle": "2023-10-14T11:57:00.854107Z",
     "shell.execute_reply": "2023-10-14T11:57:00.853132Z"
    },
    "papermill": {
     "duration": 0.020686,
     "end_time": "2023-10-14T11:57:00.856132",
     "exception": false,
     "start_time": "2023-10-14T11:57:00.835446",
     "status": "completed"
    },
    "tags": []
   },
   "outputs": [
    {
     "data": {
      "text/plain": [
       "anglezdiffabs_min_3600       0.000000\n",
       "anglezdiffabs_min_720        0.000000\n",
       "anglezdiffabs_amplit_720     0.000029\n",
       "anglezdiffabs_amplit_3600    0.000338\n",
       "anglezdiffabs_amplit_60      0.001534\n",
       "anglezdiffabs_min_60         0.500032\n",
       "anglezdiffabs_amplit_360     0.750066\n",
       "anglezdiffabs_median_60      1.258389\n",
       "anglezdiffabs_min_360        1.500006\n",
       "anglezdiffabs_var_60         2.001109\n",
       "dtype: float64"
      ]
     },
     "execution_count": 16,
     "metadata": {},
     "output_type": "execute_result"
    }
   ],
   "source": [
    "feat_imp.sort_values().head(10)"
   ]
  },
  {
   "cell_type": "code",
   "execution_count": 17,
   "id": "b1a88328",
   "metadata": {
    "execution": {
     "iopub.execute_input": "2023-10-14T11:57:00.871641Z",
     "iopub.status.busy": "2023-10-14T11:57:00.871258Z",
     "iopub.status.idle": "2023-10-14T11:57:01.003400Z",
     "shell.execute_reply": "2023-10-14T11:57:01.001774Z"
    },
    "papermill": {
     "duration": 0.142804,
     "end_time": "2023-10-14T11:57:01.005735",
     "exception": false,
     "start_time": "2023-10-14T11:57:00.862931",
     "status": "completed"
    },
    "tags": []
   },
   "outputs": [
    {
     "data": {
      "text/plain": [
       "63"
      ]
     },
     "execution_count": 17,
     "metadata": {},
     "output_type": "execute_result"
    }
   ],
   "source": [
    "# del X, y\n",
    "gc.collect()"
   ]
  },
  {
   "cell_type": "markdown",
   "id": "b462fc4e",
   "metadata": {
    "papermill": {
     "duration": 0.00675,
     "end_time": "2023-10-14T11:57:01.020992",
     "exception": false,
     "start_time": "2023-10-14T11:57:01.014242",
     "status": "completed"
    },
    "tags": []
   },
   "source": [
    "## Inference"
   ]
  },
  {
   "cell_type": "code",
   "execution_count": 18,
   "id": "e546547d",
   "metadata": {
    "execution": {
     "iopub.execute_input": "2023-10-14T11:57:01.036131Z",
     "iopub.status.busy": "2023-10-14T11:57:01.035752Z",
     "iopub.status.idle": "2023-10-14T11:57:01.045952Z",
     "shell.execute_reply": "2023-10-14T11:57:01.044907Z"
    },
    "papermill": {
     "duration": 0.020362,
     "end_time": "2023-10-14T11:57:01.048068",
     "exception": false,
     "start_time": "2023-10-14T11:57:01.027706",
     "status": "completed"
    },
    "tags": []
   },
   "outputs": [],
   "source": [
    "def get_events(idx, classifier, file='test_series.parquet') :\n",
    "    \n",
    "    test  = pd.read_parquet(f'/kaggle/input/child-mind-institute-detect-sleep-states/{file}',\n",
    "                    filters=[('series_id','=',idx)])\n",
    "    test = feat_eng(test)\n",
    "    X_test = test.drop(columns=drop_cols)\n",
    "    test = test[drop_cols]\n",
    "\n",
    "    preds, probs = classifier.predict(X_test), classifier.predict_proba(X_test)[:, 1]\n",
    "    \n",
    "    test['prediction'] = preds\n",
    "    test['prediction'] = test['prediction'].rolling(360+1, center=True).median()\n",
    "    test['probability'] = probs\n",
    "    \n",
    "    test = test[test['prediction']!=2]\n",
    "    \n",
    "    test.loc[test['prediction']==0, 'probability'] = 1-test.loc[test['prediction']==0, 'probability']\n",
    "    test['score'] = test['probability'].rolling(60*12*5, center=True, min_periods=10).mean().bfill().ffill()\n",
    "\n",
    "    \n",
    "    test['pred_diff'] = test['prediction'].diff()\n",
    "    \n",
    "    test['event'] = test['pred_diff'].replace({1:'wakeup', -1:'onset', 0:np.nan})\n",
    "    \n",
    "    test_wakeup = test[test['event']=='wakeup'].groupby(test['timestamp'].dt.date).agg('first')\n",
    "    test_onset = test[test['event']=='onset'].groupby(test['timestamp'].dt.date).agg('last')\n",
    "    test = pd.concat([test_wakeup, test_onset], ignore_index=True).sort_values('timestamp')\n",
    "\n",
    "    return test"
   ]
  },
  {
   "cell_type": "code",
   "execution_count": 19,
   "id": "5a8a8d68",
   "metadata": {
    "execution": {
     "iopub.execute_input": "2023-10-14T11:57:01.063490Z",
     "iopub.status.busy": "2023-10-14T11:57:01.062946Z",
     "iopub.status.idle": "2023-10-14T11:57:28.348927Z",
     "shell.execute_reply": "2023-10-14T11:57:28.347809Z"
    },
    "papermill": {
     "duration": 27.296349,
     "end_time": "2023-10-14T11:57:28.351409",
     "exception": false,
     "start_time": "2023-10-14T11:57:01.055060",
     "status": "completed"
    },
    "tags": []
   },
   "outputs": [],
   "source": [
    "cols_sub = ['series_id','step','event','score']\n",
    "\n",
    "series_id  = pd.read_parquet('/kaggle/input/child-mind-institute-detect-sleep-states/test_series.parquet', columns=['series_id'])\n",
    "series_id = series_id.series_id.unique()\n",
    "\n",
    "tests = []\n",
    "\n",
    "for idx in series_id: \n",
    "\n",
    "    test = get_events(idx, model)\n",
    "    tests.append(test[cols_sub])"
   ]
  },
  {
   "cell_type": "markdown",
   "id": "4daa9997",
   "metadata": {
    "papermill": {
     "duration": 0.006512,
     "end_time": "2023-10-14T11:57:28.365202",
     "exception": false,
     "start_time": "2023-10-14T11:57:28.358690",
     "status": "completed"
    },
    "tags": []
   },
   "source": [
    "## Submit"
   ]
  },
  {
   "cell_type": "code",
   "execution_count": 20,
   "id": "6ba6d0bb",
   "metadata": {
    "execution": {
     "iopub.execute_input": "2023-10-14T11:57:28.380262Z",
     "iopub.status.busy": "2023-10-14T11:57:28.379901Z",
     "iopub.status.idle": "2023-10-14T11:57:28.396889Z",
     "shell.execute_reply": "2023-10-14T11:57:28.395885Z"
    },
    "papermill": {
     "duration": 0.026919,
     "end_time": "2023-10-14T11:57:28.398714",
     "exception": false,
     "start_time": "2023-10-14T11:57:28.371795",
     "status": "completed"
    },
    "tags": []
   },
   "outputs": [
    {
     "data": {
      "text/html": [
       "<div>\n",
       "<style scoped>\n",
       "    .dataframe tbody tr th:only-of-type {\n",
       "        vertical-align: middle;\n",
       "    }\n",
       "\n",
       "    .dataframe tbody tr th {\n",
       "        vertical-align: top;\n",
       "    }\n",
       "\n",
       "    .dataframe thead th {\n",
       "        text-align: right;\n",
       "    }\n",
       "</style>\n",
       "<table border=\"1\" class=\"dataframe\">\n",
       "  <thead>\n",
       "    <tr style=\"text-align: right;\">\n",
       "      <th></th>\n",
       "      <th>row_id</th>\n",
       "      <th>series_id</th>\n",
       "      <th>step</th>\n",
       "      <th>event</th>\n",
       "      <th>score</th>\n",
       "    </tr>\n",
       "  </thead>\n",
       "  <tbody>\n",
       "  </tbody>\n",
       "</table>\n",
       "</div>"
      ],
      "text/plain": [
       "Empty DataFrame\n",
       "Columns: [row_id, series_id, step, event, score]\n",
       "Index: []"
      ]
     },
     "execution_count": 20,
     "metadata": {},
     "output_type": "execute_result"
    }
   ],
   "source": [
    "submission = pd.concat(tests, ignore_index=True).reset_index(names='row_id')\n",
    "submission.to_csv('submission.csv', index=False)\n",
    "submission"
   ]
  },
  {
   "cell_type": "markdown",
   "id": "33204537",
   "metadata": {
    "papermill": {
     "duration": 0.006661,
     "end_time": "2023-10-14T11:57:28.412274",
     "exception": false,
     "start_time": "2023-10-14T11:57:28.405613",
     "status": "completed"
    },
    "tags": []
   },
   "source": [
    "## ** Previous **"
   ]
  },
  {
   "cell_type": "code",
   "execution_count": 21,
   "id": "cc364b1a",
   "metadata": {
    "_kg_hide-input": true,
    "execution": {
     "iopub.execute_input": "2023-10-14T11:57:28.427671Z",
     "iopub.status.busy": "2023-10-14T11:57:28.427326Z",
     "iopub.status.idle": "2023-10-14T11:57:28.431568Z",
     "shell.execute_reply": "2023-10-14T11:57:28.430732Z"
    },
    "papermill": {
     "duration": 0.014405,
     "end_time": "2023-10-14T11:57:28.433494",
     "exception": false,
     "start_time": "2023-10-14T11:57:28.419089",
     "status": "completed"
    },
    "tags": []
   },
   "outputs": [],
   "source": [
    "# from keras.layers import LSTM,GRU,Dense,Dropout,Activation,Embedding,Flatten,Bidirectional,MaxPooling2D,Conv1D,SpatialDropout1D,MaxPooling1D\n",
    "# import tensorflow as tf\n",
    "# from tensorflow import keras\n",
    "# from tensorflow.keras import layers\n",
    "\n",
    "# maxlen =37\n",
    "# trunc_type='post'\n",
    "\n",
    "# oov_tok = \"<OOV>\"\n",
    "# vocab_size = 300"
   ]
  },
  {
   "cell_type": "code",
   "execution_count": 22,
   "id": "91564cee",
   "metadata": {
    "execution": {
     "iopub.execute_input": "2023-10-14T11:57:28.448717Z",
     "iopub.status.busy": "2023-10-14T11:57:28.448402Z",
     "iopub.status.idle": "2023-10-14T11:57:28.453768Z",
     "shell.execute_reply": "2023-10-14T11:57:28.452919Z"
    },
    "papermill": {
     "duration": 0.015407,
     "end_time": "2023-10-14T11:57:28.455682",
     "exception": false,
     "start_time": "2023-10-14T11:57:28.440275",
     "status": "completed"
    },
    "tags": []
   },
   "outputs": [],
   "source": [
    "# class TransformerBlock(layers.Layer):\n",
    "#     def __init__(self, embed_dim, num_heads, ff_dim, rate=0.1):\n",
    "#         super().__init__()\n",
    "#         self.att = layers.MultiHeadAttention(num_heads=num_heads, key_dim=embed_dim)\n",
    "#         self.ffn = keras.Sequential(\n",
    "#             [layers.Dense(ff_dim, activation=\"relu\"), layers.Dense(embed_dim),]\n",
    "#         )\n",
    "#         self.layernorm1 = layers.LayerNormalization(epsilon=1e-6)\n",
    "#         self.layernorm2 = layers.LayerNormalization(epsilon=1e-6)\n",
    "        \n",
    "#         self.dropout1 = layers.Dropout(rate)\n",
    "#         self.dropout2 = layers.Dropout(rate)\n",
    "\n",
    "#     def call(self, inputs, training):\n",
    "#         attn_output = self.att(inputs, inputs)\n",
    "#         attn_output = self.dropout1(attn_output, training=training)\n",
    "#         out1 = self.layernorm1(inputs + attn_output)\n",
    "#         ffn_output = self.ffn(out1)\n",
    "#         ffn_output = self.dropout2(ffn_output, training=training)\n",
    "#         return self.layernorm2(out1 + ffn_output)\n",
    "# class TokenAndPositionEmbedding(layers.Layer):\n",
    "#     def __init__(self, maxlen, vocab_size, embed_dim):\n",
    "#         super().__init__()\n",
    "#         self.token_emb = layers.Embedding(input_dim=vocab_size, output_dim=embed_dim)\n",
    "#         self.pos_emb = layers.Embedding(input_dim=maxlen, output_dim=embed_dim)\n",
    "\n",
    "#     def call(self, x):\n",
    "#         maxlen = tf.shape(x)[-1]\n",
    "#         positions = tf.range(start=0, limit=maxlen, delta=1)\n",
    "#         positions = self.pos_emb(positions)\n",
    "#         x = self.token_emb(x)\n",
    "#         return x + positions\n",
    "# embed_dim = 32  # Embedding size for each token\n",
    "# num_heads = 2  # Number of attention heads\n",
    "# ff_dim = 32  # Hidden layer size in feed forward network inside transformer\n",
    "\n",
    "# inputs = layers.Input(shape=(maxlen,))\n",
    "# embedding_layer = TokenAndPositionEmbedding(maxlen, vocab_size, embed_dim)\n",
    "# x = embedding_layer(inputs)\n",
    "# transformer_block = TransformerBlock(embed_dim, num_heads, ff_dim)\n",
    "# x = transformer_block(x)\n",
    "# x=layers.Bidirectional(LSTM(64, return_sequences=True))(x)\n",
    "# x = layers.GlobalAveragePooling1D()(x)\n",
    "# x = layers.Dropout(0.1)(x)\n",
    "# x = layers.Dense(20, activation=\"relu\")(x)\n",
    "# x = layers.Dropout(0.1)(x)\n",
    "# outputs = layers.Dense(1, activation=\"sigmoid\")(x)\n",
    "\n",
    "# model = keras.Model(inputs=inputs, outputs=outputs)"
   ]
  },
  {
   "cell_type": "code",
   "execution_count": 23,
   "id": "1ccdaf57",
   "metadata": {
    "execution": {
     "iopub.execute_input": "2023-10-14T11:57:28.470751Z",
     "iopub.status.busy": "2023-10-14T11:57:28.470435Z",
     "iopub.status.idle": "2023-10-14T11:57:28.473646Z",
     "shell.execute_reply": "2023-10-14T11:57:28.472899Z"
    },
    "papermill": {
     "duration": 0.012995,
     "end_time": "2023-10-14T11:57:28.475380",
     "exception": false,
     "start_time": "2023-10-14T11:57:28.462385",
     "status": "completed"
    },
    "tags": []
   },
   "outputs": [],
   "source": [
    "# model.summary()\n",
    "# model.compile(loss=tf.keras.losses.BinaryCrossentropy(),optimizer=tf.keras.optimizers.RMSprop(1e-3),metrics=['accuracy'])"
   ]
  },
  {
   "cell_type": "code",
   "execution_count": 24,
   "id": "0fdd30f2",
   "metadata": {
    "execution": {
     "iopub.execute_input": "2023-10-14T11:57:28.490763Z",
     "iopub.status.busy": "2023-10-14T11:57:28.490437Z",
     "iopub.status.idle": "2023-10-14T11:57:28.494792Z",
     "shell.execute_reply": "2023-10-14T11:57:28.493927Z"
    },
    "papermill": {
     "duration": 0.014285,
     "end_time": "2023-10-14T11:57:28.496627",
     "exception": false,
     "start_time": "2023-10-14T11:57:28.482342",
     "status": "completed"
    },
    "tags": []
   },
   "outputs": [],
   "source": [
    "# from tensorflow.keras.callbacks import EarlyStopping,ReduceLROnPlateau\n",
    "\n",
    "# pocket = EarlyStopping(monitor='val_exact_matched_accuracy', min_delta=0.001,\n",
    "#                        patience=10, verbose=1, mode='max', \n",
    "#                        restore_best_weights = True)\n",
    "# reduce_lr = ReduceLROnPlateau(monitor = 'val_accuracy', factor = 0.3, patience = 2, min_delta = 0.001,\n",
    "#                               mode='auto',verbose=1)\n",
    "# history=model.fit(xtrain,ytrain,epochs=50,batch_size=256,validation_data=(xtest,ytest),callbacks=[pocket,reduce_lr])\n",
    "# # history = pd.DataFrame(history.history)"
   ]
  }
 ],
 "metadata": {
  "kernelspec": {
   "display_name": "Python 3",
   "language": "python",
   "name": "python3"
  },
  "language_info": {
   "codemirror_mode": {
    "name": "ipython",
    "version": 3
   },
   "file_extension": ".py",
   "mimetype": "text/x-python",
   "name": "python",
   "nbconvert_exporter": "python",
   "pygments_lexer": "ipython3",
   "version": "3.10.12"
  },
  "papermill": {
   "default_parameters": {},
   "duration": 3013.847237,
   "end_time": "2023-10-14T11:57:32.029158",
   "environment_variables": {},
   "exception": null,
   "input_path": "__notebook__.ipynb",
   "output_path": "__notebook__.ipynb",
   "parameters": {},
   "start_time": "2023-10-14T11:07:18.181921",
   "version": "2.4.0"
  }
 },
 "nbformat": 4,
 "nbformat_minor": 5
}
