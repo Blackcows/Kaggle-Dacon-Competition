{
 "cells": [
  {
   "cell_type": "markdown",
   "id": "b2d1353c",
   "metadata": {
    "papermill": {
     "duration": 0.008146,
     "end_time": "2023-12-04T08:33:57.455729",
     "exception": false,
     "start_time": "2023-12-04T08:33:57.447583",
     "status": "completed"
    },
    "tags": []
   },
   "source": [
    "See the following repositories for details  \n",
    "https://github.com/tubo213/kaggle-child-mind-institute-detect-sleep-states"
   ]
  },
  {
   "cell_type": "markdown",
   "id": "dfcdd314",
   "metadata": {
    "papermill": {
     "duration": 0.007705,
     "end_time": "2023-12-04T08:33:57.471194",
     "exception": false,
     "start_time": "2023-12-04T08:33:57.463489",
     "status": "completed"
    },
    "tags": []
   },
   "source": [
    "# Install additional libraries"
   ]
  },
  {
   "cell_type": "code",
   "execution_count": 1,
   "id": "6e0a1720",
   "metadata": {
    "execution": {
     "iopub.execute_input": "2023-12-04T08:33:57.487294Z",
     "iopub.status.busy": "2023-12-04T08:33:57.487018Z",
     "iopub.status.idle": "2023-12-04T08:34:18.551158Z",
     "shell.execute_reply": "2023-12-04T08:34:18.550050Z"
    },
    "papermill": {
     "duration": 21.074898,
     "end_time": "2023-12-04T08:34:18.553598",
     "exception": false,
     "start_time": "2023-12-04T08:33:57.478700",
     "status": "completed"
    },
    "tags": []
   },
   "outputs": [
    {
     "name": "stdout",
     "output_type": "stream",
     "text": [
      "Looking in links: /kaggle/input/ex-library\r\n",
      "Processing /kaggle/input/ex-library/hydra_core-1.3.2-py3-none-any.whl\r\n",
      "Processing /kaggle/input/ex-library/segmentation_models_pytorch-0.3.3-py3-none-any.whl\r\n",
      "Requirement already satisfied: torchvision>=0.5.0 in /opt/conda/lib/python3.10/site-packages (from segmentation_models_pytorch==0.3.3) (0.15.1)\r\n",
      "Processing /kaggle/input/ex-library/pretrainedmodels-0.7.4.tar.gz (from segmentation_models_pytorch==0.3.3)\r\n",
      "  Preparing metadata (setup.py) ... \u001b[?25l-\b \bdone\r\n",
      "\u001b[?25hProcessing /kaggle/input/ex-library/efficientnet_pytorch-0.7.1.tar.gz (from segmentation_models_pytorch==0.3.3)\r\n",
      "  Preparing metadata (setup.py) ... \u001b[?25ldone\r\n",
      "\u001b[?25hProcessing /kaggle/input/ex-library/timm-0.9.2-py3-none-any.whl (from segmentation_models_pytorch==0.3.3)\r\n",
      "Requirement already satisfied: tqdm in /opt/conda/lib/python3.10/site-packages (from segmentation_models_pytorch==0.3.3) (4.66.1)\r\n",
      "Requirement already satisfied: pillow in /opt/conda/lib/python3.10/site-packages (from segmentation_models_pytorch==0.3.3) (9.5.0)\r\n",
      "Requirement already satisfied: torch in /opt/conda/lib/python3.10/site-packages (from efficientnet-pytorch==0.7.1->segmentation_models_pytorch==0.3.3) (2.0.0)\r\n",
      "Processing /kaggle/input/ex-library/munch-4.0.0-py2.py3-none-any.whl (from pretrainedmodels==0.7.4->segmentation_models_pytorch==0.3.3)\r\n",
      "Requirement already satisfied: pyyaml in /opt/conda/lib/python3.10/site-packages (from timm==0.9.2->segmentation_models_pytorch==0.3.3) (6.0)\r\n",
      "Requirement already satisfied: huggingface-hub in /opt/conda/lib/python3.10/site-packages (from timm==0.9.2->segmentation_models_pytorch==0.3.3) (0.16.4)\r\n",
      "Requirement already satisfied: safetensors in /opt/conda/lib/python3.10/site-packages (from timm==0.9.2->segmentation_models_pytorch==0.3.3) (0.3.3)\r\n",
      "Processing /kaggle/input/ex-library/omegaconf-2.3.0-py3-none-any.whl (from hydra-core)\r\n",
      "Processing /kaggle/input/ex-library/antlr4-python3-runtime-4.9.3.tar.gz (from hydra-core)\r\n",
      "  Preparing metadata (setup.py) ... \u001b[?25ldone\r\n",
      "\u001b[?25hRequirement already satisfied: packaging in /opt/conda/lib/python3.10/site-packages (from hydra-core) (21.3)\r\n",
      "Requirement already satisfied: numpy in /opt/conda/lib/python3.10/site-packages (from torchvision>=0.5.0->segmentation_models_pytorch==0.3.3) (1.23.5)\r\n",
      "Requirement already satisfied: requests in /opt/conda/lib/python3.10/site-packages (from torchvision>=0.5.0->segmentation_models_pytorch==0.3.3) (2.31.0)\r\n",
      "Requirement already satisfied: pyparsing!=3.0.5,>=2.0.2 in /opt/conda/lib/python3.10/site-packages (from packaging->hydra-core) (3.0.9)\r\n",
      "Requirement already satisfied: filelock in /opt/conda/lib/python3.10/site-packages (from torch->efficientnet-pytorch==0.7.1->segmentation_models_pytorch==0.3.3) (3.12.2)\r\n",
      "Requirement already satisfied: typing-extensions in /opt/conda/lib/python3.10/site-packages (from torch->efficientnet-pytorch==0.7.1->segmentation_models_pytorch==0.3.3) (4.6.3)\r\n",
      "Requirement already satisfied: sympy in /opt/conda/lib/python3.10/site-packages (from torch->efficientnet-pytorch==0.7.1->segmentation_models_pytorch==0.3.3) (1.12)\r\n",
      "Requirement already satisfied: networkx in /opt/conda/lib/python3.10/site-packages (from torch->efficientnet-pytorch==0.7.1->segmentation_models_pytorch==0.3.3) (3.1)\r\n",
      "Requirement already satisfied: jinja2 in /opt/conda/lib/python3.10/site-packages (from torch->efficientnet-pytorch==0.7.1->segmentation_models_pytorch==0.3.3) (3.1.2)\r\n",
      "Requirement already satisfied: fsspec in /opt/conda/lib/python3.10/site-packages (from huggingface-hub->timm==0.9.2->segmentation_models_pytorch==0.3.3) (2023.9.0)\r\n",
      "Requirement already satisfied: charset-normalizer<4,>=2 in /opt/conda/lib/python3.10/site-packages (from requests->torchvision>=0.5.0->segmentation_models_pytorch==0.3.3) (3.1.0)\r\n",
      "Requirement already satisfied: idna<4,>=2.5 in /opt/conda/lib/python3.10/site-packages (from requests->torchvision>=0.5.0->segmentation_models_pytorch==0.3.3) (3.4)\r\n",
      "Requirement already satisfied: urllib3<3,>=1.21.1 in /opt/conda/lib/python3.10/site-packages (from requests->torchvision>=0.5.0->segmentation_models_pytorch==0.3.3) (1.26.15)\r\n",
      "Requirement already satisfied: certifi>=2017.4.17 in /opt/conda/lib/python3.10/site-packages (from requests->torchvision>=0.5.0->segmentation_models_pytorch==0.3.3) (2023.7.22)\r\n",
      "Requirement already satisfied: MarkupSafe>=2.0 in /opt/conda/lib/python3.10/site-packages (from jinja2->torch->efficientnet-pytorch==0.7.1->segmentation_models_pytorch==0.3.3) (2.1.3)\r\n",
      "Requirement already satisfied: mpmath>=0.19 in /opt/conda/lib/python3.10/site-packages (from sympy->torch->efficientnet-pytorch==0.7.1->segmentation_models_pytorch==0.3.3) (1.3.0)\r\n",
      "Building wheels for collected packages: efficientnet-pytorch, pretrainedmodels, antlr4-python3-runtime\r\n",
      "  Building wheel for efficientnet-pytorch (setup.py) ... \u001b[?25l-\b \bdone\r\n",
      "\u001b[?25h  Created wheel for efficientnet-pytorch: filename=efficientnet_pytorch-0.7.1-py3-none-any.whl size=16427 sha256=02da62c986dbf1687a1ebcd402f6bd610e794a2e8e12de9a8e41a9b4c0bb0565\r\n",
      "  Stored in directory: /root/.cache/pip/wheels/25/42/08/c312f1b741dfff3f2661c53bd056f4f9683cebbb9fe228b1a5\r\n",
      "  Building wheel for pretrainedmodels (setup.py) ... \u001b[?25l-\b \b\\\b \bdone\r\n",
      "\u001b[?25h  Created wheel for pretrainedmodels: filename=pretrainedmodels-0.7.4-py3-none-any.whl size=60945 sha256=e1b094ad175d5e45af544f251c94534b533f3656cd95fb93f8abb360aafcfab5\r\n",
      "  Stored in directory: /root/.cache/pip/wheels/4f/02/1f/a5cd4682c2d04e69a0c748116ed4f366e169592fdf08a72b55\r\n",
      "  Building wheel for antlr4-python3-runtime (setup.py) ... \u001b[?25l-\b \bdone\r\n",
      "\u001b[?25h  Created wheel for antlr4-python3-runtime: filename=antlr4_python3_runtime-4.9.3-py3-none-any.whl size=144554 sha256=7fa36f5282b92b5e6d4ada84d795035e3805989d805267d9c480ddbd4c2e00ef\r\n",
      "  Stored in directory: /root/.cache/pip/wheels/bf/5c/34/cdd531f2be0298fb3c66c4db6dff71ec7385fc1fd2d5d60436\r\n",
      "Successfully built efficientnet-pytorch pretrainedmodels antlr4-python3-runtime\r\n",
      "Installing collected packages: antlr4-python3-runtime, omegaconf, munch, hydra-core, efficientnet-pytorch, timm, pretrainedmodels, segmentation_models_pytorch\r\n",
      "  Attempting uninstall: timm\r\n",
      "    Found existing installation: timm 0.9.7\r\n",
      "    Uninstalling timm-0.9.7:\r\n",
      "      Successfully uninstalled timm-0.9.7\r\n",
      "Successfully installed antlr4-python3-runtime-4.9.3 efficientnet-pytorch-0.7.1 hydra-core-1.3.2 munch-4.0.0 omegaconf-2.3.0 pretrainedmodels-0.7.4 segmentation_models_pytorch-0.3.3 timm-0.9.2\r\n"
     ]
    }
   ],
   "source": [
    "!pip install hydra-core segmentation_models_pytorch==0.3.3 --no-index --find-links=/kaggle/input/ex-library"
   ]
  },
  {
   "cell_type": "code",
   "execution_count": 2,
   "id": "929bd9ea",
   "metadata": {
    "execution": {
     "iopub.execute_input": "2023-12-04T08:34:18.576228Z",
     "iopub.status.busy": "2023-12-04T08:34:18.575921Z",
     "iopub.status.idle": "2023-12-04T08:34:18.583856Z",
     "shell.execute_reply": "2023-12-04T08:34:18.582895Z"
    },
    "papermill": {
     "duration": 0.021315,
     "end_time": "2023-12-04T08:34:18.585678",
     "exception": false,
     "start_time": "2023-12-04T08:34:18.564363",
     "status": "completed"
    },
    "tags": []
   },
   "outputs": [
    {
     "name": "stdout",
     "output_type": "stream",
     "text": [
      "/kaggle/input/sleep-test/kaggle-child-mind-institute-detect-sleep-states\n"
     ]
    }
   ],
   "source": [
    "%cd /kaggle/input/sleep-test/kaggle-child-mind-institute-detect-sleep-states/"
   ]
  },
  {
   "cell_type": "code",
   "execution_count": 3,
   "id": "8dfc2515",
   "metadata": {
    "execution": {
     "iopub.execute_input": "2023-12-04T08:34:18.608414Z",
     "iopub.status.busy": "2023-12-04T08:34:18.608169Z",
     "iopub.status.idle": "2023-12-04T08:34:18.611825Z",
     "shell.execute_reply": "2023-12-04T08:34:18.611118Z"
    },
    "papermill": {
     "duration": 0.017056,
     "end_time": "2023-12-04T08:34:18.613655",
     "exception": false,
     "start_time": "2023-12-04T08:34:18.596599",
     "status": "completed"
    },
    "tags": []
   },
   "outputs": [],
   "source": [
    "# %cd /kaggle/input/cmi-code/kaggle-child-mind-institute-detect-sleep-states/"
   ]
  },
  {
   "cell_type": "code",
   "execution_count": 4,
   "id": "d08baaab",
   "metadata": {
    "execution": {
     "iopub.execute_input": "2023-12-04T08:34:18.635631Z",
     "iopub.status.busy": "2023-12-04T08:34:18.635165Z",
     "iopub.status.idle": "2023-12-04T08:34:19.601440Z",
     "shell.execute_reply": "2023-12-04T08:34:19.600278Z"
    },
    "papermill": {
     "duration": 0.980261,
     "end_time": "2023-12-04T08:34:19.604084",
     "exception": false,
     "start_time": "2023-12-04T08:34:18.623823",
     "status": "completed"
    },
    "tags": []
   },
   "outputs": [
    {
     "name": "stdout",
     "output_type": "stream",
     "text": [
      "README.md  \u001b[0m\u001b[01;34mdata\u001b[0m/      pyproject.toml         requirements.lock  \u001b[01;34msrc\u001b[0m/\r\n",
      "\u001b[01;34mbin\u001b[0m/       \u001b[01;34mnotebook\u001b[0m/  requirements-dev.lock  \u001b[01;34mrun\u001b[0m/               \u001b[01;34mtools\u001b[0m/\r\n"
     ]
    }
   ],
   "source": [
    "%ls"
   ]
  },
  {
   "cell_type": "markdown",
   "id": "f85bf2a8",
   "metadata": {
    "papermill": {
     "duration": 0.010785,
     "end_time": "2023-12-04T08:34:19.627272",
     "exception": false,
     "start_time": "2023-12-04T08:34:19.616487",
     "status": "completed"
    },
    "tags": []
   },
   "source": [
    "# Config"
   ]
  },
  {
   "cell_type": "code",
   "execution_count": 5,
   "id": "840b70d2",
   "metadata": {
    "execution": {
     "iopub.execute_input": "2023-12-04T08:34:19.651391Z",
     "iopub.status.busy": "2023-12-04T08:34:19.650923Z",
     "iopub.status.idle": "2023-12-04T08:34:19.656420Z",
     "shell.execute_reply": "2023-12-04T08:34:19.655499Z"
    },
    "papermill": {
     "duration": 0.020018,
     "end_time": "2023-12-04T08:34:19.658725",
     "exception": false,
     "start_time": "2023-12-04T08:34:19.638707",
     "status": "completed"
    },
    "tags": []
   },
   "outputs": [],
   "source": [
    "# Config\n",
    "DURATION = 5760\n",
    "DOWNSAMPLE_RATE = 2\n",
    "PHASE = 'test'\n",
    "EXP_NAME = 'exp001'"
   ]
  },
  {
   "cell_type": "markdown",
   "id": "15fbebd8",
   "metadata": {
    "papermill": {
     "duration": 0.010265,
     "end_time": "2023-12-04T08:34:19.681840",
     "exception": false,
     "start_time": "2023-12-04T08:34:19.671575",
     "status": "completed"
    },
    "tags": []
   },
   "source": [
    "# Preprocess"
   ]
  },
  {
   "cell_type": "code",
   "execution_count": 6,
   "id": "1114054c",
   "metadata": {
    "execution": {
     "iopub.execute_input": "2023-12-04T08:34:19.704748Z",
     "iopub.status.busy": "2023-12-04T08:34:19.703198Z",
     "iopub.status.idle": "2023-12-04T08:34:22.787468Z",
     "shell.execute_reply": "2023-12-04T08:34:22.786490Z"
    },
    "papermill": {
     "duration": 3.097839,
     "end_time": "2023-12-04T08:34:22.789823",
     "exception": false,
     "start_time": "2023-12-04T08:34:19.691984",
     "status": "completed"
    },
    "tags": []
   },
   "outputs": [
    {
     "name": "stdout",
     "output_type": "stream",
     "text": [
      "[0.1GB(+0.0GB):0.1sec] Load series \r\n",
      "  0%|                                                     | 0/3 [00:00<?, ?it/s][2023-12-04 08:34:22,104][numexpr.utils][INFO] - NumExpr defaulting to 4 threads.\r\n",
      "100%|█████████████████████████████████████████████| 3/3 [00:00<00:00,  3.93it/s]\r\n",
      "[0.1GB(+0.1GB):0.8sec] Save features \r\n"
     ]
    }
   ],
   "source": [
    "!python -m run.prepare_data dir=kaggle phase=$PHASE"
   ]
  },
  {
   "cell_type": "markdown",
   "id": "8ad3f88e",
   "metadata": {
    "papermill": {
     "duration": 0.010357,
     "end_time": "2023-12-04T08:34:22.811081",
     "exception": false,
     "start_time": "2023-12-04T08:34:22.800724",
     "status": "completed"
    },
    "tags": []
   },
   "source": [
    "# Inference\n",
    "change seed"
   ]
  },
  {
   "cell_type": "code",
   "execution_count": 7,
   "id": "30282193",
   "metadata": {
    "execution": {
     "iopub.execute_input": "2023-12-04T08:34:22.834698Z",
     "iopub.status.busy": "2023-12-04T08:34:22.834391Z",
     "iopub.status.idle": "2023-12-04T08:35:02.340887Z",
     "shell.execute_reply": "2023-12-04T08:35:02.339953Z"
    },
    "papermill": {
     "duration": 39.521273,
     "end_time": "2023-12-04T08:35:02.343229",
     "exception": false,
     "start_time": "2023-12-04T08:34:22.821956",
     "status": "completed"
    },
    "tags": []
   },
   "outputs": [
    {
     "name": "stdout",
     "output_type": "stream",
     "text": [
      "/opt/conda/lib/python3.10/site-packages/scipy/__init__.py:146: UserWarning: A NumPy version >=1.16.5 and <1.23.0 is required for this version of SciPy (detected version 1.23.5\r\n",
      "  warnings.warn(f\"A NumPy version >={np_minversion} and <{np_maxversion}\"\r\n",
      "[2023-12-04 08:34:44,364][lightning_fabric.utilities.seed][INFO] - Global seed set to 42\r\n",
      "[1.5GB(+0.0GB):0.0sec] load test dataloader \r\n",
      "load weight from \"/kaggle/input/cmi-model/exp001/single/best_model.pth\"\r\n",
      "[3.6GB(+2.1GB):8.3sec] load model \r\n",
      "inference: 100%|██████████████████████████████████| 1/1 [00:06<00:00,  6.30s/it]\r\n",
      "[4.7GB(+1.1GB):6.4sec] inference \r\n",
      "----------\r\n",
      "make npy\r\n",
      "[4.8GB(+0.0GB):0.0sec] make submission \r\n"
     ]
    }
   ],
   "source": [
    "!python -m run.inference\\\n",
    "    dir=kaggle\\\n",
    "    model.encoder_name=resnet34\\\n",
    "    model.encoder_weights=null\\\n",
    "    num_workers=2\\\n",
    "    exp_name=$EXP_NAME\\\n",
    "    weight.run_name=single\\\n",
    "    batch_size=64\\\n",
    "    duration=$DURATION\\\n",
    "    downsample_rate=$DOWNSAMPLE_RATE\\\n",
    "    post_process.score_th=0.005\\\n",
    "    post_process.distance=40\\\n",
    "    phase=$PHASE\\\n",
    "    seed=42"
   ]
  },
  {
   "cell_type": "code",
   "execution_count": 8,
   "id": "ced7f3ed",
   "metadata": {
    "execution": {
     "iopub.execute_input": "2023-12-04T08:35:02.367084Z",
     "iopub.status.busy": "2023-12-04T08:35:02.366567Z",
     "iopub.status.idle": "2023-12-04T08:35:02.370608Z",
     "shell.execute_reply": "2023-12-04T08:35:02.369809Z"
    },
    "papermill": {
     "duration": 0.018052,
     "end_time": "2023-12-04T08:35:02.372488",
     "exception": false,
     "start_time": "2023-12-04T08:35:02.354436",
     "status": "completed"
    },
    "tags": []
   },
   "outputs": [],
   "source": [
    "# # いらないファイル、フォルダ削除\n",
    "# !rm -rf /kaggle/working/processed_data\n",
    "# !rm -rf /kaggle/working/output"
   ]
  },
  {
   "cell_type": "code",
   "execution_count": 9,
   "id": "d158dfe2",
   "metadata": {
    "execution": {
     "iopub.execute_input": "2023-12-04T08:35:02.395261Z",
     "iopub.status.busy": "2023-12-04T08:35:02.394985Z",
     "iopub.status.idle": "2023-12-04T08:35:03.328718Z",
     "shell.execute_reply": "2023-12-04T08:35:03.327627Z"
    },
    "papermill": {
     "duration": 0.947391,
     "end_time": "2023-12-04T08:35:03.330876",
     "exception": false,
     "start_time": "2023-12-04T08:35:02.383485",
     "status": "completed"
    },
    "tags": []
   },
   "outputs": [
    {
     "name": "stdout",
     "output_type": "stream",
     "text": [
      "__notebook__.ipynb  keys_42.txt  preds_42.npy\t submission.csv\r\n",
      "ids_42.npy\t    output\t processed_data\r\n"
     ]
    }
   ],
   "source": [
    "!ls /kaggle/working/"
   ]
  },
  {
   "cell_type": "code",
   "execution_count": 10,
   "id": "13d4d428",
   "metadata": {
    "execution": {
     "iopub.execute_input": "2023-12-04T08:35:03.354390Z",
     "iopub.status.busy": "2023-12-04T08:35:03.354063Z",
     "iopub.status.idle": "2023-12-04T08:35:22.409883Z",
     "shell.execute_reply": "2023-12-04T08:35:22.408789Z"
    },
    "papermill": {
     "duration": 19.070152,
     "end_time": "2023-12-04T08:35:22.412252",
     "exception": false,
     "start_time": "2023-12-04T08:35:03.342100",
     "status": "completed"
    },
    "tags": []
   },
   "outputs": [
    {
     "name": "stdout",
     "output_type": "stream",
     "text": [
      "/opt/conda/lib/python3.10/site-packages/scipy/__init__.py:146: UserWarning: A NumPy version >=1.16.5 and <1.23.0 is required for this version of SciPy (detected version 1.23.5\r\n",
      "  warnings.warn(f\"A NumPy version >={np_minversion} and <{np_maxversion}\"\r\n",
      "[2023-12-04 08:35:14,510][lightning_fabric.utilities.seed][INFO] - Global seed set to 30\r\n",
      "[1.5GB(+0.0GB):0.0sec] load test dataloader \r\n",
      "load weight from \"/kaggle/input/cmi-model/exp001/single/best_model.pth\"\r\n",
      "[3.6GB(+2.1GB):3.4sec] load model \r\n",
      "inference: 100%|██████████████████████████████████| 1/1 [00:02<00:00,  2.18s/it]\r\n",
      "[4.8GB(+1.1GB):2.2sec] inference \r\n",
      "----------\r\n",
      "make npy\r\n",
      "[4.8GB(+0.0GB):0.0sec] make submission \r\n"
     ]
    }
   ],
   "source": [
    "!python -m run.inference\\\n",
    "    dir=kaggle\\\n",
    "    model.encoder_name=resnet34\\\n",
    "    model.encoder_weights=null\\\n",
    "    num_workers=2\\\n",
    "    exp_name=$EXP_NAME\\\n",
    "    weight.run_name=single\\\n",
    "    batch_size=64\\\n",
    "    duration=$DURATION\\\n",
    "    downsample_rate=$DOWNSAMPLE_RATE\\\n",
    "    post_process.score_th=0.005\\\n",
    "    post_process.distance=40\\\n",
    "    phase=$PHASE\\\n",
    "    seed=30"
   ]
  },
  {
   "cell_type": "code",
   "execution_count": 11,
   "id": "72227d75",
   "metadata": {
    "execution": {
     "iopub.execute_input": "2023-12-04T08:35:22.438019Z",
     "iopub.status.busy": "2023-12-04T08:35:22.437648Z",
     "iopub.status.idle": "2023-12-04T08:35:23.380217Z",
     "shell.execute_reply": "2023-12-04T08:35:23.379151Z"
    },
    "papermill": {
     "duration": 0.957727,
     "end_time": "2023-12-04T08:35:23.382403",
     "exception": false,
     "start_time": "2023-12-04T08:35:22.424676",
     "status": "completed"
    },
    "tags": []
   },
   "outputs": [
    {
     "name": "stdout",
     "output_type": "stream",
     "text": [
      "__notebook__.ipynb  ids_42.npy\t keys_42.txt  preds_30.npy  processed_data\r\n",
      "ids_30.npy\t    keys_30.txt  output       preds_42.npy  submission.csv\r\n"
     ]
    }
   ],
   "source": [
    "!ls /kaggle/working/"
   ]
  },
  {
   "cell_type": "markdown",
   "id": "a2051b12",
   "metadata": {
    "papermill": {
     "duration": 0.011344,
     "end_time": "2023-12-04T08:35:23.405573",
     "exception": false,
     "start_time": "2023-12-04T08:35:23.394229",
     "status": "completed"
    },
    "tags": []
   },
   "source": [
    "# Seed ensemble"
   ]
  },
  {
   "cell_type": "code",
   "execution_count": 12,
   "id": "09e7b822",
   "metadata": {
    "execution": {
     "iopub.execute_input": "2023-12-04T08:35:23.429906Z",
     "iopub.status.busy": "2023-12-04T08:35:23.429591Z",
     "iopub.status.idle": "2023-12-04T08:35:23.436099Z",
     "shell.execute_reply": "2023-12-04T08:35:23.435388Z"
    },
    "papermill": {
     "duration": 0.021085,
     "end_time": "2023-12-04T08:35:23.438104",
     "exception": false,
     "start_time": "2023-12-04T08:35:23.417019",
     "status": "completed"
    },
    "tags": []
   },
   "outputs": [],
   "source": [
    "import numpy as np\n",
    "with open(\"/kaggle/working/keys_30.txt\", 'r') as file:\n",
    "    keys_30 = file.read().splitlines()\n",
    "preds_30 = np.load(\"/kaggle/working/preds_30.npy\")"
   ]
  },
  {
   "cell_type": "code",
   "execution_count": 13,
   "id": "48771a2c",
   "metadata": {
    "execution": {
     "iopub.execute_input": "2023-12-04T08:35:23.461708Z",
     "iopub.status.busy": "2023-12-04T08:35:23.461456Z",
     "iopub.status.idle": "2023-12-04T08:35:23.466609Z",
     "shell.execute_reply": "2023-12-04T08:35:23.465798Z"
    },
    "papermill": {
     "duration": 0.019102,
     "end_time": "2023-12-04T08:35:23.468517",
     "exception": false,
     "start_time": "2023-12-04T08:35:23.449415",
     "status": "completed"
    },
    "tags": []
   },
   "outputs": [],
   "source": [
    "with open(\"/kaggle/working/keys_42.txt\", 'r') as file:\n",
    "    keys_42 = file.read().splitlines()\n",
    "preds_42 = np.load(\"/kaggle/working/preds_42.npy\")"
   ]
  },
  {
   "cell_type": "code",
   "execution_count": 14,
   "id": "304a6c1d",
   "metadata": {
    "execution": {
     "iopub.execute_input": "2023-12-04T08:35:23.492033Z",
     "iopub.status.busy": "2023-12-04T08:35:23.491772Z",
     "iopub.status.idle": "2023-12-04T08:35:23.496713Z",
     "shell.execute_reply": "2023-12-04T08:35:23.495843Z"
    },
    "papermill": {
     "duration": 0.018841,
     "end_time": "2023-12-04T08:35:23.498664",
     "exception": false,
     "start_time": "2023-12-04T08:35:23.479823",
     "status": "completed"
    },
    "tags": []
   },
   "outputs": [],
   "source": [
    "preds = (preds_30 + preds_42)/2\n",
    "keys = keys_30"
   ]
  },
  {
   "cell_type": "markdown",
   "id": "fea18032",
   "metadata": {
    "papermill": {
     "duration": 0.011501,
     "end_time": "2023-12-04T08:35:23.521698",
     "exception": false,
     "start_time": "2023-12-04T08:35:23.510197",
     "status": "completed"
    },
    "tags": []
   },
   "source": [
    "# make submission file"
   ]
  },
  {
   "cell_type": "code",
   "execution_count": 15,
   "id": "0ec00f9a",
   "metadata": {
    "execution": {
     "iopub.execute_input": "2023-12-04T08:35:23.545670Z",
     "iopub.status.busy": "2023-12-04T08:35:23.545429Z",
     "iopub.status.idle": "2023-12-04T08:35:23.991028Z",
     "shell.execute_reply": "2023-12-04T08:35:23.990308Z"
    },
    "papermill": {
     "duration": 0.460088,
     "end_time": "2023-12-04T08:35:23.993178",
     "exception": false,
     "start_time": "2023-12-04T08:35:23.533090",
     "status": "completed"
    },
    "tags": []
   },
   "outputs": [
    {
     "name": "stderr",
     "output_type": "stream",
     "text": [
      "/opt/conda/lib/python3.10/site-packages/scipy/__init__.py:146: UserWarning: A NumPy version >=1.16.5 and <1.23.0 is required for this version of SciPy (detected version 1.23.5\n",
      "  warnings.warn(f\"A NumPy version >={np_minversion} and <{np_maxversion}\"\n"
     ]
    }
   ],
   "source": [
    "import polars as pl\n",
    "from scipy.signal import find_peaks\n",
    "\n",
    "def post_process_for_seg(\n",
    "    keys: list[str], preds: np.ndarray, score_th: float = 0.01, distance: int = 5000\n",
    ") -> pl.DataFrame:\n",
    "    \"\"\"make submission dataframe for segmentation task\n",
    "\n",
    "    Args:\n",
    "        keys (list[str]): list of keys. key is \"{series_id}_{chunk_id}\"\n",
    "        preds (np.ndarray): (num_series * num_chunks, duration, 2)\n",
    "        score_th (float, optional): threshold for score. Defaults to 0.5.\n",
    "\n",
    "    Returns:\n",
    "        pl.DataFrame: submission dataframe\n",
    "    \"\"\"\n",
    "    series_ids = np.array(list(map(lambda x: x.split(\"_\")[0], keys)))\n",
    "    unique_series_ids = np.unique(series_ids)\n",
    "\n",
    "    records = []\n",
    "    for series_id in unique_series_ids:\n",
    "        series_idx = np.where(series_ids == series_id)[0]\n",
    "        this_series_preds = preds[series_idx].reshape(-1, 2)\n",
    "\n",
    "        for i, event_name in enumerate([\"onset\", \"wakeup\"]):\n",
    "            this_event_preds = this_series_preds[:, i]\n",
    "            steps = find_peaks(this_event_preds, height=score_th, distance=distance)[0]\n",
    "            scores = this_event_preds[steps]\n",
    "\n",
    "            for step, score in zip(steps, scores):\n",
    "                records.append(\n",
    "                    {\n",
    "                        \"series_id\": series_id,\n",
    "                        \"step\": step,\n",
    "                        \"event\": event_name,\n",
    "                        \"score\": score,\n",
    "                    }\n",
    "                )\n",
    "\n",
    "    if len(records) == 0:  # 一つも予測がない場合はdummyを入れる\n",
    "        records.append(\n",
    "            {\n",
    "                \"series_id\": series_id,\n",
    "                \"step\": 0,\n",
    "                \"event\": \"onset\",\n",
    "                \"score\": 0,\n",
    "            }\n",
    "        )\n",
    "\n",
    "    sub_df = pl.DataFrame(records).sort(by=[\"series_id\", \"step\"])\n",
    "    row_ids = pl.Series(name=\"row_id\", values=np.arange(len(sub_df)))\n",
    "    sub_df = sub_df.with_columns(row_ids).select([\"row_id\", \"series_id\", \"step\", \"event\", \"score\"])\n",
    "    return sub_df"
   ]
  },
  {
   "cell_type": "code",
   "execution_count": 16,
   "id": "c997e419",
   "metadata": {
    "execution": {
     "iopub.execute_input": "2023-12-04T08:35:24.017790Z",
     "iopub.status.busy": "2023-12-04T08:35:24.017522Z",
     "iopub.status.idle": "2023-12-04T08:35:24.022412Z",
     "shell.execute_reply": "2023-12-04T08:35:24.021602Z"
    },
    "papermill": {
     "duration": 0.01916,
     "end_time": "2023-12-04T08:35:24.024221",
     "exception": false,
     "start_time": "2023-12-04T08:35:24.005061",
     "status": "completed"
    },
    "tags": []
   },
   "outputs": [],
   "source": [
    "def make_submission(\n",
    "    keys: list[str], preds: np.ndarray, downsample_rate, score_th, distance\n",
    ") -> pl.DataFrame:\n",
    "    sub_df = post_process_for_seg(\n",
    "        keys,\n",
    "        preds[:, :, [1, 2]],  # type: ignore\n",
    "        score_th=score_th,\n",
    "        distance=distance,  # type: ignore\n",
    "    )\n",
    "\n",
    "    return sub_df"
   ]
  },
  {
   "cell_type": "code",
   "execution_count": 17,
   "id": "86fa827b",
   "metadata": {
    "execution": {
     "iopub.execute_input": "2023-12-04T08:35:24.049569Z",
     "iopub.status.busy": "2023-12-04T08:35:24.048896Z",
     "iopub.status.idle": "2023-12-04T08:35:24.057295Z",
     "shell.execute_reply": "2023-12-04T08:35:24.056412Z"
    },
    "papermill": {
     "duration": 0.023483,
     "end_time": "2023-12-04T08:35:24.059262",
     "exception": false,
     "start_time": "2023-12-04T08:35:24.035779",
     "status": "completed"
    },
    "tags": []
   },
   "outputs": [],
   "source": [
    "sub_df = make_submission(\n",
    "            keys,\n",
    "            preds,\n",
    "            downsample_rate=2,\n",
    "            score_th=0.005,\n",
    "            distance=40,\n",
    "        )"
   ]
  },
  {
   "cell_type": "code",
   "execution_count": 18,
   "id": "9294f3eb",
   "metadata": {
    "execution": {
     "iopub.execute_input": "2023-12-04T08:35:24.127718Z",
     "iopub.status.busy": "2023-12-04T08:35:24.127395Z",
     "iopub.status.idle": "2023-12-04T08:35:24.131516Z",
     "shell.execute_reply": "2023-12-04T08:35:24.130621Z"
    },
    "papermill": {
     "duration": 0.018801,
     "end_time": "2023-12-04T08:35:24.133408",
     "exception": false,
     "start_time": "2023-12-04T08:35:24.114607",
     "status": "completed"
    },
    "tags": []
   },
   "outputs": [],
   "source": [
    "# sub_df = post_process_for_seg(common_ids, preds, score_th=0.005, distance=40)"
   ]
  },
  {
   "cell_type": "code",
   "execution_count": 19,
   "id": "12b76829",
   "metadata": {
    "execution": {
     "iopub.execute_input": "2023-12-04T08:35:24.157509Z",
     "iopub.status.busy": "2023-12-04T08:35:24.157020Z",
     "iopub.status.idle": "2023-12-04T08:35:27.909144Z",
     "shell.execute_reply": "2023-12-04T08:35:27.907948Z"
    },
    "papermill": {
     "duration": 3.766746,
     "end_time": "2023-12-04T08:35:27.911560",
     "exception": false,
     "start_time": "2023-12-04T08:35:24.144814",
     "status": "completed"
    },
    "tags": []
   },
   "outputs": [],
   "source": [
    "# いらないファイル、フォルダ削除\n",
    "!rm -rf /kaggle/working/processed_data\n",
    "!rm -rf /kaggle/working/output\n",
    "!rm -rf /kaggle/working/*.npy\n",
    "!rm -rf /kaggle/working/*.txt"
   ]
  },
  {
   "cell_type": "code",
   "execution_count": 20,
   "id": "484d0451",
   "metadata": {
    "execution": {
     "iopub.execute_input": "2023-12-04T08:35:27.936844Z",
     "iopub.status.busy": "2023-12-04T08:35:27.936549Z",
     "iopub.status.idle": "2023-12-04T08:35:27.941809Z",
     "shell.execute_reply": "2023-12-04T08:35:27.940955Z"
    },
    "papermill": {
     "duration": 0.020156,
     "end_time": "2023-12-04T08:35:27.943735",
     "exception": false,
     "start_time": "2023-12-04T08:35:27.923579",
     "status": "completed"
    },
    "tags": []
   },
   "outputs": [],
   "source": [
    "sub_df.write_csv(\"/kaggle/working/submission.csv\")"
   ]
  },
  {
   "cell_type": "code",
   "execution_count": 21,
   "id": "942f31c0",
   "metadata": {
    "execution": {
     "iopub.execute_input": "2023-12-04T08:35:27.968228Z",
     "iopub.status.busy": "2023-12-04T08:35:27.967976Z",
     "iopub.status.idle": "2023-12-04T08:35:27.971526Z",
     "shell.execute_reply": "2023-12-04T08:35:27.970676Z"
    },
    "papermill": {
     "duration": 0.018072,
     "end_time": "2023-12-04T08:35:27.973354",
     "exception": false,
     "start_time": "2023-12-04T08:35:27.955282",
     "status": "completed"
    },
    "tags": []
   },
   "outputs": [],
   "source": [
    "# !ls /kaggle/working/"
   ]
  },
  {
   "cell_type": "code",
   "execution_count": 22,
   "id": "dc7c3101",
   "metadata": {
    "execution": {
     "iopub.execute_input": "2023-12-04T08:35:27.997105Z",
     "iopub.status.busy": "2023-12-04T08:35:27.996873Z",
     "iopub.status.idle": "2023-12-04T08:35:28.000615Z",
     "shell.execute_reply": "2023-12-04T08:35:27.999738Z"
    },
    "papermill": {
     "duration": 0.017733,
     "end_time": "2023-12-04T08:35:28.002463",
     "exception": false,
     "start_time": "2023-12-04T08:35:27.984730",
     "status": "completed"
    },
    "tags": []
   },
   "outputs": [],
   "source": [
    "# sub_df"
   ]
  },
  {
   "cell_type": "code",
   "execution_count": null,
   "id": "5fd5f2f5",
   "metadata": {
    "papermill": {
     "duration": 0.011516,
     "end_time": "2023-12-04T08:35:28.025695",
     "exception": false,
     "start_time": "2023-12-04T08:35:28.014179",
     "status": "completed"
    },
    "tags": []
   },
   "outputs": [],
   "source": []
  }
 ],
 "metadata": {
  "kaggle": {
   "accelerator": "nvidiaTeslaT4",
   "dataSources": [
    {
     "databundleVersionId": 6589269,
     "sourceId": 53666,
     "sourceType": "competition"
    },
    {
     "datasetId": 3785250,
     "sourceId": 6879418,
     "sourceType": "datasetVersion"
    },
    {
     "datasetId": 4028375,
     "sourceId": 7061587,
     "sourceType": "datasetVersion"
    },
    {
     "sourceId": 144358840,
     "sourceType": "kernelVersion"
    },
    {
     "sourceId": 149254949,
     "sourceType": "kernelVersion"
    },
    {
     "sourceId": 151449137,
     "sourceType": "kernelVersion"
    }
   ],
   "dockerImageVersionId": 30559,
   "isGpuEnabled": true,
   "isInternetEnabled": false,
   "language": "python",
   "sourceType": "notebook"
  },
  "kernelspec": {
   "display_name": "Python 3",
   "language": "python",
   "name": "python3"
  },
  "language_info": {
   "codemirror_mode": {
    "name": "ipython",
    "version": 3
   },
   "file_extension": ".py",
   "mimetype": "text/x-python",
   "name": "python",
   "nbconvert_exporter": "python",
   "pygments_lexer": "ipython3",
   "version": "3.10.12"
  },
  "papermill": {
   "default_parameters": {},
   "duration": 94.480398,
   "end_time": "2023-12-04T08:35:28.355210",
   "environment_variables": {},
   "exception": null,
   "input_path": "__notebook__.ipynb",
   "output_path": "__notebook__.ipynb",
   "parameters": {},
   "start_time": "2023-12-04T08:33:53.874812",
   "version": "2.4.0"
  }
 },
 "nbformat": 4,
 "nbformat_minor": 5
}
