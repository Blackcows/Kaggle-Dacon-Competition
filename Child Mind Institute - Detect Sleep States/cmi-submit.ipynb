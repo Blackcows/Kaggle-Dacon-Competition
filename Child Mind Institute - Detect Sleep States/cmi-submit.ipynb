{
 "cells": [
  {
   "cell_type": "markdown",
   "id": "ebccd0c2",
   "metadata": {
    "papermill": {
     "duration": 0.004234,
     "end_time": "2023-11-09T05:43:33.055801",
     "exception": false,
     "start_time": "2023-11-09T05:43:33.051567",
     "status": "completed"
    },
    "tags": []
   },
   "source": [
    "See the following repositories for details  \n",
    "https://github.com/tubo213/kaggle-child-mind-institute-detect-sleep-states"
   ]
  },
  {
   "cell_type": "markdown",
   "id": "c638f35e",
   "metadata": {
    "papermill": {
     "duration": 0.003284,
     "end_time": "2023-11-09T05:43:33.062921",
     "exception": false,
     "start_time": "2023-11-09T05:43:33.059637",
     "status": "completed"
    },
    "tags": []
   },
   "source": [
    "# Install additional libraries"
   ]
  },
  {
   "cell_type": "code",
   "execution_count": 1,
   "id": "32754f61",
   "metadata": {
    "execution": {
     "iopub.execute_input": "2023-11-09T05:43:33.071955Z",
     "iopub.status.busy": "2023-11-09T05:43:33.070942Z",
     "iopub.status.idle": "2023-11-09T05:43:56.338304Z",
     "shell.execute_reply": "2023-11-09T05:43:56.337307Z"
    },
    "papermill": {
     "duration": 23.274453,
     "end_time": "2023-11-09T05:43:56.340835",
     "exception": false,
     "start_time": "2023-11-09T05:43:33.066382",
     "status": "completed"
    },
    "tags": []
   },
   "outputs": [
    {
     "name": "stdout",
     "output_type": "stream",
     "text": [
      "Looking in links: /kaggle/input/ex-library\r\n",
      "Processing /kaggle/input/ex-library/hydra_core-1.3.2-py3-none-any.whl\r\n",
      "Processing /kaggle/input/ex-library/segmentation_models_pytorch-0.3.3-py3-none-any.whl\r\n",
      "Requirement already satisfied: torchvision>=0.5.0 in /opt/conda/lib/python3.10/site-packages (from segmentation_models_pytorch==0.3.3) (0.15.1)\r\n",
      "Processing /kaggle/input/ex-library/pretrainedmodels-0.7.4.tar.gz (from segmentation_models_pytorch==0.3.3)\r\n",
      "  Preparing metadata (setup.py) ... \u001b[?25l-\b \bdone\r\n",
      "\u001b[?25hProcessing /kaggle/input/ex-library/efficientnet_pytorch-0.7.1.tar.gz (from segmentation_models_pytorch==0.3.3)\r\n",
      "  Preparing metadata (setup.py) ... \u001b[?25ldone\r\n",
      "\u001b[?25hProcessing /kaggle/input/ex-library/timm-0.9.2-py3-none-any.whl (from segmentation_models_pytorch==0.3.3)\r\n",
      "Requirement already satisfied: tqdm in /opt/conda/lib/python3.10/site-packages (from segmentation_models_pytorch==0.3.3) (4.66.1)\r\n",
      "Requirement already satisfied: pillow in /opt/conda/lib/python3.10/site-packages (from segmentation_models_pytorch==0.3.3) (9.5.0)\r\n",
      "Requirement already satisfied: torch in /opt/conda/lib/python3.10/site-packages (from efficientnet-pytorch==0.7.1->segmentation_models_pytorch==0.3.3) (2.0.0)\r\n",
      "Processing /kaggle/input/ex-library/munch-4.0.0-py2.py3-none-any.whl (from pretrainedmodels==0.7.4->segmentation_models_pytorch==0.3.3)\r\n",
      "Requirement already satisfied: pyyaml in /opt/conda/lib/python3.10/site-packages (from timm==0.9.2->segmentation_models_pytorch==0.3.3) (6.0)\r\n",
      "Requirement already satisfied: huggingface-hub in /opt/conda/lib/python3.10/site-packages (from timm==0.9.2->segmentation_models_pytorch==0.3.3) (0.16.4)\r\n",
      "Requirement already satisfied: safetensors in /opt/conda/lib/python3.10/site-packages (from timm==0.9.2->segmentation_models_pytorch==0.3.3) (0.3.3)\r\n",
      "Processing /kaggle/input/ex-library/omegaconf-2.3.0-py3-none-any.whl (from hydra-core)\r\n",
      "Processing /kaggle/input/ex-library/antlr4-python3-runtime-4.9.3.tar.gz (from hydra-core)\r\n",
      "  Preparing metadata (setup.py) ... \u001b[?25ldone\r\n",
      "\u001b[?25hRequirement already satisfied: packaging in /opt/conda/lib/python3.10/site-packages (from hydra-core) (21.3)\r\n",
      "Requirement already satisfied: numpy in /opt/conda/lib/python3.10/site-packages (from torchvision>=0.5.0->segmentation_models_pytorch==0.3.3) (1.23.5)\r\n",
      "Requirement already satisfied: requests in /opt/conda/lib/python3.10/site-packages (from torchvision>=0.5.0->segmentation_models_pytorch==0.3.3) (2.31.0)\r\n",
      "Requirement already satisfied: pyparsing!=3.0.5,>=2.0.2 in /opt/conda/lib/python3.10/site-packages (from packaging->hydra-core) (3.0.9)\r\n",
      "Requirement already satisfied: filelock in /opt/conda/lib/python3.10/site-packages (from torch->efficientnet-pytorch==0.7.1->segmentation_models_pytorch==0.3.3) (3.12.2)\r\n",
      "Requirement already satisfied: typing-extensions in /opt/conda/lib/python3.10/site-packages (from torch->efficientnet-pytorch==0.7.1->segmentation_models_pytorch==0.3.3) (4.6.3)\r\n",
      "Requirement already satisfied: sympy in /opt/conda/lib/python3.10/site-packages (from torch->efficientnet-pytorch==0.7.1->segmentation_models_pytorch==0.3.3) (1.12)\r\n",
      "Requirement already satisfied: networkx in /opt/conda/lib/python3.10/site-packages (from torch->efficientnet-pytorch==0.7.1->segmentation_models_pytorch==0.3.3) (3.1)\r\n",
      "Requirement already satisfied: jinja2 in /opt/conda/lib/python3.10/site-packages (from torch->efficientnet-pytorch==0.7.1->segmentation_models_pytorch==0.3.3) (3.1.2)\r\n",
      "Requirement already satisfied: fsspec in /opt/conda/lib/python3.10/site-packages (from huggingface-hub->timm==0.9.2->segmentation_models_pytorch==0.3.3) (2023.9.0)\r\n",
      "Requirement already satisfied: charset-normalizer<4,>=2 in /opt/conda/lib/python3.10/site-packages (from requests->torchvision>=0.5.0->segmentation_models_pytorch==0.3.3) (3.1.0)\r\n",
      "Requirement already satisfied: idna<4,>=2.5 in /opt/conda/lib/python3.10/site-packages (from requests->torchvision>=0.5.0->segmentation_models_pytorch==0.3.3) (3.4)\r\n",
      "Requirement already satisfied: urllib3<3,>=1.21.1 in /opt/conda/lib/python3.10/site-packages (from requests->torchvision>=0.5.0->segmentation_models_pytorch==0.3.3) (1.26.15)\r\n",
      "Requirement already satisfied: certifi>=2017.4.17 in /opt/conda/lib/python3.10/site-packages (from requests->torchvision>=0.5.0->segmentation_models_pytorch==0.3.3) (2023.7.22)\r\n",
      "Requirement already satisfied: MarkupSafe>=2.0 in /opt/conda/lib/python3.10/site-packages (from jinja2->torch->efficientnet-pytorch==0.7.1->segmentation_models_pytorch==0.3.3) (2.1.3)\r\n",
      "Requirement already satisfied: mpmath>=0.19 in /opt/conda/lib/python3.10/site-packages (from sympy->torch->efficientnet-pytorch==0.7.1->segmentation_models_pytorch==0.3.3) (1.3.0)\r\n",
      "Building wheels for collected packages: efficientnet-pytorch, pretrainedmodels, antlr4-python3-runtime\r\n",
      "  Building wheel for efficientnet-pytorch (setup.py) ... \u001b[?25l-\b \bdone\r\n",
      "\u001b[?25h  Created wheel for efficientnet-pytorch: filename=efficientnet_pytorch-0.7.1-py3-none-any.whl size=16427 sha256=610eab9c5c6ba805aa48157a80e36d851670bfef7dc951bbd4ab67ba22dde9f9\r\n",
      "  Stored in directory: /root/.cache/pip/wheels/25/42/08/c312f1b741dfff3f2661c53bd056f4f9683cebbb9fe228b1a5\r\n",
      "  Building wheel for pretrainedmodels (setup.py) ... \u001b[?25l-\b \b\\\b \bdone\r\n",
      "\u001b[?25h  Created wheel for pretrainedmodels: filename=pretrainedmodels-0.7.4-py3-none-any.whl size=60945 sha256=ebf468aeda7d545116486083d4ecc80475aafee92563c59dad9dad80ee298fb3\r\n",
      "  Stored in directory: /root/.cache/pip/wheels/4f/02/1f/a5cd4682c2d04e69a0c748116ed4f366e169592fdf08a72b55\r\n",
      "  Building wheel for antlr4-python3-runtime (setup.py) ... \u001b[?25l-\b \bdone\r\n",
      "\u001b[?25h  Created wheel for antlr4-python3-runtime: filename=antlr4_python3_runtime-4.9.3-py3-none-any.whl size=144554 sha256=64cfada2d35a6dc0c6a888d12dad26732ac2747e9676dd1401cae4f55bcdb063\r\n",
      "  Stored in directory: /root/.cache/pip/wheels/bf/5c/34/cdd531f2be0298fb3c66c4db6dff71ec7385fc1fd2d5d60436\r\n",
      "Successfully built efficientnet-pytorch pretrainedmodels antlr4-python3-runtime\r\n",
      "Installing collected packages: antlr4-python3-runtime, omegaconf, munch, hydra-core, efficientnet-pytorch, timm, pretrainedmodels, segmentation_models_pytorch\r\n",
      "  Attempting uninstall: timm\r\n",
      "    Found existing installation: timm 0.9.7\r\n",
      "    Uninstalling timm-0.9.7:\r\n",
      "      Successfully uninstalled timm-0.9.7\r\n",
      "Successfully installed antlr4-python3-runtime-4.9.3 efficientnet-pytorch-0.7.1 hydra-core-1.3.2 munch-4.0.0 omegaconf-2.3.0 pretrainedmodels-0.7.4 segmentation_models_pytorch-0.3.3 timm-0.9.2\r\n"
     ]
    }
   ],
   "source": [
    "!pip install hydra-core segmentation_models_pytorch==0.3.3 --no-index --find-links=/kaggle/input/ex-library"
   ]
  },
  {
   "cell_type": "code",
   "execution_count": 2,
   "id": "28af9375",
   "metadata": {
    "execution": {
     "iopub.execute_input": "2023-11-09T05:43:56.354617Z",
     "iopub.status.busy": "2023-11-09T05:43:56.354249Z",
     "iopub.status.idle": "2023-11-09T05:43:56.364267Z",
     "shell.execute_reply": "2023-11-09T05:43:56.363353Z"
    },
    "papermill": {
     "duration": 0.019204,
     "end_time": "2023-11-09T05:43:56.366284",
     "exception": false,
     "start_time": "2023-11-09T05:43:56.347080",
     "status": "completed"
    },
    "tags": []
   },
   "outputs": [
    {
     "name": "stdout",
     "output_type": "stream",
     "text": [
      "/kaggle/input/cmi-code/kaggle-child-mind-institute-detect-sleep-states\n"
     ]
    }
   ],
   "source": [
    "%cd /kaggle/input/cmi-code/kaggle-child-mind-institute-detect-sleep-states/"
   ]
  },
  {
   "cell_type": "markdown",
   "id": "0f1591db",
   "metadata": {
    "papermill": {
     "duration": 0.005926,
     "end_time": "2023-11-09T05:43:56.378331",
     "exception": false,
     "start_time": "2023-11-09T05:43:56.372405",
     "status": "completed"
    },
    "tags": []
   },
   "source": [
    "# Config"
   ]
  },
  {
   "cell_type": "code",
   "execution_count": 3,
   "id": "fdbd37cd",
   "metadata": {
    "execution": {
     "iopub.execute_input": "2023-11-09T05:43:56.391524Z",
     "iopub.status.busy": "2023-11-09T05:43:56.391209Z",
     "iopub.status.idle": "2023-11-09T05:43:56.395584Z",
     "shell.execute_reply": "2023-11-09T05:43:56.394687Z"
    },
    "papermill": {
     "duration": 0.013217,
     "end_time": "2023-11-09T05:43:56.397661",
     "exception": false,
     "start_time": "2023-11-09T05:43:56.384444",
     "status": "completed"
    },
    "tags": []
   },
   "outputs": [],
   "source": [
    "# Config\n",
    "DURATION = 5760\n",
    "DOWNSAMPLE_RATE = 2\n",
    "PHASE = 'test'\n",
    "EXP_NAME = 'exp001'"
   ]
  },
  {
   "cell_type": "markdown",
   "id": "e6eb2663",
   "metadata": {
    "papermill": {
     "duration": 0.005855,
     "end_time": "2023-11-09T05:43:56.409702",
     "exception": false,
     "start_time": "2023-11-09T05:43:56.403847",
     "status": "completed"
    },
    "tags": []
   },
   "source": [
    "# Preprocess"
   ]
  },
  {
   "cell_type": "code",
   "execution_count": 4,
   "id": "7d0a90e3",
   "metadata": {
    "execution": {
     "iopub.execute_input": "2023-11-09T05:43:56.422928Z",
     "iopub.status.busy": "2023-11-09T05:43:56.422206Z",
     "iopub.status.idle": "2023-11-09T05:44:00.348563Z",
     "shell.execute_reply": "2023-11-09T05:44:00.347621Z"
    },
    "papermill": {
     "duration": 3.935756,
     "end_time": "2023-11-09T05:44:00.351386",
     "exception": false,
     "start_time": "2023-11-09T05:43:56.415630",
     "status": "completed"
    },
    "tags": []
   },
   "outputs": [
    {
     "name": "stdout",
     "output_type": "stream",
     "text": [
      "[0.1GB(+0.0GB):0.2sec] Load series \r\n",
      "  0%|                                                     | 0/3 [00:00<?, ?it/s][2023-11-09 05:43:59,307][numexpr.utils][INFO] - NumExpr defaulting to 4 threads.\r\n",
      "100%|█████████████████████████████████████████████| 3/3 [00:01<00:00,  2.23it/s]\r\n",
      "[0.1GB(+0.1GB):1.4sec] Save features \r\n"
     ]
    }
   ],
   "source": [
    "!python -m run.prepare_data dir=kaggle phase=$PHASE"
   ]
  },
  {
   "cell_type": "markdown",
   "id": "6a2b6ce0",
   "metadata": {
    "papermill": {
     "duration": 0.005944,
     "end_time": "2023-11-09T05:44:00.364195",
     "exception": false,
     "start_time": "2023-11-09T05:44:00.358251",
     "status": "completed"
    },
    "tags": []
   },
   "source": [
    "# Inference"
   ]
  },
  {
   "cell_type": "code",
   "execution_count": 5,
   "id": "1180666a",
   "metadata": {
    "execution": {
     "iopub.execute_input": "2023-11-09T05:44:00.378047Z",
     "iopub.status.busy": "2023-11-09T05:44:00.377748Z",
     "iopub.status.idle": "2023-11-09T05:44:54.944553Z",
     "shell.execute_reply": "2023-11-09T05:44:54.943197Z"
    },
    "papermill": {
     "duration": 54.577013,
     "end_time": "2023-11-09T05:44:54.947225",
     "exception": false,
     "start_time": "2023-11-09T05:44:00.370212",
     "status": "completed"
    },
    "tags": []
   },
   "outputs": [
    {
     "name": "stdout",
     "output_type": "stream",
     "text": [
      "/opt/conda/lib/python3.10/site-packages/scipy/__init__.py:146: UserWarning: A NumPy version >=1.16.5 and <1.23.0 is required for this version of SciPy (detected version 1.23.5\r\n",
      "  warnings.warn(f\"A NumPy version >={np_minversion} and <{np_maxversion}\"\r\n",
      "[2023-11-09 05:44:31,062][lightning_fabric.utilities.seed][INFO] - Global seed set to 42\r\n",
      "[1.5GB(+0.0GB):0.0sec] load test dataloader \r\n",
      "load weight from \"/kaggle/input/cmi-model/exp001/single/best_model.pth\"\r\n",
      "[3.6GB(+2.1GB):10.2sec] load model \r\n",
      "inference: 100%|██████████████████████████████████| 1/1 [00:09<00:00,  9.32s/it]\r\n",
      "[4.7GB(+1.1GB):9.4sec] inference \r\n",
      "[4.8GB(+0.0GB):0.0sec] make submission \r\n"
     ]
    }
   ],
   "source": [
    "!python -m run.inference\\\n",
    "    dir=kaggle\\\n",
    "    model.encoder_name=resnet34\\\n",
    "    model.encoder_weights=null\\\n",
    "    num_workers=2\\\n",
    "    exp_name=$EXP_NAME\\\n",
    "    weight.run_name=single\\\n",
    "    batch_size=128\\\n",
    "    duration=$DURATION\\\n",
    "    downsample_rate=$DOWNSAMPLE_RATE\\\n",
    "    post_process.score_th=0.005\\\n",
    "    post_process.distance=40\\\n",
    "    phase=$PHASE"
   ]
  },
  {
   "cell_type": "code",
   "execution_count": 6,
   "id": "2f11ccd4",
   "metadata": {
    "execution": {
     "iopub.execute_input": "2023-11-09T05:44:54.963650Z",
     "iopub.status.busy": "2023-11-09T05:44:54.963299Z",
     "iopub.status.idle": "2023-11-09T05:44:56.858221Z",
     "shell.execute_reply": "2023-11-09T05:44:56.857119Z"
    },
    "papermill": {
     "duration": 1.906034,
     "end_time": "2023-11-09T05:44:56.860691",
     "exception": false,
     "start_time": "2023-11-09T05:44:54.954657",
     "status": "completed"
    },
    "tags": []
   },
   "outputs": [],
   "source": [
    "# Delete unnecessary files and folders\n",
    "!rm -rf /kaggle/working/processed_data\n",
    "!rm -rf /kaggle/working/output"
   ]
  }
 ],
 "metadata": {
  "kaggle": {
   "accelerator": "nvidiaTeslaT4",
   "dataSources": [
    {
     "databundleVersionId": 6589269,
     "sourceId": 53666,
     "sourceType": "competition"
    },
    {
     "datasetId": 3785250,
     "sourceId": 6879418,
     "sourceType": "datasetVersion"
    },
    {
     "sourceId": 144358840,
     "sourceType": "kernelVersion"
    },
    {
     "sourceId": 149254949,
     "sourceType": "kernelVersion"
    }
   ],
   "dockerImageVersionId": 30559,
   "isGpuEnabled": true,
   "isInternetEnabled": false,
   "language": "python",
   "sourceType": "notebook"
  },
  "kernelspec": {
   "display_name": "Python 3",
   "language": "python",
   "name": "python3"
  },
  "language_info": {
   "codemirror_mode": {
    "name": "ipython",
    "version": 3
   },
   "file_extension": ".py",
   "mimetype": "text/x-python",
   "name": "python",
   "nbconvert_exporter": "python",
   "pygments_lexer": "ipython3",
   "version": "3.10.12"
  },
  "papermill": {
   "default_parameters": {},
   "duration": 88.652321,
   "end_time": "2023-11-09T05:44:57.085881",
   "environment_variables": {},
   "exception": null,
   "input_path": "__notebook__.ipynb",
   "output_path": "__notebook__.ipynb",
   "parameters": {},
   "start_time": "2023-11-09T05:43:28.433560",
   "version": "2.4.0"
  }
 },
 "nbformat": 4,
 "nbformat_minor": 5
}
