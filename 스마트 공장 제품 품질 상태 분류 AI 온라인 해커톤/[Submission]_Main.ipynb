{
 "cells": [
  {
   "cell_type": "markdown",
   "source": [
    "## Install Library (for Colab)"
   ],
   "metadata": {
    "collapsed": false
   }
  },
  {
   "cell_type": "code",
   "execution_count": null,
   "outputs": [],
   "source": [
    "# !pip install --pre pycaret"
   ],
   "metadata": {
    "collapsed": false
   }
  },
  {
   "cell_type": "code",
   "execution_count": null,
   "outputs": [],
   "source": [
    "# !pip install cudf-cu11 dask-cudf-cu11 --extra-index-url=https://pypi.ngc.nvidia.com\n",
    "# !pip install cuml-cu11 --extra-index-url=https://pypi.ngc.nvidia.com\n",
    "# !pip install cugraph-cu11 --extra-index-url=https://pypi.ngc.nvidia.com"
   ],
   "metadata": {
    "collapsed": false
   }
  },
  {
   "cell_type": "code",
   "execution_count": null,
   "outputs": [],
   "source": [
    "# !pip install catboost"
   ],
   "metadata": {
    "collapsed": false
   }
  },
  {
   "cell_type": "markdown",
   "source": [
    "## Data Load"
   ],
   "metadata": {
    "collapsed": false
   }
  },
  {
   "cell_type": "code",
   "execution_count": 0,
   "metadata": {},
   "outputs": [],
   "source": [
    "import pandas as pd\n",
    "import random\n",
    "import os\n",
    "import numpy as np\n",
    "\n",
    "from sklearn.preprocessing import LabelEncoder"
   ]
  },
  {
   "cell_type": "code",
   "execution_count": 1,
   "outputs": [],
   "source": [
    "train_df = pd.read_csv('data/train.csv')\n",
    "test_df = pd.read_csv('data/test.csv')"
   ],
   "metadata": {
    "collapsed": false
   }
  },
  {
   "cell_type": "code",
   "execution_count": null,
   "outputs": [],
   "source": [
    "def seed_everything(seed):\n",
    "    random.seed(seed)\n",
    "    os.environ['PYTHONHASHSEED'] = str(seed)\n",
    "    np.random.seed(seed)\n",
    "seed_everything(37) # Seed 고정"
   ],
   "metadata": {
    "collapsed": false
   }
  },
  {
   "cell_type": "markdown",
   "source": [
    "## Data Preprocessing"
   ],
   "metadata": {
    "collapsed": false
   }
  },
  {
   "cell_type": "code",
   "execution_count": null,
   "outputs": [],
   "source": [
    "train_x1 = train_df.drop(columns=['PRODUCT_ID', 'TIMESTAMP', 'Y_Class'])\n",
    "train_x2 = train_df[['Y_Quality', 'Y_Class']]\n",
    "\n",
    "test_x = test_df.drop(columns=['TIMESTAMP'])"
   ],
   "metadata": {
    "collapsed": false
   }
  },
  {
   "cell_type": "code",
   "execution_count": null,
   "outputs": [],
   "source": [
    "# qualitative to quantitative\n",
    "qual_col = ['LINE', 'PRODUCT_CODE']\n",
    "\n",
    "for i in qual_col:\n",
    "    le = LabelEncoder()\n",
    "    le = le.fit(train_x1[i])\n",
    "    train_x1[i] = le.transform(train_x1[i])\n",
    "\n",
    "    for label in np.unique(test_x[i]):\n",
    "        if label not in le.classes_:\n",
    "            le.classes_ = np.append(le.classes_, label)\n",
    "    test_x[i] = le.transform(test_x[i])\n",
    "print('Done.')"
   ],
   "metadata": {
    "collapsed": false
   }
  },
  {
   "cell_type": "markdown",
   "source": [
    "## Table divide"
   ],
   "metadata": {
    "collapsed": false
   }
  },
  {
   "cell_type": "code",
   "execution_count": null,
   "outputs": [],
   "source": [
    "# train_df를 PRODUCT_CODE에 따라 분류"
   ],
   "metadata": {
    "collapsed": false
   }
  },
  {
   "cell_type": "code",
   "execution_count": null,
   "outputs": [],
   "source": [
    "train_a31_103 = train_x1[((train_x1['LINE'] == 'T010306') | (train_x1['LINE'] == 'T010305')) & (train_x1['PRODUCT_CODE'] == 'A_31')]\n",
    "train_a31_103 = train_a31_103.dropna(axis=1, how='all')"
   ],
   "metadata": {
    "collapsed": false
   }
  },
  {
   "cell_type": "code",
   "execution_count": null,
   "outputs": [],
   "source": [
    "train_a31_503 = train_x1[((train_x1['LINE'] == 'T050304') | (train_x1['LINE'] == 'T050307')) & (train_x1['PRODUCT_CODE'] == 'A_31')]\n",
    "train_a31_503 = train_a31_503.dropna(axis=1, how='all')"
   ],
   "metadata": {
    "collapsed": false
   }
  },
  {
   "cell_type": "code",
   "execution_count": null,
   "outputs": [],
   "source": [
    "train_o31 = train_x1[(train_x1['PRODUCT_CODE'] == 'O_31')]\n",
    "train_o31 = train_o31.dropna(axis=1, how='all')"
   ],
   "metadata": {
    "collapsed": false
   }
  },
  {
   "cell_type": "code",
   "execution_count": null,
   "outputs": [],
   "source": [
    "train_t31 = train_x1[(train_x1['PRODUCT_CODE'] == 'T_31')]\n",
    "train_t31 = train_t31.dropna(axis=1, how='all')"
   ],
   "metadata": {
    "collapsed": false
   }
  },
  {
   "cell_type": "code",
   "execution_count": 4,
   "outputs": [],
   "source": [
    "# test data에 대해서도 같은 작업 수행\n",
    "test_a31_503 = test_x[(test_x['PRODUCT_CODE'] == 'A31') & ((test_x['LINE'] == 'T050304') | (test_x['LINE'] == 'T050307'))]\n",
    "test_a31_503 = test_a31_503.dropna(axis=1, how='all')\n",
    "\n",
    "test_a31_103 = test_x[(test_x['PRODUCT_CODE'] == 'A31') & ((test_x['LINE'] == 'T010305') | (test_x['LINE'] == 'T010306'))]\n",
    "test_a31_103 = test_a31_103.dropna(axis=1, how='all')\n",
    "\n",
    "test_o31 = test_x[test_x['PRODUCT_CODE'] == 'O31']\n",
    "test_o31 = test_o31.dropna(axis=1, how='all')\n",
    "\n",
    "test_t31 = test_x[test_x['PRODUCT_CODE'] == 'T31']\n",
    "test_t31 = test_t31.dropna(axis=1, how='all')"
   ],
   "metadata": {
    "collapsed": false
   }
  },
  {
   "cell_type": "code",
   "execution_count": 5,
   "outputs": [
    {
     "data": {
      "text/plain": "          Y_Class   Y_Quality         X_128         X_129         X_130  \\\ncount  120.000000  120.000000     78.000000     78.000000     42.000000   \nmean     0.933333    0.530676  14699.833333  14791.923077  10904.333333   \nstd      0.785727    0.010773   8290.625484   8233.160897   9234.859281   \nmin      0.000000    0.513751    837.000000    837.000000    806.000000   \n25%      0.000000    0.522361   7827.750000   7830.500000   2255.500000   \n50%      1.000000    0.528926  13493.500000  13493.500000   8513.500000   \n75%      2.000000    0.537116  23426.250000  23426.250000  19865.500000   \nmax      2.000000    0.578841  26596.000000  26596.000000  26155.000000   \n\n              X_131       X_132       X_133     X_134         X_135  ...  \\\ncount     42.000000  120.000000  120.000000  120.0000  1.200000e+02  ...   \nmean   10904.333333    0.195917    0.206917    0.1950  2.000000e-01  ...   \nstd     9234.859281    0.005103    0.004637    0.0055  2.787195e-17  ...   \nmin      806.000000    0.180000    0.200000    0.1800  2.000000e-01  ...   \n25%     2255.500000    0.190000    0.200000    0.1900  2.000000e-01  ...   \n50%     8513.500000    0.200000    0.210000    0.2000  2.000000e-01  ...   \n75%    19865.500000    0.200000    0.210000    0.2000  2.000000e-01  ...   \nmax    26155.000000    0.200000    0.210000    0.2000  2.000000e-01  ...   \n\n           X_2862      X_2863      X_2864      X_2865      X_2866     X_2867  \\\ncount  120.000000  120.000000  120.000000  120.000000  100.000000  100.00000   \nmean   165.656667  384.400000  367.933817  351.266667   50.807300   53.60770   \nstd     11.515497    3.336581    2.916200    3.613079    7.011828    8.13899   \nmin    125.700000  373.000000  357.698113  342.000000   32.120000   31.70000   \n25%    161.700000  383.000000  367.311321  352.000000   49.485000   52.20000   \n50%    166.050000  384.000000  368.196366  352.000000   53.425000   55.92500   \n75%    170.575000  384.000000  369.023585  353.000000   55.287500   58.97500   \nmax    194.600000  394.000000  376.698113  362.000000   60.240000   68.66000   \n\n           X_2868      X_2869     X_2870  X_2871  \ncount  100.000000  100.000000  100.00000    99.0  \nmean    49.606200   51.659800   66.64970     1.0  \nstd      7.158917    8.913065    4.52781     0.0  \nmin     32.560000   30.490000   61.67000     1.0  \n25%     42.160000   49.915000   63.64500     1.0  \n50%     51.460000   56.175000   65.14000     1.0  \n75%     55.030000   57.175000   67.11500     1.0  \nmax     60.410000   59.930000   79.75000     1.0  \n\n[8 rows x 1989 columns]",
      "text/html": "<div>\n<style scoped>\n    .dataframe tbody tr th:only-of-type {\n        vertical-align: middle;\n    }\n\n    .dataframe tbody tr th {\n        vertical-align: top;\n    }\n\n    .dataframe thead th {\n        text-align: right;\n    }\n</style>\n<table border=\"1\" class=\"dataframe\">\n  <thead>\n    <tr style=\"text-align: right;\">\n      <th></th>\n      <th>Y_Class</th>\n      <th>Y_Quality</th>\n      <th>X_128</th>\n      <th>X_129</th>\n      <th>X_130</th>\n      <th>X_131</th>\n      <th>X_132</th>\n      <th>X_133</th>\n      <th>X_134</th>\n      <th>X_135</th>\n      <th>...</th>\n      <th>X_2862</th>\n      <th>X_2863</th>\n      <th>X_2864</th>\n      <th>X_2865</th>\n      <th>X_2866</th>\n      <th>X_2867</th>\n      <th>X_2868</th>\n      <th>X_2869</th>\n      <th>X_2870</th>\n      <th>X_2871</th>\n    </tr>\n  </thead>\n  <tbody>\n    <tr>\n      <th>count</th>\n      <td>120.000000</td>\n      <td>120.000000</td>\n      <td>78.000000</td>\n      <td>78.000000</td>\n      <td>42.000000</td>\n      <td>42.000000</td>\n      <td>120.000000</td>\n      <td>120.000000</td>\n      <td>120.0000</td>\n      <td>1.200000e+02</td>\n      <td>...</td>\n      <td>120.000000</td>\n      <td>120.000000</td>\n      <td>120.000000</td>\n      <td>120.000000</td>\n      <td>100.000000</td>\n      <td>100.00000</td>\n      <td>100.000000</td>\n      <td>100.000000</td>\n      <td>100.00000</td>\n      <td>99.0</td>\n    </tr>\n    <tr>\n      <th>mean</th>\n      <td>0.933333</td>\n      <td>0.530676</td>\n      <td>14699.833333</td>\n      <td>14791.923077</td>\n      <td>10904.333333</td>\n      <td>10904.333333</td>\n      <td>0.195917</td>\n      <td>0.206917</td>\n      <td>0.1950</td>\n      <td>2.000000e-01</td>\n      <td>...</td>\n      <td>165.656667</td>\n      <td>384.400000</td>\n      <td>367.933817</td>\n      <td>351.266667</td>\n      <td>50.807300</td>\n      <td>53.60770</td>\n      <td>49.606200</td>\n      <td>51.659800</td>\n      <td>66.64970</td>\n      <td>1.0</td>\n    </tr>\n    <tr>\n      <th>std</th>\n      <td>0.785727</td>\n      <td>0.010773</td>\n      <td>8290.625484</td>\n      <td>8233.160897</td>\n      <td>9234.859281</td>\n      <td>9234.859281</td>\n      <td>0.005103</td>\n      <td>0.004637</td>\n      <td>0.0055</td>\n      <td>2.787195e-17</td>\n      <td>...</td>\n      <td>11.515497</td>\n      <td>3.336581</td>\n      <td>2.916200</td>\n      <td>3.613079</td>\n      <td>7.011828</td>\n      <td>8.13899</td>\n      <td>7.158917</td>\n      <td>8.913065</td>\n      <td>4.52781</td>\n      <td>0.0</td>\n    </tr>\n    <tr>\n      <th>min</th>\n      <td>0.000000</td>\n      <td>0.513751</td>\n      <td>837.000000</td>\n      <td>837.000000</td>\n      <td>806.000000</td>\n      <td>806.000000</td>\n      <td>0.180000</td>\n      <td>0.200000</td>\n      <td>0.1800</td>\n      <td>2.000000e-01</td>\n      <td>...</td>\n      <td>125.700000</td>\n      <td>373.000000</td>\n      <td>357.698113</td>\n      <td>342.000000</td>\n      <td>32.120000</td>\n      <td>31.70000</td>\n      <td>32.560000</td>\n      <td>30.490000</td>\n      <td>61.67000</td>\n      <td>1.0</td>\n    </tr>\n    <tr>\n      <th>25%</th>\n      <td>0.000000</td>\n      <td>0.522361</td>\n      <td>7827.750000</td>\n      <td>7830.500000</td>\n      <td>2255.500000</td>\n      <td>2255.500000</td>\n      <td>0.190000</td>\n      <td>0.200000</td>\n      <td>0.1900</td>\n      <td>2.000000e-01</td>\n      <td>...</td>\n      <td>161.700000</td>\n      <td>383.000000</td>\n      <td>367.311321</td>\n      <td>352.000000</td>\n      <td>49.485000</td>\n      <td>52.20000</td>\n      <td>42.160000</td>\n      <td>49.915000</td>\n      <td>63.64500</td>\n      <td>1.0</td>\n    </tr>\n    <tr>\n      <th>50%</th>\n      <td>1.000000</td>\n      <td>0.528926</td>\n      <td>13493.500000</td>\n      <td>13493.500000</td>\n      <td>8513.500000</td>\n      <td>8513.500000</td>\n      <td>0.200000</td>\n      <td>0.210000</td>\n      <td>0.2000</td>\n      <td>2.000000e-01</td>\n      <td>...</td>\n      <td>166.050000</td>\n      <td>384.000000</td>\n      <td>368.196366</td>\n      <td>352.000000</td>\n      <td>53.425000</td>\n      <td>55.92500</td>\n      <td>51.460000</td>\n      <td>56.175000</td>\n      <td>65.14000</td>\n      <td>1.0</td>\n    </tr>\n    <tr>\n      <th>75%</th>\n      <td>2.000000</td>\n      <td>0.537116</td>\n      <td>23426.250000</td>\n      <td>23426.250000</td>\n      <td>19865.500000</td>\n      <td>19865.500000</td>\n      <td>0.200000</td>\n      <td>0.210000</td>\n      <td>0.2000</td>\n      <td>2.000000e-01</td>\n      <td>...</td>\n      <td>170.575000</td>\n      <td>384.000000</td>\n      <td>369.023585</td>\n      <td>353.000000</td>\n      <td>55.287500</td>\n      <td>58.97500</td>\n      <td>55.030000</td>\n      <td>57.175000</td>\n      <td>67.11500</td>\n      <td>1.0</td>\n    </tr>\n    <tr>\n      <th>max</th>\n      <td>2.000000</td>\n      <td>0.578841</td>\n      <td>26596.000000</td>\n      <td>26596.000000</td>\n      <td>26155.000000</td>\n      <td>26155.000000</td>\n      <td>0.200000</td>\n      <td>0.210000</td>\n      <td>0.2000</td>\n      <td>2.000000e-01</td>\n      <td>...</td>\n      <td>194.600000</td>\n      <td>394.000000</td>\n      <td>376.698113</td>\n      <td>362.000000</td>\n      <td>60.240000</td>\n      <td>68.66000</td>\n      <td>60.410000</td>\n      <td>59.930000</td>\n      <td>79.75000</td>\n      <td>1.0</td>\n    </tr>\n  </tbody>\n</table>\n<p>8 rows × 1989 columns</p>\n</div>"
     },
     "execution_count": 5,
     "metadata": {},
     "output_type": "execute_result"
    }
   ],
   "source": [
    "test_a31_503.describe()"
   ],
   "metadata": {
    "collapsed": false
   }
  },
  {
   "cell_type": "code",
   "execution_count": 6,
   "outputs": [
    {
     "data": {
      "text/plain": "               0\nY_Class        0\nY_Quality      0\nLINE           0\nPRODUCT_CODE   0\nX_128         42\n...           ..\nX_2867        20\nX_2868        20\nX_2869        20\nX_2870        20\nX_2871        21\n\n[1991 rows x 1 columns]",
      "text/html": "<div>\n<style scoped>\n    .dataframe tbody tr th:only-of-type {\n        vertical-align: middle;\n    }\n\n    .dataframe tbody tr th {\n        vertical-align: top;\n    }\n\n    .dataframe thead th {\n        text-align: right;\n    }\n</style>\n<table border=\"1\" class=\"dataframe\">\n  <thead>\n    <tr style=\"text-align: right;\">\n      <th></th>\n      <th>0</th>\n    </tr>\n  </thead>\n  <tbody>\n    <tr>\n      <th>Y_Class</th>\n      <td>0</td>\n    </tr>\n    <tr>\n      <th>Y_Quality</th>\n      <td>0</td>\n    </tr>\n    <tr>\n      <th>LINE</th>\n      <td>0</td>\n    </tr>\n    <tr>\n      <th>PRODUCT_CODE</th>\n      <td>0</td>\n    </tr>\n    <tr>\n      <th>X_128</th>\n      <td>42</td>\n    </tr>\n    <tr>\n      <th>...</th>\n      <td>...</td>\n    </tr>\n    <tr>\n      <th>X_2867</th>\n      <td>20</td>\n    </tr>\n    <tr>\n      <th>X_2868</th>\n      <td>20</td>\n    </tr>\n    <tr>\n      <th>X_2869</th>\n      <td>20</td>\n    </tr>\n    <tr>\n      <th>X_2870</th>\n      <td>20</td>\n    </tr>\n    <tr>\n      <th>X_2871</th>\n      <td>21</td>\n    </tr>\n  </tbody>\n</table>\n<p>1991 rows × 1 columns</p>\n</div>"
     },
     "execution_count": 6,
     "metadata": {},
     "output_type": "execute_result"
    }
   ],
   "source": [
    "# train_a31_type1 데이터셋의 결측치를 데이터프레임으로 출력\n",
    "\n",
    "test_a31_503.isnull().sum().to_frame()"
   ],
   "metadata": {
    "collapsed": false
   }
  },
  {
   "cell_type": "code",
   "execution_count": 7,
   "outputs": [
    {
     "data": {
      "text/plain": "     Y_Class  Y_Quality     LINE PRODUCT_CODE    X_128    X_129    X_130  \\\n0          1   0.533433  T050304         A_31   7813.0   7813.0      NaN   \n1          2   0.541819  T050307         A_31      NaN      NaN  19854.0   \n2          1   0.531267  T050304         A_31   7815.0   7815.0      NaN   \n3          2   0.537325  T050307         A_31      NaN      NaN  19856.0   \n4          1   0.531590  T050304         A_31   7817.0   7817.0      NaN   \n..       ...        ...      ...          ...      ...      ...      ...   \n115        0   0.523465  T050304         A_31  11864.0  11864.0      NaN   \n116        0   0.522233  T050304         A_31  11898.0  11898.0      NaN   \n117        0   0.522340  T050304         A_31  11920.0  11920.0      NaN   \n118        0   0.524022  T050304         A_31  14810.0  14810.0      NaN   \n119        0   0.521289  T050304         A_31  14813.0  14813.0      NaN   \n\n       X_131  X_132  X_133  ...  X_2862  X_2863      X_2864  X_2865  X_2866  \\\n0        NaN   0.19   0.20  ...   189.0   383.0  368.296296   353.0   39.34   \n1    19854.0   0.20   0.21  ...   185.6   383.0  367.735849   353.0   38.89   \n2        NaN   0.19   0.20  ...   165.5   383.0  367.320755   353.0   39.19   \n3    19856.0   0.20   0.21  ...   165.8   384.0  369.188679   353.0   37.74   \n4        NaN   0.19   0.20  ...   182.6   383.0  367.351852   352.0   38.70   \n..       ...    ...    ...  ...     ...     ...         ...     ...     ...   \n115      NaN   0.19   0.20  ...   176.0   384.0  367.333333   352.0     NaN   \n116      NaN   0.18   0.20  ...   174.0   384.0  367.037037   352.0   50.88   \n117      NaN   0.19   0.20  ...   181.6   394.0  371.943396   353.0   51.71   \n118      NaN   0.19   0.20  ...   168.7   384.0  369.811321   353.0   49.47   \n119      NaN   0.19   0.20  ...   156.6   383.0  367.018868   352.0     NaN   \n\n     X_2867  X_2868  X_2869  X_2870  X_2871  \n0     40.89   32.56   34.09   77.77     NaN  \n1     42.82   43.92   35.34   72.55     NaN  \n2     36.65   42.47   36.53   78.35     NaN  \n3     39.17   52.17   30.58   71.78     NaN  \n4     41.89   46.93   33.09   76.97     NaN  \n..      ...     ...     ...     ...     ...  \n115     NaN     NaN     NaN     NaN     1.0  \n116   53.23   52.44   56.28   66.83     1.0  \n117   59.64   54.61   57.05   63.18     1.0  \n118   53.07   50.89   55.10   66.49     1.0  \n119     NaN     NaN     NaN     NaN     1.0  \n\n[120 rows x 1991 columns]",
      "text/html": "<div>\n<style scoped>\n    .dataframe tbody tr th:only-of-type {\n        vertical-align: middle;\n    }\n\n    .dataframe tbody tr th {\n        vertical-align: top;\n    }\n\n    .dataframe thead th {\n        text-align: right;\n    }\n</style>\n<table border=\"1\" class=\"dataframe\">\n  <thead>\n    <tr style=\"text-align: right;\">\n      <th></th>\n      <th>Y_Class</th>\n      <th>Y_Quality</th>\n      <th>LINE</th>\n      <th>PRODUCT_CODE</th>\n      <th>X_128</th>\n      <th>X_129</th>\n      <th>X_130</th>\n      <th>X_131</th>\n      <th>X_132</th>\n      <th>X_133</th>\n      <th>...</th>\n      <th>X_2862</th>\n      <th>X_2863</th>\n      <th>X_2864</th>\n      <th>X_2865</th>\n      <th>X_2866</th>\n      <th>X_2867</th>\n      <th>X_2868</th>\n      <th>X_2869</th>\n      <th>X_2870</th>\n      <th>X_2871</th>\n    </tr>\n  </thead>\n  <tbody>\n    <tr>\n      <th>0</th>\n      <td>1</td>\n      <td>0.533433</td>\n      <td>T050304</td>\n      <td>A_31</td>\n      <td>7813.0</td>\n      <td>7813.0</td>\n      <td>NaN</td>\n      <td>NaN</td>\n      <td>0.19</td>\n      <td>0.20</td>\n      <td>...</td>\n      <td>189.0</td>\n      <td>383.0</td>\n      <td>368.296296</td>\n      <td>353.0</td>\n      <td>39.34</td>\n      <td>40.89</td>\n      <td>32.56</td>\n      <td>34.09</td>\n      <td>77.77</td>\n      <td>NaN</td>\n    </tr>\n    <tr>\n      <th>1</th>\n      <td>2</td>\n      <td>0.541819</td>\n      <td>T050307</td>\n      <td>A_31</td>\n      <td>NaN</td>\n      <td>NaN</td>\n      <td>19854.0</td>\n      <td>19854.0</td>\n      <td>0.20</td>\n      <td>0.21</td>\n      <td>...</td>\n      <td>185.6</td>\n      <td>383.0</td>\n      <td>367.735849</td>\n      <td>353.0</td>\n      <td>38.89</td>\n      <td>42.82</td>\n      <td>43.92</td>\n      <td>35.34</td>\n      <td>72.55</td>\n      <td>NaN</td>\n    </tr>\n    <tr>\n      <th>2</th>\n      <td>1</td>\n      <td>0.531267</td>\n      <td>T050304</td>\n      <td>A_31</td>\n      <td>7815.0</td>\n      <td>7815.0</td>\n      <td>NaN</td>\n      <td>NaN</td>\n      <td>0.19</td>\n      <td>0.20</td>\n      <td>...</td>\n      <td>165.5</td>\n      <td>383.0</td>\n      <td>367.320755</td>\n      <td>353.0</td>\n      <td>39.19</td>\n      <td>36.65</td>\n      <td>42.47</td>\n      <td>36.53</td>\n      <td>78.35</td>\n      <td>NaN</td>\n    </tr>\n    <tr>\n      <th>3</th>\n      <td>2</td>\n      <td>0.537325</td>\n      <td>T050307</td>\n      <td>A_31</td>\n      <td>NaN</td>\n      <td>NaN</td>\n      <td>19856.0</td>\n      <td>19856.0</td>\n      <td>0.20</td>\n      <td>0.21</td>\n      <td>...</td>\n      <td>165.8</td>\n      <td>384.0</td>\n      <td>369.188679</td>\n      <td>353.0</td>\n      <td>37.74</td>\n      <td>39.17</td>\n      <td>52.17</td>\n      <td>30.58</td>\n      <td>71.78</td>\n      <td>NaN</td>\n    </tr>\n    <tr>\n      <th>4</th>\n      <td>1</td>\n      <td>0.531590</td>\n      <td>T050304</td>\n      <td>A_31</td>\n      <td>7817.0</td>\n      <td>7817.0</td>\n      <td>NaN</td>\n      <td>NaN</td>\n      <td>0.19</td>\n      <td>0.20</td>\n      <td>...</td>\n      <td>182.6</td>\n      <td>383.0</td>\n      <td>367.351852</td>\n      <td>352.0</td>\n      <td>38.70</td>\n      <td>41.89</td>\n      <td>46.93</td>\n      <td>33.09</td>\n      <td>76.97</td>\n      <td>NaN</td>\n    </tr>\n    <tr>\n      <th>...</th>\n      <td>...</td>\n      <td>...</td>\n      <td>...</td>\n      <td>...</td>\n      <td>...</td>\n      <td>...</td>\n      <td>...</td>\n      <td>...</td>\n      <td>...</td>\n      <td>...</td>\n      <td>...</td>\n      <td>...</td>\n      <td>...</td>\n      <td>...</td>\n      <td>...</td>\n      <td>...</td>\n      <td>...</td>\n      <td>...</td>\n      <td>...</td>\n      <td>...</td>\n      <td>...</td>\n    </tr>\n    <tr>\n      <th>115</th>\n      <td>0</td>\n      <td>0.523465</td>\n      <td>T050304</td>\n      <td>A_31</td>\n      <td>11864.0</td>\n      <td>11864.0</td>\n      <td>NaN</td>\n      <td>NaN</td>\n      <td>0.19</td>\n      <td>0.20</td>\n      <td>...</td>\n      <td>176.0</td>\n      <td>384.0</td>\n      <td>367.333333</td>\n      <td>352.0</td>\n      <td>NaN</td>\n      <td>NaN</td>\n      <td>NaN</td>\n      <td>NaN</td>\n      <td>NaN</td>\n      <td>1.0</td>\n    </tr>\n    <tr>\n      <th>116</th>\n      <td>0</td>\n      <td>0.522233</td>\n      <td>T050304</td>\n      <td>A_31</td>\n      <td>11898.0</td>\n      <td>11898.0</td>\n      <td>NaN</td>\n      <td>NaN</td>\n      <td>0.18</td>\n      <td>0.20</td>\n      <td>...</td>\n      <td>174.0</td>\n      <td>384.0</td>\n      <td>367.037037</td>\n      <td>352.0</td>\n      <td>50.88</td>\n      <td>53.23</td>\n      <td>52.44</td>\n      <td>56.28</td>\n      <td>66.83</td>\n      <td>1.0</td>\n    </tr>\n    <tr>\n      <th>117</th>\n      <td>0</td>\n      <td>0.522340</td>\n      <td>T050304</td>\n      <td>A_31</td>\n      <td>11920.0</td>\n      <td>11920.0</td>\n      <td>NaN</td>\n      <td>NaN</td>\n      <td>0.19</td>\n      <td>0.20</td>\n      <td>...</td>\n      <td>181.6</td>\n      <td>394.0</td>\n      <td>371.943396</td>\n      <td>353.0</td>\n      <td>51.71</td>\n      <td>59.64</td>\n      <td>54.61</td>\n      <td>57.05</td>\n      <td>63.18</td>\n      <td>1.0</td>\n    </tr>\n    <tr>\n      <th>118</th>\n      <td>0</td>\n      <td>0.524022</td>\n      <td>T050304</td>\n      <td>A_31</td>\n      <td>14810.0</td>\n      <td>14810.0</td>\n      <td>NaN</td>\n      <td>NaN</td>\n      <td>0.19</td>\n      <td>0.20</td>\n      <td>...</td>\n      <td>168.7</td>\n      <td>384.0</td>\n      <td>369.811321</td>\n      <td>353.0</td>\n      <td>49.47</td>\n      <td>53.07</td>\n      <td>50.89</td>\n      <td>55.10</td>\n      <td>66.49</td>\n      <td>1.0</td>\n    </tr>\n    <tr>\n      <th>119</th>\n      <td>0</td>\n      <td>0.521289</td>\n      <td>T050304</td>\n      <td>A_31</td>\n      <td>14813.0</td>\n      <td>14813.0</td>\n      <td>NaN</td>\n      <td>NaN</td>\n      <td>0.19</td>\n      <td>0.20</td>\n      <td>...</td>\n      <td>156.6</td>\n      <td>383.0</td>\n      <td>367.018868</td>\n      <td>352.0</td>\n      <td>NaN</td>\n      <td>NaN</td>\n      <td>NaN</td>\n      <td>NaN</td>\n      <td>NaN</td>\n      <td>1.0</td>\n    </tr>\n  </tbody>\n</table>\n<p>120 rows × 1991 columns</p>\n</div>"
     },
     "execution_count": 7,
     "metadata": {},
     "output_type": "execute_result"
    }
   ],
   "source": [
    "test_a31_503.replace([np.inf, -np.inf], np.nan)"
   ],
   "metadata": {
    "collapsed": false
   }
  },
  {
   "cell_type": "code",
   "execution_count": 8,
   "outputs": [
    {
     "data": {
      "text/plain": "               0\nY_Class        0\nY_Quality      0\nLINE           0\nPRODUCT_CODE   0\nX_128         42\n...           ..\nX_2867        20\nX_2868        20\nX_2869        20\nX_2870        20\nX_2871        21\n\n[1991 rows x 1 columns]",
      "text/html": "<div>\n<style scoped>\n    .dataframe tbody tr th:only-of-type {\n        vertical-align: middle;\n    }\n\n    .dataframe tbody tr th {\n        vertical-align: top;\n    }\n\n    .dataframe thead th {\n        text-align: right;\n    }\n</style>\n<table border=\"1\" class=\"dataframe\">\n  <thead>\n    <tr style=\"text-align: right;\">\n      <th></th>\n      <th>0</th>\n    </tr>\n  </thead>\n  <tbody>\n    <tr>\n      <th>Y_Class</th>\n      <td>0</td>\n    </tr>\n    <tr>\n      <th>Y_Quality</th>\n      <td>0</td>\n    </tr>\n    <tr>\n      <th>LINE</th>\n      <td>0</td>\n    </tr>\n    <tr>\n      <th>PRODUCT_CODE</th>\n      <td>0</td>\n    </tr>\n    <tr>\n      <th>X_128</th>\n      <td>42</td>\n    </tr>\n    <tr>\n      <th>...</th>\n      <td>...</td>\n    </tr>\n    <tr>\n      <th>X_2867</th>\n      <td>20</td>\n    </tr>\n    <tr>\n      <th>X_2868</th>\n      <td>20</td>\n    </tr>\n    <tr>\n      <th>X_2869</th>\n      <td>20</td>\n    </tr>\n    <tr>\n      <th>X_2870</th>\n      <td>20</td>\n    </tr>\n    <tr>\n      <th>X_2871</th>\n      <td>21</td>\n    </tr>\n  </tbody>\n</table>\n<p>1991 rows × 1 columns</p>\n</div>"
     },
     "execution_count": 8,
     "metadata": {},
     "output_type": "execute_result"
    }
   ],
   "source": [
    "test_a31_503.isnull().sum().to_frame()"
   ],
   "metadata": {
    "collapsed": false
   }
  },
  {
   "cell_type": "code",
   "execution_count": 9,
   "outputs": [],
   "source": [
    "# test_a31_503 = test_a31_503.dropna(axis=1, how='any')"
   ],
   "metadata": {
    "collapsed": false
   }
  },
  {
   "cell_type": "code",
   "execution_count": 10,
   "metadata": {},
   "outputs": [],
   "source": [
    "# NaN 값 0으로 채우기\n",
    "train_a31_503 = train_a31_503.fillna(0)\n",
    "train_a31_103 = train_a31_103.fillna(0)\n",
    "train_o31 = train_o31.fillna(0)\n",
    "train_t31 = train_t31.fillna(0)\n",
    "\n",
    "test_a31_503 = test_a31_503.fillna(0)\n",
    "test_a31_103 = test_a31_103.fillna(0)\n",
    "test_o31 = test_o31.fillna(0)\n",
    "test_t31 = test_t31.fillna(0)"
   ]
  },
  {
   "cell_type": "code",
   "execution_count": 11,
   "outputs": [],
   "source": [
    "# train_a31_type1.describe()"
   ],
   "metadata": {
    "collapsed": false
   }
  },
  {
   "cell_type": "markdown",
   "metadata": {},
   "source": [
    "## Create Model (with Pycaret)"
   ]
  },
  {
   "cell_type": "code",
   "execution_count": 12,
   "metadata": {},
   "outputs": [
    {
     "ename": "ValueError",
     "evalue": "Input X contains infinity or a value too large for dtype('float64').",
     "output_type": "error",
     "traceback": [
      "\u001B[1;31m---------------------------------------------------------------------------\u001B[0m",
      "\u001B[1;31mValueError\u001B[0m                                Traceback (most recent call last)",
      "Cell \u001B[1;32mIn[12], line 4\u001B[0m\n\u001B[0;32m      1\u001B[0m \u001B[38;5;28;01mfrom\u001B[39;00m \u001B[38;5;21;01mpycaret\u001B[39;00m\u001B[38;5;21;01m.\u001B[39;00m\u001B[38;5;21;01mregression\u001B[39;00m \u001B[38;5;28;01mimport\u001B[39;00m \u001B[38;5;241m*\u001B[39m\n\u001B[0;32m      3\u001B[0m \u001B[38;5;66;03m# model setup\u001B[39;00m\n\u001B[1;32m----> 4\u001B[0m setup_regression \u001B[38;5;241m=\u001B[39m \u001B[43msetup\u001B[49m\u001B[43m(\u001B[49m\u001B[43mdata\u001B[49m\u001B[43m \u001B[49m\u001B[38;5;241;43m=\u001B[39;49m\u001B[43m \u001B[49m\u001B[43mtrain_a31_type1\u001B[49m\u001B[43m,\u001B[49m\n\u001B[0;32m      5\u001B[0m \u001B[43m                  \u001B[49m\u001B[43mtarget\u001B[49m\u001B[43m \u001B[49m\u001B[38;5;241;43m=\u001B[39;49m\u001B[43m \u001B[49m\u001B[38;5;124;43m'\u001B[39;49m\u001B[38;5;124;43mY_Quality\u001B[39;49m\u001B[38;5;124;43m'\u001B[39;49m\u001B[43m,\u001B[49m\n\u001B[0;32m      6\u001B[0m \u001B[43m                  \u001B[49m\u001B[43mignore_features\u001B[49m\u001B[43m \u001B[49m\u001B[38;5;241;43m=\u001B[39;49m\u001B[43m \u001B[49m\u001B[43m[\u001B[49m\u001B[38;5;124;43m'\u001B[39;49m\u001B[38;5;124;43mY_Class\u001B[39;49m\u001B[38;5;124;43m'\u001B[39;49m\u001B[43m]\u001B[49m\u001B[43m,\u001B[49m\n\u001B[0;32m      7\u001B[0m \u001B[43m                  \u001B[49m\u001B[43mnormalize\u001B[49m\u001B[43m \u001B[49m\u001B[38;5;241;43m=\u001B[39;49m\u001B[43m \u001B[49m\u001B[38;5;28;43;01mTrue\u001B[39;49;00m\u001B[43m,\u001B[49m\n\u001B[0;32m      8\u001B[0m \u001B[43m                  \u001B[49m\u001B[43mnormalize_method\u001B[49m\u001B[43m \u001B[49m\u001B[38;5;241;43m=\u001B[39;49m\u001B[43m \u001B[49m\u001B[38;5;124;43m'\u001B[39;49m\u001B[38;5;124;43mzscore\u001B[39;49m\u001B[38;5;124;43m'\u001B[39;49m\u001B[43m,\u001B[49m\n\u001B[0;32m      9\u001B[0m \u001B[43m                  \u001B[49m\u001B[43mtransformation\u001B[49m\u001B[43m \u001B[49m\u001B[38;5;241;43m=\u001B[39;49m\u001B[43m \u001B[49m\u001B[38;5;28;43;01mTrue\u001B[39;49;00m\u001B[43m,\u001B[49m\n\u001B[0;32m     10\u001B[0m \u001B[43m                  \u001B[49m\u001B[43mfold_strategy\u001B[49m\u001B[43m \u001B[49m\u001B[38;5;241;43m=\u001B[39;49m\u001B[43m \u001B[49m\u001B[38;5;124;43m'\u001B[39;49m\u001B[38;5;124;43mstratifiedkfold\u001B[39;49m\u001B[38;5;124;43m'\u001B[39;49m\u001B[43m,\u001B[49m\n\u001B[0;32m     11\u001B[0m \u001B[43m                  \u001B[49m\u001B[43muse_gpu\u001B[49m\u001B[43m \u001B[49m\u001B[38;5;241;43m=\u001B[39;49m\u001B[43m \u001B[49m\u001B[38;5;28;43;01mTrue\u001B[39;49;00m\n\u001B[0;32m     12\u001B[0m \u001B[43m                  \u001B[49m\u001B[43m)\u001B[49m\n\u001B[0;32m     14\u001B[0m \u001B[38;5;28mprint\u001B[39m(\u001B[38;5;124m\"\u001B[39m\u001B[38;5;124mComplete\u001B[39m\u001B[38;5;124m\"\u001B[39m)\n",
      "File \u001B[1;32m~\\anaconda3\\envs\\machineLearning\\lib\\site-packages\\pycaret\\regression\\functional.py:595\u001B[0m, in \u001B[0;36msetup\u001B[1;34m(data, data_func, target, index, train_size, test_data, ordinal_features, numeric_features, categorical_features, date_features, text_features, ignore_features, keep_features, preprocess, create_date_columns, imputation_type, numeric_imputation, categorical_imputation, iterative_imputation_iters, numeric_iterative_imputer, categorical_iterative_imputer, text_features_method, max_encoding_ohe, encoding_method, rare_to_value, rare_value, polynomial_features, polynomial_degree, low_variance_threshold, group_features, group_names, remove_multicollinearity, multicollinearity_threshold, bin_numeric_features, remove_outliers, outliers_method, outliers_threshold, transformation, transformation_method, normalize, normalize_method, pca, pca_method, pca_components, feature_selection, feature_selection_method, feature_selection_estimator, n_features_to_select, transform_target, transform_target_method, custom_pipeline, custom_pipeline_position, data_split_shuffle, data_split_stratify, fold_strategy, fold, fold_shuffle, fold_groups, n_jobs, use_gpu, html, session_id, system_log, log_experiment, experiment_name, experiment_custom_tags, log_plots, log_profile, log_data, verbose, memory, profile, profile_kwargs)\u001B[0m\n\u001B[0;32m    593\u001B[0m exp \u001B[38;5;241m=\u001B[39m _EXPERIMENT_CLASS()\n\u001B[0;32m    594\u001B[0m set_current_experiment(exp)\n\u001B[1;32m--> 595\u001B[0m \u001B[38;5;28;01mreturn\u001B[39;00m \u001B[43mexp\u001B[49m\u001B[38;5;241;43m.\u001B[39;49m\u001B[43msetup\u001B[49m\u001B[43m(\u001B[49m\n\u001B[0;32m    596\u001B[0m \u001B[43m    \u001B[49m\u001B[43mdata\u001B[49m\u001B[38;5;241;43m=\u001B[39;49m\u001B[43mdata\u001B[49m\u001B[43m,\u001B[49m\n\u001B[0;32m    597\u001B[0m \u001B[43m    \u001B[49m\u001B[43mdata_func\u001B[49m\u001B[38;5;241;43m=\u001B[39;49m\u001B[43mdata_func\u001B[49m\u001B[43m,\u001B[49m\n\u001B[0;32m    598\u001B[0m \u001B[43m    \u001B[49m\u001B[43mtarget\u001B[49m\u001B[38;5;241;43m=\u001B[39;49m\u001B[43mtarget\u001B[49m\u001B[43m,\u001B[49m\n\u001B[0;32m    599\u001B[0m \u001B[43m    \u001B[49m\u001B[43mindex\u001B[49m\u001B[38;5;241;43m=\u001B[39;49m\u001B[43mindex\u001B[49m\u001B[43m,\u001B[49m\n\u001B[0;32m    600\u001B[0m \u001B[43m    \u001B[49m\u001B[43mtrain_size\u001B[49m\u001B[38;5;241;43m=\u001B[39;49m\u001B[43mtrain_size\u001B[49m\u001B[43m,\u001B[49m\n\u001B[0;32m    601\u001B[0m \u001B[43m    \u001B[49m\u001B[43mtest_data\u001B[49m\u001B[38;5;241;43m=\u001B[39;49m\u001B[43mtest_data\u001B[49m\u001B[43m,\u001B[49m\n\u001B[0;32m    602\u001B[0m \u001B[43m    \u001B[49m\u001B[43mordinal_features\u001B[49m\u001B[38;5;241;43m=\u001B[39;49m\u001B[43mordinal_features\u001B[49m\u001B[43m,\u001B[49m\n\u001B[0;32m    603\u001B[0m \u001B[43m    \u001B[49m\u001B[43mnumeric_features\u001B[49m\u001B[38;5;241;43m=\u001B[39;49m\u001B[43mnumeric_features\u001B[49m\u001B[43m,\u001B[49m\n\u001B[0;32m    604\u001B[0m \u001B[43m    \u001B[49m\u001B[43mcategorical_features\u001B[49m\u001B[38;5;241;43m=\u001B[39;49m\u001B[43mcategorical_features\u001B[49m\u001B[43m,\u001B[49m\n\u001B[0;32m    605\u001B[0m \u001B[43m    \u001B[49m\u001B[43mdate_features\u001B[49m\u001B[38;5;241;43m=\u001B[39;49m\u001B[43mdate_features\u001B[49m\u001B[43m,\u001B[49m\n\u001B[0;32m    606\u001B[0m \u001B[43m    \u001B[49m\u001B[43mtext_features\u001B[49m\u001B[38;5;241;43m=\u001B[39;49m\u001B[43mtext_features\u001B[49m\u001B[43m,\u001B[49m\n\u001B[0;32m    607\u001B[0m \u001B[43m    \u001B[49m\u001B[43mignore_features\u001B[49m\u001B[38;5;241;43m=\u001B[39;49m\u001B[43mignore_features\u001B[49m\u001B[43m,\u001B[49m\n\u001B[0;32m    608\u001B[0m \u001B[43m    \u001B[49m\u001B[43mkeep_features\u001B[49m\u001B[38;5;241;43m=\u001B[39;49m\u001B[43mkeep_features\u001B[49m\u001B[43m,\u001B[49m\n\u001B[0;32m    609\u001B[0m \u001B[43m    \u001B[49m\u001B[43mpreprocess\u001B[49m\u001B[38;5;241;43m=\u001B[39;49m\u001B[43mpreprocess\u001B[49m\u001B[43m,\u001B[49m\n\u001B[0;32m    610\u001B[0m \u001B[43m    \u001B[49m\u001B[43mcreate_date_columns\u001B[49m\u001B[38;5;241;43m=\u001B[39;49m\u001B[43mcreate_date_columns\u001B[49m\u001B[43m,\u001B[49m\n\u001B[0;32m    611\u001B[0m \u001B[43m    \u001B[49m\u001B[43mimputation_type\u001B[49m\u001B[38;5;241;43m=\u001B[39;49m\u001B[43mimputation_type\u001B[49m\u001B[43m,\u001B[49m\n\u001B[0;32m    612\u001B[0m \u001B[43m    \u001B[49m\u001B[43mnumeric_imputation\u001B[49m\u001B[38;5;241;43m=\u001B[39;49m\u001B[43mnumeric_imputation\u001B[49m\u001B[43m,\u001B[49m\n\u001B[0;32m    613\u001B[0m \u001B[43m    \u001B[49m\u001B[43mcategorical_imputation\u001B[49m\u001B[38;5;241;43m=\u001B[39;49m\u001B[43mcategorical_imputation\u001B[49m\u001B[43m,\u001B[49m\n\u001B[0;32m    614\u001B[0m \u001B[43m    \u001B[49m\u001B[43miterative_imputation_iters\u001B[49m\u001B[38;5;241;43m=\u001B[39;49m\u001B[43miterative_imputation_iters\u001B[49m\u001B[43m,\u001B[49m\n\u001B[0;32m    615\u001B[0m \u001B[43m    \u001B[49m\u001B[43mnumeric_iterative_imputer\u001B[49m\u001B[38;5;241;43m=\u001B[39;49m\u001B[43mnumeric_iterative_imputer\u001B[49m\u001B[43m,\u001B[49m\n\u001B[0;32m    616\u001B[0m \u001B[43m    \u001B[49m\u001B[43mcategorical_iterative_imputer\u001B[49m\u001B[38;5;241;43m=\u001B[39;49m\u001B[43mcategorical_iterative_imputer\u001B[49m\u001B[43m,\u001B[49m\n\u001B[0;32m    617\u001B[0m \u001B[43m    \u001B[49m\u001B[43mtext_features_method\u001B[49m\u001B[38;5;241;43m=\u001B[39;49m\u001B[43mtext_features_method\u001B[49m\u001B[43m,\u001B[49m\n\u001B[0;32m    618\u001B[0m \u001B[43m    \u001B[49m\u001B[43mmax_encoding_ohe\u001B[49m\u001B[38;5;241;43m=\u001B[39;49m\u001B[43mmax_encoding_ohe\u001B[49m\u001B[43m,\u001B[49m\n\u001B[0;32m    619\u001B[0m \u001B[43m    \u001B[49m\u001B[43mencoding_method\u001B[49m\u001B[38;5;241;43m=\u001B[39;49m\u001B[43mencoding_method\u001B[49m\u001B[43m,\u001B[49m\n\u001B[0;32m    620\u001B[0m \u001B[43m    \u001B[49m\u001B[43mrare_to_value\u001B[49m\u001B[38;5;241;43m=\u001B[39;49m\u001B[43mrare_to_value\u001B[49m\u001B[43m,\u001B[49m\n\u001B[0;32m    621\u001B[0m \u001B[43m    \u001B[49m\u001B[43mrare_value\u001B[49m\u001B[38;5;241;43m=\u001B[39;49m\u001B[43mrare_value\u001B[49m\u001B[43m,\u001B[49m\n\u001B[0;32m    622\u001B[0m \u001B[43m    \u001B[49m\u001B[43mpolynomial_features\u001B[49m\u001B[38;5;241;43m=\u001B[39;49m\u001B[43mpolynomial_features\u001B[49m\u001B[43m,\u001B[49m\n\u001B[0;32m    623\u001B[0m \u001B[43m    \u001B[49m\u001B[43mpolynomial_degree\u001B[49m\u001B[38;5;241;43m=\u001B[39;49m\u001B[43mpolynomial_degree\u001B[49m\u001B[43m,\u001B[49m\n\u001B[0;32m    624\u001B[0m \u001B[43m    \u001B[49m\u001B[43mlow_variance_threshold\u001B[49m\u001B[38;5;241;43m=\u001B[39;49m\u001B[43mlow_variance_threshold\u001B[49m\u001B[43m,\u001B[49m\n\u001B[0;32m    625\u001B[0m \u001B[43m    \u001B[49m\u001B[43mgroup_features\u001B[49m\u001B[38;5;241;43m=\u001B[39;49m\u001B[43mgroup_features\u001B[49m\u001B[43m,\u001B[49m\n\u001B[0;32m    626\u001B[0m \u001B[43m    \u001B[49m\u001B[43mgroup_names\u001B[49m\u001B[38;5;241;43m=\u001B[39;49m\u001B[43mgroup_names\u001B[49m\u001B[43m,\u001B[49m\n\u001B[0;32m    627\u001B[0m \u001B[43m    \u001B[49m\u001B[43mremove_multicollinearity\u001B[49m\u001B[38;5;241;43m=\u001B[39;49m\u001B[43mremove_multicollinearity\u001B[49m\u001B[43m,\u001B[49m\n\u001B[0;32m    628\u001B[0m \u001B[43m    \u001B[49m\u001B[43mmulticollinearity_threshold\u001B[49m\u001B[38;5;241;43m=\u001B[39;49m\u001B[43mmulticollinearity_threshold\u001B[49m\u001B[43m,\u001B[49m\n\u001B[0;32m    629\u001B[0m \u001B[43m    \u001B[49m\u001B[43mbin_numeric_features\u001B[49m\u001B[38;5;241;43m=\u001B[39;49m\u001B[43mbin_numeric_features\u001B[49m\u001B[43m,\u001B[49m\n\u001B[0;32m    630\u001B[0m \u001B[43m    \u001B[49m\u001B[43mremove_outliers\u001B[49m\u001B[38;5;241;43m=\u001B[39;49m\u001B[43mremove_outliers\u001B[49m\u001B[43m,\u001B[49m\n\u001B[0;32m    631\u001B[0m \u001B[43m    \u001B[49m\u001B[43moutliers_method\u001B[49m\u001B[38;5;241;43m=\u001B[39;49m\u001B[43moutliers_method\u001B[49m\u001B[43m,\u001B[49m\n\u001B[0;32m    632\u001B[0m \u001B[43m    \u001B[49m\u001B[43moutliers_threshold\u001B[49m\u001B[38;5;241;43m=\u001B[39;49m\u001B[43moutliers_threshold\u001B[49m\u001B[43m,\u001B[49m\n\u001B[0;32m    633\u001B[0m \u001B[43m    \u001B[49m\u001B[43mtransformation\u001B[49m\u001B[38;5;241;43m=\u001B[39;49m\u001B[43mtransformation\u001B[49m\u001B[43m,\u001B[49m\n\u001B[0;32m    634\u001B[0m \u001B[43m    \u001B[49m\u001B[43mtransformation_method\u001B[49m\u001B[38;5;241;43m=\u001B[39;49m\u001B[43mtransformation_method\u001B[49m\u001B[43m,\u001B[49m\n\u001B[0;32m    635\u001B[0m \u001B[43m    \u001B[49m\u001B[43mnormalize\u001B[49m\u001B[38;5;241;43m=\u001B[39;49m\u001B[43mnormalize\u001B[49m\u001B[43m,\u001B[49m\n\u001B[0;32m    636\u001B[0m \u001B[43m    \u001B[49m\u001B[43mnormalize_method\u001B[49m\u001B[38;5;241;43m=\u001B[39;49m\u001B[43mnormalize_method\u001B[49m\u001B[43m,\u001B[49m\n\u001B[0;32m    637\u001B[0m \u001B[43m    \u001B[49m\u001B[43mpca\u001B[49m\u001B[38;5;241;43m=\u001B[39;49m\u001B[43mpca\u001B[49m\u001B[43m,\u001B[49m\n\u001B[0;32m    638\u001B[0m \u001B[43m    \u001B[49m\u001B[43mpca_method\u001B[49m\u001B[38;5;241;43m=\u001B[39;49m\u001B[43mpca_method\u001B[49m\u001B[43m,\u001B[49m\n\u001B[0;32m    639\u001B[0m \u001B[43m    \u001B[49m\u001B[43mpca_components\u001B[49m\u001B[38;5;241;43m=\u001B[39;49m\u001B[43mpca_components\u001B[49m\u001B[43m,\u001B[49m\n\u001B[0;32m    640\u001B[0m \u001B[43m    \u001B[49m\u001B[43mfeature_selection\u001B[49m\u001B[38;5;241;43m=\u001B[39;49m\u001B[43mfeature_selection\u001B[49m\u001B[43m,\u001B[49m\n\u001B[0;32m    641\u001B[0m \u001B[43m    \u001B[49m\u001B[43mfeature_selection_method\u001B[49m\u001B[38;5;241;43m=\u001B[39;49m\u001B[43mfeature_selection_method\u001B[49m\u001B[43m,\u001B[49m\n\u001B[0;32m    642\u001B[0m \u001B[43m    \u001B[49m\u001B[43mfeature_selection_estimator\u001B[49m\u001B[38;5;241;43m=\u001B[39;49m\u001B[43mfeature_selection_estimator\u001B[49m\u001B[43m,\u001B[49m\n\u001B[0;32m    643\u001B[0m \u001B[43m    \u001B[49m\u001B[43mn_features_to_select\u001B[49m\u001B[38;5;241;43m=\u001B[39;49m\u001B[43mn_features_to_select\u001B[49m\u001B[43m,\u001B[49m\n\u001B[0;32m    644\u001B[0m \u001B[43m    \u001B[49m\u001B[43mtransform_target\u001B[49m\u001B[38;5;241;43m=\u001B[39;49m\u001B[43mtransform_target\u001B[49m\u001B[43m,\u001B[49m\n\u001B[0;32m    645\u001B[0m \u001B[43m    \u001B[49m\u001B[43mtransform_target_method\u001B[49m\u001B[38;5;241;43m=\u001B[39;49m\u001B[43mtransform_target_method\u001B[49m\u001B[43m,\u001B[49m\n\u001B[0;32m    646\u001B[0m \u001B[43m    \u001B[49m\u001B[43mcustom_pipeline\u001B[49m\u001B[38;5;241;43m=\u001B[39;49m\u001B[43mcustom_pipeline\u001B[49m\u001B[43m,\u001B[49m\n\u001B[0;32m    647\u001B[0m \u001B[43m    \u001B[49m\u001B[43mcustom_pipeline_position\u001B[49m\u001B[38;5;241;43m=\u001B[39;49m\u001B[43mcustom_pipeline_position\u001B[49m\u001B[43m,\u001B[49m\n\u001B[0;32m    648\u001B[0m \u001B[43m    \u001B[49m\u001B[43mdata_split_shuffle\u001B[49m\u001B[38;5;241;43m=\u001B[39;49m\u001B[43mdata_split_shuffle\u001B[49m\u001B[43m,\u001B[49m\n\u001B[0;32m    649\u001B[0m \u001B[43m    \u001B[49m\u001B[43mdata_split_stratify\u001B[49m\u001B[38;5;241;43m=\u001B[39;49m\u001B[43mdata_split_stratify\u001B[49m\u001B[43m,\u001B[49m\n\u001B[0;32m    650\u001B[0m \u001B[43m    \u001B[49m\u001B[43mfold_strategy\u001B[49m\u001B[38;5;241;43m=\u001B[39;49m\u001B[43mfold_strategy\u001B[49m\u001B[43m,\u001B[49m\n\u001B[0;32m    651\u001B[0m \u001B[43m    \u001B[49m\u001B[43mfold\u001B[49m\u001B[38;5;241;43m=\u001B[39;49m\u001B[43mfold\u001B[49m\u001B[43m,\u001B[49m\n\u001B[0;32m    652\u001B[0m \u001B[43m    \u001B[49m\u001B[43mfold_shuffle\u001B[49m\u001B[38;5;241;43m=\u001B[39;49m\u001B[43mfold_shuffle\u001B[49m\u001B[43m,\u001B[49m\n\u001B[0;32m    653\u001B[0m \u001B[43m    \u001B[49m\u001B[43mfold_groups\u001B[49m\u001B[38;5;241;43m=\u001B[39;49m\u001B[43mfold_groups\u001B[49m\u001B[43m,\u001B[49m\n\u001B[0;32m    654\u001B[0m \u001B[43m    \u001B[49m\u001B[43mn_jobs\u001B[49m\u001B[38;5;241;43m=\u001B[39;49m\u001B[43mn_jobs\u001B[49m\u001B[43m,\u001B[49m\n\u001B[0;32m    655\u001B[0m \u001B[43m    \u001B[49m\u001B[43muse_gpu\u001B[49m\u001B[38;5;241;43m=\u001B[39;49m\u001B[43muse_gpu\u001B[49m\u001B[43m,\u001B[49m\n\u001B[0;32m    656\u001B[0m \u001B[43m    \u001B[49m\u001B[43mhtml\u001B[49m\u001B[38;5;241;43m=\u001B[39;49m\u001B[43mhtml\u001B[49m\u001B[43m,\u001B[49m\n\u001B[0;32m    657\u001B[0m \u001B[43m    \u001B[49m\u001B[43msession_id\u001B[49m\u001B[38;5;241;43m=\u001B[39;49m\u001B[43msession_id\u001B[49m\u001B[43m,\u001B[49m\n\u001B[0;32m    658\u001B[0m \u001B[43m    \u001B[49m\u001B[43msystem_log\u001B[49m\u001B[38;5;241;43m=\u001B[39;49m\u001B[43msystem_log\u001B[49m\u001B[43m,\u001B[49m\n\u001B[0;32m    659\u001B[0m \u001B[43m    \u001B[49m\u001B[43mlog_experiment\u001B[49m\u001B[38;5;241;43m=\u001B[39;49m\u001B[43mlog_experiment\u001B[49m\u001B[43m,\u001B[49m\n\u001B[0;32m    660\u001B[0m \u001B[43m    \u001B[49m\u001B[43mexperiment_name\u001B[49m\u001B[38;5;241;43m=\u001B[39;49m\u001B[43mexperiment_name\u001B[49m\u001B[43m,\u001B[49m\n\u001B[0;32m    661\u001B[0m \u001B[43m    \u001B[49m\u001B[43mexperiment_custom_tags\u001B[49m\u001B[38;5;241;43m=\u001B[39;49m\u001B[43mexperiment_custom_tags\u001B[49m\u001B[43m,\u001B[49m\n\u001B[0;32m    662\u001B[0m \u001B[43m    \u001B[49m\u001B[43mlog_plots\u001B[49m\u001B[38;5;241;43m=\u001B[39;49m\u001B[43mlog_plots\u001B[49m\u001B[43m,\u001B[49m\n\u001B[0;32m    663\u001B[0m \u001B[43m    \u001B[49m\u001B[43mlog_profile\u001B[49m\u001B[38;5;241;43m=\u001B[39;49m\u001B[43mlog_profile\u001B[49m\u001B[43m,\u001B[49m\n\u001B[0;32m    664\u001B[0m \u001B[43m    \u001B[49m\u001B[43mlog_data\u001B[49m\u001B[38;5;241;43m=\u001B[39;49m\u001B[43mlog_data\u001B[49m\u001B[43m,\u001B[49m\n\u001B[0;32m    665\u001B[0m \u001B[43m    \u001B[49m\u001B[43mverbose\u001B[49m\u001B[38;5;241;43m=\u001B[39;49m\u001B[43mverbose\u001B[49m\u001B[43m,\u001B[49m\n\u001B[0;32m    666\u001B[0m \u001B[43m    \u001B[49m\u001B[43mmemory\u001B[49m\u001B[38;5;241;43m=\u001B[39;49m\u001B[43mmemory\u001B[49m\u001B[43m,\u001B[49m\n\u001B[0;32m    667\u001B[0m \u001B[43m    \u001B[49m\u001B[43mprofile\u001B[49m\u001B[38;5;241;43m=\u001B[39;49m\u001B[43mprofile\u001B[49m\u001B[43m,\u001B[49m\n\u001B[0;32m    668\u001B[0m \u001B[43m    \u001B[49m\u001B[43mprofile_kwargs\u001B[49m\u001B[38;5;241;43m=\u001B[39;49m\u001B[43mprofile_kwargs\u001B[49m\u001B[43m,\u001B[49m\n\u001B[0;32m    669\u001B[0m \u001B[43m\u001B[49m\u001B[43m)\u001B[49m\n",
      "File \u001B[1;32m~\\anaconda3\\envs\\machineLearning\\lib\\site-packages\\pycaret\\regression\\oop.py:854\u001B[0m, in \u001B[0;36mRegressionExperiment.setup\u001B[1;34m(self, data, data_func, target, index, train_size, test_data, ordinal_features, numeric_features, categorical_features, date_features, text_features, ignore_features, keep_features, preprocess, create_date_columns, imputation_type, numeric_imputation, categorical_imputation, iterative_imputation_iters, numeric_iterative_imputer, categorical_iterative_imputer, text_features_method, max_encoding_ohe, encoding_method, rare_to_value, rare_value, polynomial_features, polynomial_degree, low_variance_threshold, group_features, group_names, remove_multicollinearity, multicollinearity_threshold, bin_numeric_features, remove_outliers, outliers_method, outliers_threshold, transformation, transformation_method, normalize, normalize_method, pca, pca_method, pca_components, feature_selection, feature_selection_method, feature_selection_estimator, n_features_to_select, transform_target, transform_target_method, custom_pipeline, custom_pipeline_position, data_split_shuffle, data_split_stratify, fold_strategy, fold, fold_shuffle, fold_groups, n_jobs, use_gpu, html, session_id, system_log, log_experiment, experiment_name, experiment_custom_tags, log_plots, log_profile, log_data, engine, verbose, memory, profile, profile_kwargs)\u001B[0m\n\u001B[0;32m    851\u001B[0m \u001B[38;5;28;01mif\u001B[39;00m (\u001B[38;5;124m\"\u001B[39m\u001B[38;5;124mplaceholder\u001B[39m\u001B[38;5;124m\"\u001B[39m, \u001B[38;5;28;01mNone\u001B[39;00m) \u001B[38;5;129;01min\u001B[39;00m \u001B[38;5;28mself\u001B[39m\u001B[38;5;241m.\u001B[39mpipeline\u001B[38;5;241m.\u001B[39msteps \u001B[38;5;129;01mand\u001B[39;00m \u001B[38;5;28mlen\u001B[39m(\u001B[38;5;28mself\u001B[39m\u001B[38;5;241m.\u001B[39mpipeline) \u001B[38;5;241m>\u001B[39m \u001B[38;5;241m1\u001B[39m:\n\u001B[0;32m    852\u001B[0m     \u001B[38;5;28mself\u001B[39m\u001B[38;5;241m.\u001B[39mpipeline\u001B[38;5;241m.\u001B[39msteps\u001B[38;5;241m.\u001B[39mremove((\u001B[38;5;124m\"\u001B[39m\u001B[38;5;124mplaceholder\u001B[39m\u001B[38;5;124m\"\u001B[39m, \u001B[38;5;28;01mNone\u001B[39;00m))\n\u001B[1;32m--> 854\u001B[0m \u001B[38;5;28;43mself\u001B[39;49m\u001B[38;5;241;43m.\u001B[39;49m\u001B[43mpipeline\u001B[49m\u001B[38;5;241;43m.\u001B[39;49m\u001B[43mfit\u001B[49m\u001B[43m(\u001B[49m\u001B[38;5;28;43mself\u001B[39;49m\u001B[38;5;241;43m.\u001B[39;49m\u001B[43mX_train\u001B[49m\u001B[43m,\u001B[49m\u001B[43m \u001B[49m\u001B[38;5;28;43mself\u001B[39;49m\u001B[38;5;241;43m.\u001B[39;49m\u001B[43my_train\u001B[49m\u001B[43m)\u001B[49m\n\u001B[0;32m    856\u001B[0m \u001B[38;5;28mself\u001B[39m\u001B[38;5;241m.\u001B[39mlogger\u001B[38;5;241m.\u001B[39minfo(\u001B[38;5;124m\"\u001B[39m\u001B[38;5;124mFinished creating preprocessing pipeline.\u001B[39m\u001B[38;5;124m\"\u001B[39m)\n\u001B[0;32m    857\u001B[0m \u001B[38;5;28mself\u001B[39m\u001B[38;5;241m.\u001B[39mlogger\u001B[38;5;241m.\u001B[39minfo(\u001B[38;5;124mf\u001B[39m\u001B[38;5;124m\"\u001B[39m\u001B[38;5;124mPipeline: \u001B[39m\u001B[38;5;132;01m{\u001B[39;00m\u001B[38;5;28mself\u001B[39m\u001B[38;5;241m.\u001B[39mpipeline\u001B[38;5;132;01m}\u001B[39;00m\u001B[38;5;124m\"\u001B[39m)\n",
      "File \u001B[1;32m~\\anaconda3\\envs\\machineLearning\\lib\\site-packages\\pycaret\\internal\\pipeline.py:216\u001B[0m, in \u001B[0;36mPipeline.fit\u001B[1;34m(self, X, y, **fit_params)\u001B[0m\n\u001B[0;32m    214\u001B[0m     \u001B[38;5;28;01mif\u001B[39;00m \u001B[38;5;28mself\u001B[39m\u001B[38;5;241m.\u001B[39m_final_estimator \u001B[38;5;241m!=\u001B[39m \u001B[38;5;124m\"\u001B[39m\u001B[38;5;124mpassthrough\u001B[39m\u001B[38;5;124m\"\u001B[39m:\n\u001B[0;32m    215\u001B[0m         fit_params_last_step \u001B[38;5;241m=\u001B[39m fit_params_steps[\u001B[38;5;28mself\u001B[39m\u001B[38;5;241m.\u001B[39msteps[\u001B[38;5;241m-\u001B[39m\u001B[38;5;241m1\u001B[39m][\u001B[38;5;241m0\u001B[39m]]\n\u001B[1;32m--> 216\u001B[0m         _fit_one(\u001B[38;5;28mself\u001B[39m\u001B[38;5;241m.\u001B[39m_final_estimator, X, y, \u001B[38;5;241m*\u001B[39m\u001B[38;5;241m*\u001B[39mfit_params_last_step)\n\u001B[0;32m    218\u001B[0m \u001B[38;5;28;01mreturn\u001B[39;00m \u001B[38;5;28mself\u001B[39m\n",
      "File \u001B[1;32m~\\anaconda3\\envs\\machineLearning\\lib\\site-packages\\pycaret\\internal\\pipeline.py:54\u001B[0m, in \u001B[0;36m_fit_one\u001B[1;34m(transformer, X, y, message, **fit_params)\u001B[0m\n\u001B[0;32m     52\u001B[0m \u001B[38;5;28;01mif\u001B[39;00m \u001B[38;5;124m\"\u001B[39m\u001B[38;5;124my\u001B[39m\u001B[38;5;124m\"\u001B[39m \u001B[38;5;129;01min\u001B[39;00m signature(transformer\u001B[38;5;241m.\u001B[39mfit)\u001B[38;5;241m.\u001B[39mparameters:\n\u001B[0;32m     53\u001B[0m     args\u001B[38;5;241m.\u001B[39mappend(y)\n\u001B[1;32m---> 54\u001B[0m transformer\u001B[38;5;241m.\u001B[39mfit(\u001B[38;5;241m*\u001B[39margs, \u001B[38;5;241m*\u001B[39m\u001B[38;5;241m*\u001B[39mfit_params)\n",
      "File \u001B[1;32m~\\anaconda3\\envs\\machineLearning\\lib\\site-packages\\pycaret\\internal\\preprocess\\transformers.py:216\u001B[0m, in \u001B[0;36mTransformerWrapper.fit\u001B[1;34m(self, X, y, **fit_params)\u001B[0m\n\u001B[0;32m    213\u001B[0m \u001B[38;5;28;01mif\u001B[39;00m \u001B[38;5;124m\"\u001B[39m\u001B[38;5;124my\u001B[39m\u001B[38;5;124m\"\u001B[39m \u001B[38;5;129;01min\u001B[39;00m transformer_params \u001B[38;5;129;01mand\u001B[39;00m y \u001B[38;5;129;01mis\u001B[39;00m \u001B[38;5;129;01mnot\u001B[39;00m \u001B[38;5;28;01mNone\u001B[39;00m:\n\u001B[0;32m    214\u001B[0m     args\u001B[38;5;241m.\u001B[39mappend(y)\n\u001B[1;32m--> 216\u001B[0m \u001B[38;5;28mself\u001B[39m\u001B[38;5;241m.\u001B[39mtransformer\u001B[38;5;241m.\u001B[39mfit(\u001B[38;5;241m*\u001B[39margs, \u001B[38;5;241m*\u001B[39m\u001B[38;5;241m*\u001B[39mfit_params)\n\u001B[0;32m    217\u001B[0m \u001B[38;5;28;01mreturn\u001B[39;00m \u001B[38;5;28mself\u001B[39m\n",
      "File \u001B[1;32m~\\anaconda3\\envs\\machineLearning\\lib\\site-packages\\sklearn\\preprocessing\\_data.py:809\u001B[0m, in \u001B[0;36mStandardScaler.fit\u001B[1;34m(self, X, y, sample_weight)\u001B[0m\n\u001B[0;32m    807\u001B[0m \u001B[38;5;66;03m# Reset internal state before fitting\u001B[39;00m\n\u001B[0;32m    808\u001B[0m \u001B[38;5;28mself\u001B[39m\u001B[38;5;241m.\u001B[39m_reset()\n\u001B[1;32m--> 809\u001B[0m \u001B[38;5;28;01mreturn\u001B[39;00m \u001B[38;5;28;43mself\u001B[39;49m\u001B[38;5;241;43m.\u001B[39;49m\u001B[43mpartial_fit\u001B[49m\u001B[43m(\u001B[49m\u001B[43mX\u001B[49m\u001B[43m,\u001B[49m\u001B[43m \u001B[49m\u001B[43my\u001B[49m\u001B[43m,\u001B[49m\u001B[43m \u001B[49m\u001B[43msample_weight\u001B[49m\u001B[43m)\u001B[49m\n",
      "File \u001B[1;32m~\\anaconda3\\envs\\machineLearning\\lib\\site-packages\\sklearn\\preprocessing\\_data.py:844\u001B[0m, in \u001B[0;36mStandardScaler.partial_fit\u001B[1;34m(self, X, y, sample_weight)\u001B[0m\n\u001B[0;32m    812\u001B[0m \u001B[38;5;250m\u001B[39m\u001B[38;5;124;03m\"\"\"Online computation of mean and std on X for later scaling.\u001B[39;00m\n\u001B[0;32m    813\u001B[0m \n\u001B[0;32m    814\u001B[0m \u001B[38;5;124;03mAll of X is processed as a single batch. This is intended for cases\u001B[39;00m\n\u001B[1;32m   (...)\u001B[0m\n\u001B[0;32m    841\u001B[0m \u001B[38;5;124;03m    Fitted scaler.\u001B[39;00m\n\u001B[0;32m    842\u001B[0m \u001B[38;5;124;03m\"\"\"\u001B[39;00m\n\u001B[0;32m    843\u001B[0m first_call \u001B[38;5;241m=\u001B[39m \u001B[38;5;129;01mnot\u001B[39;00m \u001B[38;5;28mhasattr\u001B[39m(\u001B[38;5;28mself\u001B[39m, \u001B[38;5;124m\"\u001B[39m\u001B[38;5;124mn_samples_seen_\u001B[39m\u001B[38;5;124m\"\u001B[39m)\n\u001B[1;32m--> 844\u001B[0m X \u001B[38;5;241m=\u001B[39m \u001B[38;5;28;43mself\u001B[39;49m\u001B[38;5;241;43m.\u001B[39;49m\u001B[43m_validate_data\u001B[49m\u001B[43m(\u001B[49m\n\u001B[0;32m    845\u001B[0m \u001B[43m    \u001B[49m\u001B[43mX\u001B[49m\u001B[43m,\u001B[49m\n\u001B[0;32m    846\u001B[0m \u001B[43m    \u001B[49m\u001B[43maccept_sparse\u001B[49m\u001B[38;5;241;43m=\u001B[39;49m\u001B[43m(\u001B[49m\u001B[38;5;124;43m\"\u001B[39;49m\u001B[38;5;124;43mcsr\u001B[39;49m\u001B[38;5;124;43m\"\u001B[39;49m\u001B[43m,\u001B[49m\u001B[43m \u001B[49m\u001B[38;5;124;43m\"\u001B[39;49m\u001B[38;5;124;43mcsc\u001B[39;49m\u001B[38;5;124;43m\"\u001B[39;49m\u001B[43m)\u001B[49m\u001B[43m,\u001B[49m\n\u001B[0;32m    847\u001B[0m \u001B[43m    \u001B[49m\u001B[43mdtype\u001B[49m\u001B[38;5;241;43m=\u001B[39;49m\u001B[43mFLOAT_DTYPES\u001B[49m\u001B[43m,\u001B[49m\n\u001B[0;32m    848\u001B[0m \u001B[43m    \u001B[49m\u001B[43mforce_all_finite\u001B[49m\u001B[38;5;241;43m=\u001B[39;49m\u001B[38;5;124;43m\"\u001B[39;49m\u001B[38;5;124;43mallow-nan\u001B[39;49m\u001B[38;5;124;43m\"\u001B[39;49m\u001B[43m,\u001B[49m\n\u001B[0;32m    849\u001B[0m \u001B[43m    \u001B[49m\u001B[43mreset\u001B[49m\u001B[38;5;241;43m=\u001B[39;49m\u001B[43mfirst_call\u001B[49m\u001B[43m,\u001B[49m\n\u001B[0;32m    850\u001B[0m \u001B[43m\u001B[49m\u001B[43m)\u001B[49m\n\u001B[0;32m    851\u001B[0m n_features \u001B[38;5;241m=\u001B[39m X\u001B[38;5;241m.\u001B[39mshape[\u001B[38;5;241m1\u001B[39m]\n\u001B[0;32m    853\u001B[0m \u001B[38;5;28;01mif\u001B[39;00m sample_weight \u001B[38;5;129;01mis\u001B[39;00m \u001B[38;5;129;01mnot\u001B[39;00m \u001B[38;5;28;01mNone\u001B[39;00m:\n",
      "File \u001B[1;32m~\\anaconda3\\envs\\machineLearning\\lib\\site-packages\\sklearn\\base.py:577\u001B[0m, in \u001B[0;36mBaseEstimator._validate_data\u001B[1;34m(self, X, y, reset, validate_separately, **check_params)\u001B[0m\n\u001B[0;32m    575\u001B[0m     \u001B[38;5;28;01mraise\u001B[39;00m \u001B[38;5;167;01mValueError\u001B[39;00m(\u001B[38;5;124m\"\u001B[39m\u001B[38;5;124mValidation should be done on X, y or both.\u001B[39m\u001B[38;5;124m\"\u001B[39m)\n\u001B[0;32m    576\u001B[0m \u001B[38;5;28;01melif\u001B[39;00m \u001B[38;5;129;01mnot\u001B[39;00m no_val_X \u001B[38;5;129;01mand\u001B[39;00m no_val_y:\n\u001B[1;32m--> 577\u001B[0m     X \u001B[38;5;241m=\u001B[39m check_array(X, input_name\u001B[38;5;241m=\u001B[39m\u001B[38;5;124m\"\u001B[39m\u001B[38;5;124mX\u001B[39m\u001B[38;5;124m\"\u001B[39m, \u001B[38;5;241m*\u001B[39m\u001B[38;5;241m*\u001B[39mcheck_params)\n\u001B[0;32m    578\u001B[0m     out \u001B[38;5;241m=\u001B[39m X\n\u001B[0;32m    579\u001B[0m \u001B[38;5;28;01melif\u001B[39;00m no_val_X \u001B[38;5;129;01mand\u001B[39;00m \u001B[38;5;129;01mnot\u001B[39;00m no_val_y:\n",
      "File \u001B[1;32m~\\anaconda3\\envs\\machineLearning\\lib\\site-packages\\sklearn\\utils\\validation.py:899\u001B[0m, in \u001B[0;36mcheck_array\u001B[1;34m(array, accept_sparse, accept_large_sparse, dtype, order, copy, force_all_finite, ensure_2d, allow_nd, ensure_min_samples, ensure_min_features, estimator, input_name)\u001B[0m\n\u001B[0;32m    893\u001B[0m         \u001B[38;5;28;01mraise\u001B[39;00m \u001B[38;5;167;01mValueError\u001B[39;00m(\n\u001B[0;32m    894\u001B[0m             \u001B[38;5;124m\"\u001B[39m\u001B[38;5;124mFound array with dim \u001B[39m\u001B[38;5;132;01m%d\u001B[39;00m\u001B[38;5;124m. \u001B[39m\u001B[38;5;132;01m%s\u001B[39;00m\u001B[38;5;124m expected <= 2.\u001B[39m\u001B[38;5;124m\"\u001B[39m\n\u001B[0;32m    895\u001B[0m             \u001B[38;5;241m%\u001B[39m (array\u001B[38;5;241m.\u001B[39mndim, estimator_name)\n\u001B[0;32m    896\u001B[0m         )\n\u001B[0;32m    898\u001B[0m     \u001B[38;5;28;01mif\u001B[39;00m force_all_finite:\n\u001B[1;32m--> 899\u001B[0m         \u001B[43m_assert_all_finite\u001B[49m\u001B[43m(\u001B[49m\n\u001B[0;32m    900\u001B[0m \u001B[43m            \u001B[49m\u001B[43marray\u001B[49m\u001B[43m,\u001B[49m\n\u001B[0;32m    901\u001B[0m \u001B[43m            \u001B[49m\u001B[43minput_name\u001B[49m\u001B[38;5;241;43m=\u001B[39;49m\u001B[43minput_name\u001B[49m\u001B[43m,\u001B[49m\n\u001B[0;32m    902\u001B[0m \u001B[43m            \u001B[49m\u001B[43mestimator_name\u001B[49m\u001B[38;5;241;43m=\u001B[39;49m\u001B[43mestimator_name\u001B[49m\u001B[43m,\u001B[49m\n\u001B[0;32m    903\u001B[0m \u001B[43m            \u001B[49m\u001B[43mallow_nan\u001B[49m\u001B[38;5;241;43m=\u001B[39;49m\u001B[43mforce_all_finite\u001B[49m\u001B[43m \u001B[49m\u001B[38;5;241;43m==\u001B[39;49m\u001B[43m \u001B[49m\u001B[38;5;124;43m\"\u001B[39;49m\u001B[38;5;124;43mallow-nan\u001B[39;49m\u001B[38;5;124;43m\"\u001B[39;49m\u001B[43m,\u001B[49m\n\u001B[0;32m    904\u001B[0m \u001B[43m        \u001B[49m\u001B[43m)\u001B[49m\n\u001B[0;32m    906\u001B[0m \u001B[38;5;28;01mif\u001B[39;00m ensure_min_samples \u001B[38;5;241m>\u001B[39m \u001B[38;5;241m0\u001B[39m:\n\u001B[0;32m    907\u001B[0m     n_samples \u001B[38;5;241m=\u001B[39m _num_samples(array)\n",
      "File \u001B[1;32m~\\anaconda3\\envs\\machineLearning\\lib\\site-packages\\sklearn\\utils\\validation.py:146\u001B[0m, in \u001B[0;36m_assert_all_finite\u001B[1;34m(X, allow_nan, msg_dtype, estimator_name, input_name)\u001B[0m\n\u001B[0;32m    124\u001B[0m         \u001B[38;5;28;01mif\u001B[39;00m (\n\u001B[0;32m    125\u001B[0m             \u001B[38;5;129;01mnot\u001B[39;00m allow_nan\n\u001B[0;32m    126\u001B[0m             \u001B[38;5;129;01mand\u001B[39;00m estimator_name\n\u001B[1;32m   (...)\u001B[0m\n\u001B[0;32m    130\u001B[0m             \u001B[38;5;66;03m# Improve the error message on how to handle missing values in\u001B[39;00m\n\u001B[0;32m    131\u001B[0m             \u001B[38;5;66;03m# scikit-learn.\u001B[39;00m\n\u001B[0;32m    132\u001B[0m             msg_err \u001B[38;5;241m+\u001B[39m\u001B[38;5;241m=\u001B[39m (\n\u001B[0;32m    133\u001B[0m                 \u001B[38;5;124mf\u001B[39m\u001B[38;5;124m\"\u001B[39m\u001B[38;5;130;01m\\n\u001B[39;00m\u001B[38;5;132;01m{\u001B[39;00mestimator_name\u001B[38;5;132;01m}\u001B[39;00m\u001B[38;5;124m does not accept missing values\u001B[39m\u001B[38;5;124m\"\u001B[39m\n\u001B[0;32m    134\u001B[0m                 \u001B[38;5;124m\"\u001B[39m\u001B[38;5;124m encoded as NaN natively. For supervised learning, you might want\u001B[39m\u001B[38;5;124m\"\u001B[39m\n\u001B[1;32m   (...)\u001B[0m\n\u001B[0;32m    144\u001B[0m                 \u001B[38;5;124m\"\u001B[39m\u001B[38;5;124m#estimators-that-handle-nan-values\u001B[39m\u001B[38;5;124m\"\u001B[39m\n\u001B[0;32m    145\u001B[0m             )\n\u001B[1;32m--> 146\u001B[0m         \u001B[38;5;28;01mraise\u001B[39;00m \u001B[38;5;167;01mValueError\u001B[39;00m(msg_err)\n\u001B[0;32m    148\u001B[0m \u001B[38;5;66;03m# for object dtype data, we only check for NaNs (GH-13254)\u001B[39;00m\n\u001B[0;32m    149\u001B[0m \u001B[38;5;28;01melif\u001B[39;00m X\u001B[38;5;241m.\u001B[39mdtype \u001B[38;5;241m==\u001B[39m np\u001B[38;5;241m.\u001B[39mdtype(\u001B[38;5;124m\"\u001B[39m\u001B[38;5;124mobject\u001B[39m\u001B[38;5;124m\"\u001B[39m) \u001B[38;5;129;01mand\u001B[39;00m \u001B[38;5;129;01mnot\u001B[39;00m allow_nan:\n",
      "\u001B[1;31mValueError\u001B[0m: Input X contains infinity or a value too large for dtype('float64')."
     ]
    }
   ],
   "source": [
    "from pycaret import regression as reg\n",
    "\n",
    "# model setup\n",
    "setup_regression = reg.setup(data = train_a31_503, target = 'Y_Quality')\n",
    "\n",
    "print(\"Complete\")"
   ]
  },
  {
   "cell_type": "markdown",
   "metadata": {},
   "source": [
    "## Model Comparison & Selection & Tuning"
   ]
  },
  {
   "cell_type": "code",
   "execution_count": null,
   "metadata": {},
   "outputs": [],
   "source": [
    "# 모델 성능 비교하는 부분 (스킵)\n",
    "\n",
    "reg.models()"
   ]
  },
  {
   "cell_type": "code",
   "execution_count": null,
   "metadata": {},
   "outputs": [],
   "source": [
    "# 성능이 매우 안좋거나 동작 시간이 너무 오래 걸리는 모델 제외\n",
    "best_model_regression = reg.compare_models(exclude = ['br', 'lar', 'rf', 'et', 'par', 'huber', 'catboost'])\n",
    "\n",
    "# best_model_regression = reg.compare_models(exclude = ['br', 'lar', 'rf', 'et', 'par', 'huber', 'catboost'], n_select = 5) # 여러 개 섞어서 쓸 때\n",
    "# best_model_regression = reg.create_model('gbr') # create_model 사용 시"
   ]
  },
  {
   "cell_type": "markdown",
   "metadata": {},
   "source": []
  },
  {
   "cell_type": "code",
   "execution_count": null,
   "metadata": {},
   "outputs": [],
   "source": [
    "# 모델 튜닝\n",
    "tuned_model_regression = reg.tune_model(best_model_regression, choose_better = True)"
   ]
  },
  {
   "cell_type": "code",
   "execution_count": null,
   "metadata": {},
   "outputs": [],
   "source": [
    "# 모델 앙상블 (여러 모델 사용 시)\n",
    "# blended = blend_models(estimator_list=best3models, fold=10, method='soft')"
   ]
  },
  {
   "cell_type": "code",
   "execution_count": null,
   "metadata": {},
   "outputs": [],
   "source": [
    "final_model_regression_a31_503 = reg.finalize_model(tuned_model_regression)"
   ]
  },
  {
   "cell_type": "code",
   "execution_count": null,
   "outputs": [],
   "source": [
    "# 반복\n",
    "setup_regression = reg.setup(data = train_a31_103, target = 'Y_Quality')\n",
    "\n",
    "best_model_regression = reg.compare_models(exclude = ['br', 'lar', 'rf', 'et', 'par', 'huber', 'catboost'])\n",
    "\n",
    "tuned_model_regression = reg.tune_model(best_model_regression, choose_better = True)\n",
    "\n",
    "final_model_regression_a31_103 = reg.finalize_model(tuned_model_regression)\n",
    "\n",
    "print(\"Complete\")"
   ],
   "metadata": {
    "collapsed": false
   }
  },
  {
   "cell_type": "code",
   "execution_count": null,
   "outputs": [],
   "source": [
    "setup_regression = reg.setup(data = train_o31, target = 'Y_Quality')\n",
    "\n",
    "best_model_regression = reg.compare_models(exclude = ['br', 'lar', 'rf', 'et', 'par', 'huber', 'catboost'])\n",
    "\n",
    "tuned_model_regression = reg.tune_model(best_model_regression, choose_better = True)\n",
    "\n",
    "final_model_regression_o31 = reg.finalize_model(tuned_model_regression)\n",
    "\n",
    "print(\"Complete\")"
   ],
   "metadata": {
    "collapsed": false
   }
  },
  {
   "cell_type": "code",
   "execution_count": null,
   "outputs": [],
   "source": [
    "setup_regression = reg.setup(data = train_t31, target = 'Y_Quality')\n",
    "\n",
    "best_model_regression = reg.compare_models(exclude = ['br', 'lar', 'rf', 'et', 'par', 'huber', 'catboost'])\n",
    "\n",
    "tuned_model_regression = reg.tune_model(best_model_regression, choose_better = True)\n",
    "\n",
    "final_model_regression_t31 = reg.finalize_model(tuned_model_regression)\n",
    "\n",
    "print(\"Complete\")"
   ],
   "metadata": {
    "collapsed": false
   }
  },
  {
   "cell_type": "code",
   "execution_count": null,
   "outputs": [],
   "source": [
    "from pycaret import classification as cls\n",
    "\n",
    "# model setup\n",
    "setup_classification = cls.setup(data = train_x2, target = 'Y_Class',)\n",
    "\n",
    "print(\"Complete\")"
   ],
   "metadata": {
    "collapsed": false
   }
  },
  {
   "cell_type": "code",
   "execution_count": null,
   "outputs": [],
   "source": [
    "# 모델 성능 비교하는 부분\n",
    "\n",
    "cls.models()"
   ],
   "metadata": {
    "collapsed": false
   }
  },
  {
   "cell_type": "code",
   "execution_count": null,
   "outputs": [],
   "source": [
    "best_model_classification = cls.compare_models()"
   ],
   "metadata": {
    "collapsed": false
   }
  },
  {
   "cell_type": "code",
   "execution_count": null,
   "outputs": [],
   "source": [
    "# 모델 튜닝\n",
    "tuned_model_classification = cls.tune_model(best_model_classification)"
   ],
   "metadata": {
    "collapsed": false
   }
  },
  {
   "cell_type": "code",
   "execution_count": null,
   "outputs": [],
   "source": [
    "# 모델 학습\n",
    "final_model_classification = cls.finalize_model(tuned_model_classification)"
   ],
   "metadata": {
    "collapsed": false
   }
  },
  {
   "cell_type": "markdown",
   "metadata": {},
   "source": [
    "## Save & Load Model"
   ]
  },
  {
   "cell_type": "code",
   "execution_count": null,
   "metadata": {},
   "outputs": [],
   "source": [
    "# save_model(blended, './blended')"
   ]
  },
  {
   "cell_type": "code",
   "execution_count": null,
   "metadata": {},
   "outputs": [],
   "source": [
    "# model = load_model('./blended')"
   ]
  },
  {
   "cell_type": "markdown",
   "metadata": {},
   "source": [
    "## Predict"
   ]
  },
  {
   "cell_type": "code",
   "execution_count": null,
   "metadata": {},
   "outputs": [],
   "source": [
    "# pred_y = predict_model(model, data=test_data)"
   ]
  },
  {
   "cell_type": "code",
   "execution_count": null,
   "outputs": [],
   "source": [
    "# Quality 예측\n",
    "pred_y_a31_503 = reg.predict_model(final_model_regression_a31_503, data=test_a31_503)\n",
    "pred_y_a31_103 = reg.predict_model(final_model_regression_a31_103, data=test_a31_103)\n",
    "pred_y_o31 = reg.predict_model(final_model_regression_o31, data=test_o31)\n",
    "pred_y_t31 = reg.predict_model(final_model_regression_t31, data=test_t31)"
   ],
   "metadata": {
    "collapsed": false
   }
  },
  {
   "cell_type": "code",
   "execution_count": null,
   "outputs": [],
   "source": [
    "# 예측 결과를 하나의 데이터프레임으로 합침\n",
    "pred_y1 = pd.concat([pred_y_a31_503, pred_y_a31_103, pred_y_o31, pred_y_t31])"
   ],
   "metadata": {
    "collapsed": false
   }
  },
  {
   "cell_type": "code",
   "execution_count": null,
   "outputs": [],
   "source": [
    "# PRODUCT_ID를 기준으로 오름차순 정렬\n",
    "pred_y1 = pred_y1.sort_values(by=['PRODUCT_ID'])"
   ],
   "metadata": {
    "collapsed": false
   }
  },
  {
   "cell_type": "code",
   "execution_count": null,
   "outputs": [],
   "source": [
    "# Y_Class만 추출\n",
    "pred_regression_y = pd.DataFrame(pred_y1['prediction_label'])"
   ],
   "metadata": {
    "collapsed": false
   }
  },
  {
   "cell_type": "code",
   "execution_count": null,
   "outputs": [],
   "source": [
    "pred_regression_y.rename(columns={'prediction_label':'Y_Quality'}, inplace = True)"
   ],
   "metadata": {
    "collapsed": false
   }
  },
  {
   "cell_type": "code",
   "execution_count": null,
   "outputs": [],
   "source": [
    "pred_y = cls.predict_model(final_model_classification, data=pred_y1)"
   ],
   "metadata": {
    "collapsed": false
   }
  },
  {
   "cell_type": "markdown",
   "metadata": {},
   "source": [
    "## Submission"
   ]
  },
  {
   "cell_type": "code",
   "execution_count": null,
   "outputs": [],
   "source": [
    "pred_y"
   ],
   "metadata": {
    "collapsed": false
   }
  },
  {
   "cell_type": "code",
   "execution_count": null,
   "metadata": {},
   "outputs": [],
   "source": [
    "submit = pd.read_csv('./data/sample_submission.csv')\n",
    "submit['Y_Class'] = pd.DataFrame(pred_y['prediction_label'])\n",
    "submit.to_csv('./data/submission_blackcows_divide.csv', index=False)"
   ]
  }
 ],
 "metadata": {
  "kernelspec": {
   "display_name": "Python 3 (ipykernel)",
   "language": "python",
   "name": "python3"
  },
  "language_info": {
   "codemirror_mode": {
    "name": "ipython",
    "version": 3
   },
   "file_extension": ".py",
   "mimetype": "text/x-python",
   "name": "python",
   "nbconvert_exporter": "python",
   "pygments_lexer": "ipython3",
   "version": "3.10.9"
  }
 },
 "nbformat": 4,
 "nbformat_minor": 1
}
