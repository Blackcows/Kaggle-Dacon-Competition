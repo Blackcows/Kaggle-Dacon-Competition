{
 "cells": [
  {
   "cell_type": "markdown",
   "source": [
    "## Pycaret Activate"
   ],
   "metadata": {
    "id": "xEnvntCMkqjK"
   },
   "id": "xEnvntCMkqjK"
  },
  {
   "cell_type": "code",
   "source": [
    "!pip install --pre pycaret"
   ],
   "metadata": {
    "id": "A-VAiwrukosC"
   },
   "id": "A-VAiwrukosC",
   "execution_count": null,
   "outputs": []
  },
  {
   "cell_type": "code",
   "source": [
    "!pip install cudf-cu11 dask-cudf-cu11 --extra-index-url=https://pypi.ngc.nvidia.com\n",
    "!pip install cuml-cu11 --extra-index-url=https://pypi.ngc.nvidia.com\n",
    "!pip install cugraph-cu11 --extra-index-url=https://pypi.ngc.nvidia.com"
   ],
   "metadata": {
    "id": "-eNHtEIjonQ6"
   },
   "id": "-eNHtEIjonQ6",
   "execution_count": null,
   "outputs": []
  },
  {
   "cell_type": "code",
   "source": [
    "!pip install catboost"
   ],
   "metadata": {
    "id": "sm6d5N16pHcf"
   },
   "id": "sm6d5N16pHcf",
   "execution_count": null,
   "outputs": []
  },
  {
   "cell_type": "markdown",
   "id": "273b75f6-25fa-4f9c-8c9d-fa33a985f2dd",
   "metadata": {
    "id": "273b75f6-25fa-4f9c-8c9d-fa33a985f2dd"
   },
   "source": [
    "## Import"
   ]
  },
  {
   "cell_type": "code",
   "execution_count": null,
   "id": "5c415d9d-1111-46ed-bc2d-849c75ab962a",
   "metadata": {
    "id": "5c415d9d-1111-46ed-bc2d-849c75ab962a"
   },
   "outputs": [],
   "source": [
    "import pandas as pd\n",
    "import random\n",
    "import os\n",
    "import numpy as np\n",
    "\n",
    "from sklearn.preprocessing import LabelEncoder"
   ]
  },
  {
   "cell_type": "code",
   "execution_count": null,
   "id": "edae871a-b31b-4f06-bb88-0fd1f6660b13",
   "metadata": {
    "id": "edae871a-b31b-4f06-bb88-0fd1f6660b13"
   },
   "outputs": [],
   "source": [
    "def seed_everything(seed):\n",
    "    random.seed(seed)\n",
    "    os.environ['PYTHONHASHSEED'] = str(seed)\n",
    "    np.random.seed(seed)\n",
    "seed_everything(37) # Seed 고정"
   ]
  },
  {
   "cell_type": "markdown",
   "id": "119f9c1c-39bc-42e7-a00d-3062d11b4f1e",
   "metadata": {
    "id": "119f9c1c-39bc-42e7-a00d-3062d11b4f1e"
   },
   "source": [
    "## Data Load"
   ]
  },
  {
   "cell_type": "code",
   "execution_count": null,
   "id": "ee76c413-001b-475e-9d1c-6662d25d2db2",
   "metadata": {
    "id": "ee76c413-001b-475e-9d1c-6662d25d2db2"
   },
   "outputs": [],
   "source": [
    "train_df = pd.read_csv('train.csv')\n",
    "test_df = pd.read_csv('test.csv')"
   ]
  },
  {
   "cell_type": "code",
   "execution_count": null,
   "id": "ffc6afcd-a059-4c16-81a5-ab3d4d750a41",
   "metadata": {
    "id": "ffc6afcd-a059-4c16-81a5-ab3d4d750a41"
   },
   "outputs": [],
   "source": [
    "train_x1 = train_df.drop(columns=['PRODUCT_ID', 'TIMESTAMP', 'Y_Class'])\n",
    "train_x2 = train_df[['Y_Quality', 'Y_Class']]\n",
    "\n",
    "test_x = test_df.drop(columns=['PRODUCT_ID', 'TIMESTAMP'])"
   ]
  },
  {
   "cell_type": "code",
   "execution_count": null,
   "id": "46614df0",
   "metadata": {
    "id": "46614df0"
   },
   "outputs": [],
   "source": [
    "train_x1"
   ]
  },
  {
   "cell_type": "code",
   "execution_count": null,
   "id": "6ba9dc5b",
   "metadata": {
    "id": "6ba9dc5b"
   },
   "outputs": [],
   "source": [
    "train_x2"
   ]
  },
  {
   "cell_type": "markdown",
   "id": "885f1e6b-97f4-4f90-b3ce-0513b7196db6",
   "metadata": {
    "id": "885f1e6b-97f4-4f90-b3ce-0513b7196db6"
   },
   "source": [
    "## Data Pre-processing"
   ]
  },
  {
   "cell_type": "code",
   "execution_count": null,
   "id": "8ad73f05-9bc3-4063-af29-25dc31f9e3d0",
   "metadata": {
    "id": "8ad73f05-9bc3-4063-af29-25dc31f9e3d0"
   },
   "outputs": [],
   "source": [
    "train_x1 = train_x1.fillna(0)\n",
    "test_x = test_x.fillna(0)"
   ]
  },
  {
   "cell_type": "code",
   "execution_count": null,
   "id": "f710209f-754a-456b-97a5-f7fb4f7e0f51",
   "metadata": {
    "id": "f710209f-754a-456b-97a5-f7fb4f7e0f51"
   },
   "outputs": [],
   "source": [
    "# qualitative to quantitative\n",
    "qual_col = ['LINE', 'PRODUCT_CODE']\n",
    "\n",
    "for i in qual_col:\n",
    "    le = LabelEncoder()\n",
    "    le = le.fit(train_x1[i])\n",
    "    train_x1[i] = le.transform(train_x1[i])\n",
    "    \n",
    "    for label in np.unique(test_x[i]): \n",
    "        if label not in le.classes_: \n",
    "            le.classes_ = np.append(le.classes_, label)\n",
    "    test_x[i] = le.transform(test_x[i]) \n",
    "print('Done.')"
   ]
  },
  {
   "cell_type": "markdown",
   "id": "5fec6b34-1e64-4d20-afdd-e96f4f77fa31",
   "metadata": {
    "id": "5fec6b34-1e64-4d20-afdd-e96f4f77fa31"
   },
   "source": [
    "## Classification Model Fit"
   ]
  },
  {
   "cell_type": "code",
   "execution_count": null,
   "id": "c6ca77bc-154c-4cb3-9251-3fe45d671416",
   "metadata": {
    "id": "c6ca77bc-154c-4cb3-9251-3fe45d671416"
   },
   "outputs": [],
   "source": [
    "from pycaret import regression as reg\n",
    "\n",
    "# model setup\n",
    "setup_regression = reg.setup(data = train_x1, target = 'Y_Quality') \n",
    "\n",
    "print(\"Complete\")"
   ]
  },
  {
   "cell_type": "code",
   "execution_count": null,
   "id": "c384bb7d",
   "metadata": {
    "id": "c384bb7d"
   },
   "outputs": [],
   "source": [
    "# 모델 성능 비교하는 부분 (스킵)\n",
    "\n",
    "reg.models()"
   ]
  },
  {
   "cell_type": "code",
   "execution_count": null,
   "id": "ea7b913f",
   "metadata": {
    "id": "ea7b913f"
   },
   "outputs": [],
   "source": [
    "best_model_regression = reg.compare_models(exclude = ['br', 'lar', 'rf', 'et', 'par', 'huber', 'catboost'], n_select = 5)\n",
    "# top5 = reg.compare_models(exclude = ['br', 'lar', 'rf', 'et', 'par', 'huber', 'catboost', 'dummy'], n_select = 5)\n",
    "# best3models = compare_models(sort='Accuracy', n_select=3, fold=10)\n",
    "\n",
    "# best_model_regression = reg.create_model('gbr')"
   ]
  },
  {
   "cell_type": "code",
   "execution_count": null,
   "id": "f5abdf59",
   "metadata": {
    "id": "f5abdf59"
   },
   "outputs": [],
   "source": [
    "# 모델 튜닝\n",
    "# models = []\n",
    "# for m in top5:\n",
    "#     models.append(reg.tune_model(m, optimize = 'MAE', choose_better = True, n_iter = 30))"
   ]
  },
  {
   "cell_type": "code",
   "execution_count": null,
   "id": "d9c8f710",
   "metadata": {
    "id": "d9c8f710"
   },
   "outputs": [],
   "source": [
    "# best_model_regression"
   ]
  },
  {
   "cell_type": "code",
   "source": [
    "tuned_model_regression = reg.tune_model(best_model_regression)"
   ],
   "metadata": {
    "id": "stbuRe69ygAS"
   },
   "id": "stbuRe69ygAS",
   "execution_count": null,
   "outputs": []
  },
  {
   "cell_type": "code",
   "execution_count": null,
   "id": "e65d94fe",
   "metadata": {
    "id": "e65d94fe"
   },
   "outputs": [],
   "source": [
    "# 모델 앙상블 (여러 모델 사용 시)\n",
    "# voting = reg.blend_models(models, optimize = 'MAE')\n",
    "# voting = reg.tune_model(voting, optimize = 'MAE', choose_better = True, n_iter = 30)"
   ]
  },
  {
   "cell_type": "code",
   "execution_count": null,
   "id": "44c27af8",
   "metadata": {
    "id": "44c27af8"
   },
   "outputs": [],
   "source": [
    "# 모델 학습\n",
    "# final_model_regression = reg.finalize_model(voting)\n",
    "final_model_regression = reg.finalize_model(tuned_model_regression)"
   ]
  },
  {
   "cell_type": "markdown",
   "id": "74ddaa38-bd6e-47d2-82d3-c000f188886a",
   "metadata": {
    "id": "74ddaa38-bd6e-47d2-82d3-c000f188886a"
   },
   "source": [
    "## Inference"
   ]
  },
  {
   "cell_type": "code",
   "execution_count": null,
   "id": "33b68656-3d7d-4221-b508-24d0d7622179",
   "metadata": {
    "id": "33b68656-3d7d-4221-b508-24d0d7622179"
   },
   "outputs": [],
   "source": [
    "pred_y1 = reg.predict_model(final_model_regression, data=test_x)\n",
    "print('Done.')"
   ]
  },
  {
   "cell_type": "code",
   "source": [
    "pred_y1"
   ],
   "metadata": {
    "id": "AKunawIL3ra_"
   },
   "id": "AKunawIL3ra_",
   "execution_count": null,
   "outputs": []
  },
  {
   "cell_type": "code",
   "execution_count": null,
   "id": "21d894bd",
   "metadata": {
    "id": "21d894bd"
   },
   "outputs": [],
   "source": [
    "pred_y1 = pd.DataFrame(pred_y1['prediction_label'])"
   ]
  },
  {
   "cell_type": "code",
   "source": [
    "pred_y1"
   ],
   "metadata": {
    "id": "0nuAOMM44J4q"
   },
   "id": "0nuAOMM44J4q",
   "execution_count": null,
   "outputs": []
  },
  {
   "cell_type": "code",
   "execution_count": null,
   "id": "210d858e",
   "metadata": {
    "id": "210d858e"
   },
   "outputs": [],
   "source": [
    "from pycaret import classification as cls\n",
    "\n",
    "# model setup\n",
    "setup_classification = cls.setup(data = train_x2, target = 'Y_Class',)\n",
    "\n",
    "print(\"Complete\")"
   ]
  },
  {
   "cell_type": "code",
   "execution_count": null,
   "id": "e6d267c3",
   "metadata": {
    "id": "e6d267c3"
   },
   "outputs": [],
   "source": [
    "# 모델 성능 비교하는 부분 (스킵)\n",
    "\n",
    "cls.models()"
   ]
  },
  {
   "cell_type": "code",
   "execution_count": null,
   "id": "733a3690",
   "metadata": {
    "id": "733a3690"
   },
   "outputs": [],
   "source": [
    "best_model_classification = cls.compare_models()\n",
    "# best3models = compare_models(sort='Accuracy', n_select=3, fold=10)"
   ]
  },
  {
   "cell_type": "code",
   "execution_count": null,
   "id": "2bb25ea5",
   "metadata": {
    "id": "2bb25ea5"
   },
   "outputs": [],
   "source": [
    "# 모델 튜닝\n",
    "tuned_model_classification = cls.tune_model(best_model_classification)"
   ]
  },
  {
   "cell_type": "code",
   "execution_count": null,
   "id": "cc383dc5",
   "metadata": {
    "id": "cc383dc5"
   },
   "outputs": [],
   "source": [
    "# 모델 앙상블 (여러 모델 사용 시)\n",
    "# blended = blend_models(estimator_list=best3models, fold=10, method='soft')"
   ]
  },
  {
   "cell_type": "code",
   "execution_count": null,
   "id": "4db53647",
   "metadata": {
    "id": "4db53647"
   },
   "outputs": [],
   "source": [
    "# 모델 학습\n",
    "final_model_classification = cls.finalize_model(tuned_model_classification)"
   ]
  },
  {
   "cell_type": "code",
   "source": [
    "pred_y1"
   ],
   "metadata": {
    "id": "R-3af4uL7atL"
   },
   "id": "R-3af4uL7atL",
   "execution_count": null,
   "outputs": []
  },
  {
   "cell_type": "code",
   "source": [
    "pred_y1.rename(columns={'prediction_label':'Y_Quality'}, inplace = True)"
   ],
   "metadata": {
    "id": "H7FgVo-Q7rmQ"
   },
   "id": "H7FgVo-Q7rmQ",
   "execution_count": null,
   "outputs": []
  },
  {
   "cell_type": "code",
   "execution_count": null,
   "id": "14524c12",
   "metadata": {
    "id": "14524c12"
   },
   "outputs": [],
   "source": [
    "pred_y = cls.predict_model(final_model_classification, data=pred_y1)"
   ]
  },
  {
   "cell_type": "markdown",
   "id": "d97cf38e-2062-4645-9095-2ebac375711e",
   "metadata": {
    "id": "d97cf38e-2062-4645-9095-2ebac375711e"
   },
   "source": [
    "## Submit"
   ]
  },
  {
   "cell_type": "code",
   "source": [
    "pred_y"
   ],
   "metadata": {
    "id": "NbUut2rP8DCy"
   },
   "id": "NbUut2rP8DCy",
   "execution_count": null,
   "outputs": []
  },
  {
   "cell_type": "code",
   "execution_count": null,
   "id": "20c5e156-d7c4-400f-b552-0bb86ebfd3e3",
   "metadata": {
    "id": "20c5e156-d7c4-400f-b552-0bb86ebfd3e3"
   },
   "outputs": [],
   "source": [
    "submit = pd.read_csv('sample_submission.csv')"
   ]
  },
  {
   "cell_type": "code",
   "execution_count": null,
   "id": "5b869ab6-6852-45a1-bc75-39dee40b583f",
   "metadata": {
    "id": "5b869ab6-6852-45a1-bc75-39dee40b583f"
   },
   "outputs": [],
   "source": [
    "submit['Y_Class'] = pd.DataFrame(pred_y['prediction_label'])"
   ]
  },
  {
   "cell_type": "code",
   "execution_count": null,
   "id": "026b00cd-5680-4bf2-b7f8-0bea6ae8299e",
   "metadata": {
    "tags": [],
    "id": "026b00cd-5680-4bf2-b7f8-0bea6ae8299e"
   },
   "outputs": [],
   "source": [
    "submit.to_csv('submission_blackcows_regression.csv', index=False)"
   ]
  }
 ],
 "metadata": {
  "kernelspec": {
   "display_name": "Python 3 (ipykernel)",
   "language": "python",
   "name": "python3"
  },
  "language_info": {
   "codemirror_mode": {
    "name": "ipython",
    "version": 3
   },
   "file_extension": ".py",
   "mimetype": "text/x-python",
   "name": "python",
   "nbconvert_exporter": "python",
   "pygments_lexer": "ipython3",
   "version": "3.10.9"
  },
  "colab": {
   "provenance": []
  },
  "accelerator": "GPU",
  "gpuClass": "standard"
 },
 "nbformat": 4,
 "nbformat_minor": 5
}
