{
 "cells": [
  {
   "cell_type": "code",
   "execution_count": 1,
   "metadata": {
    "collapsed": true
   },
   "outputs": [],
   "source": [
    "import numpy as np\n",
    "import pandas as pd\n",
    "\n",
    "train_data = pd.read_csv(\"data/split/test.csv\")\n",
    "# test_data = pd.read_csv(\"data/test.csv\")"
   ]
  },
  {
   "cell_type": "code",
   "execution_count": 2,
   "outputs": [
    {
     "data": {
      "text/plain": "  PRODUCT_ID         TIMESTAMP     LINE PRODUCT_CODE  X_1   X_2  X_3   X_4  \\\n0   TEST_000   2022-09-09 2:01  T100306         T_31  2.0  94.0  0.0  45.0   \n1   TEST_001   2022-09-09 2:09  T100304         T_31  2.0  93.0  0.0  45.0   \n2   TEST_002   2022-09-09 8:42  T100304         T_31  2.0  95.0  0.0  45.0   \n3   TEST_003  2022-09-09 10:56  T010305         A_31  NaN   NaN  NaN   NaN   \n4   TEST_004  2022-09-09 11:04  T010306         A_31  NaN   NaN  NaN   NaN   \n\n    X_5  X_6  ...  X_2866  X_2867  X_2868  X_2869  X_2870  X_2871  X_2872  \\\n0  10.0  0.0  ...     NaN     NaN     NaN     NaN     NaN     NaN     NaN   \n1  11.0  0.0  ...     NaN     NaN     NaN     NaN     NaN     NaN     NaN   \n2  11.0  0.0  ...     NaN     NaN     NaN     NaN     NaN     NaN     NaN   \n3   NaN  NaN  ...     NaN     NaN     NaN     NaN     NaN     NaN     NaN   \n4   NaN  NaN  ...     NaN     NaN     NaN     NaN     NaN     NaN     NaN   \n\n   X_2873  X_2874  X_2875  \n0     NaN     NaN     NaN  \n1     NaN     NaN     NaN  \n2     NaN     NaN     NaN  \n3     NaN     NaN     NaN  \n4     NaN     NaN     NaN  \n\n[5 rows x 2879 columns]",
      "text/html": "<div>\n<style scoped>\n    .dataframe tbody tr th:only-of-type {\n        vertical-align: middle;\n    }\n\n    .dataframe tbody tr th {\n        vertical-align: top;\n    }\n\n    .dataframe thead th {\n        text-align: right;\n    }\n</style>\n<table border=\"1\" class=\"dataframe\">\n  <thead>\n    <tr style=\"text-align: right;\">\n      <th></th>\n      <th>PRODUCT_ID</th>\n      <th>TIMESTAMP</th>\n      <th>LINE</th>\n      <th>PRODUCT_CODE</th>\n      <th>X_1</th>\n      <th>X_2</th>\n      <th>X_3</th>\n      <th>X_4</th>\n      <th>X_5</th>\n      <th>X_6</th>\n      <th>...</th>\n      <th>X_2866</th>\n      <th>X_2867</th>\n      <th>X_2868</th>\n      <th>X_2869</th>\n      <th>X_2870</th>\n      <th>X_2871</th>\n      <th>X_2872</th>\n      <th>X_2873</th>\n      <th>X_2874</th>\n      <th>X_2875</th>\n    </tr>\n  </thead>\n  <tbody>\n    <tr>\n      <th>0</th>\n      <td>TEST_000</td>\n      <td>2022-09-09 2:01</td>\n      <td>T100306</td>\n      <td>T_31</td>\n      <td>2.0</td>\n      <td>94.0</td>\n      <td>0.0</td>\n      <td>45.0</td>\n      <td>10.0</td>\n      <td>0.0</td>\n      <td>...</td>\n      <td>NaN</td>\n      <td>NaN</td>\n      <td>NaN</td>\n      <td>NaN</td>\n      <td>NaN</td>\n      <td>NaN</td>\n      <td>NaN</td>\n      <td>NaN</td>\n      <td>NaN</td>\n      <td>NaN</td>\n    </tr>\n    <tr>\n      <th>1</th>\n      <td>TEST_001</td>\n      <td>2022-09-09 2:09</td>\n      <td>T100304</td>\n      <td>T_31</td>\n      <td>2.0</td>\n      <td>93.0</td>\n      <td>0.0</td>\n      <td>45.0</td>\n      <td>11.0</td>\n      <td>0.0</td>\n      <td>...</td>\n      <td>NaN</td>\n      <td>NaN</td>\n      <td>NaN</td>\n      <td>NaN</td>\n      <td>NaN</td>\n      <td>NaN</td>\n      <td>NaN</td>\n      <td>NaN</td>\n      <td>NaN</td>\n      <td>NaN</td>\n    </tr>\n    <tr>\n      <th>2</th>\n      <td>TEST_002</td>\n      <td>2022-09-09 8:42</td>\n      <td>T100304</td>\n      <td>T_31</td>\n      <td>2.0</td>\n      <td>95.0</td>\n      <td>0.0</td>\n      <td>45.0</td>\n      <td>11.0</td>\n      <td>0.0</td>\n      <td>...</td>\n      <td>NaN</td>\n      <td>NaN</td>\n      <td>NaN</td>\n      <td>NaN</td>\n      <td>NaN</td>\n      <td>NaN</td>\n      <td>NaN</td>\n      <td>NaN</td>\n      <td>NaN</td>\n      <td>NaN</td>\n    </tr>\n    <tr>\n      <th>3</th>\n      <td>TEST_003</td>\n      <td>2022-09-09 10:56</td>\n      <td>T010305</td>\n      <td>A_31</td>\n      <td>NaN</td>\n      <td>NaN</td>\n      <td>NaN</td>\n      <td>NaN</td>\n      <td>NaN</td>\n      <td>NaN</td>\n      <td>...</td>\n      <td>NaN</td>\n      <td>NaN</td>\n      <td>NaN</td>\n      <td>NaN</td>\n      <td>NaN</td>\n      <td>NaN</td>\n      <td>NaN</td>\n      <td>NaN</td>\n      <td>NaN</td>\n      <td>NaN</td>\n    </tr>\n    <tr>\n      <th>4</th>\n      <td>TEST_004</td>\n      <td>2022-09-09 11:04</td>\n      <td>T010306</td>\n      <td>A_31</td>\n      <td>NaN</td>\n      <td>NaN</td>\n      <td>NaN</td>\n      <td>NaN</td>\n      <td>NaN</td>\n      <td>NaN</td>\n      <td>...</td>\n      <td>NaN</td>\n      <td>NaN</td>\n      <td>NaN</td>\n      <td>NaN</td>\n      <td>NaN</td>\n      <td>NaN</td>\n      <td>NaN</td>\n      <td>NaN</td>\n      <td>NaN</td>\n      <td>NaN</td>\n    </tr>\n  </tbody>\n</table>\n<p>5 rows × 2879 columns</p>\n</div>"
     },
     "execution_count": 2,
     "metadata": {},
     "output_type": "execute_result"
    }
   ],
   "source": [
    "train_data.head()"
   ],
   "metadata": {
    "collapsed": false
   }
  },
  {
   "cell_type": "code",
   "execution_count": 3,
   "outputs": [],
   "source": [
    "line_1_a = train_data[(train_data['LINE'] == 'T050304') & (train_data['PRODUCT_CODE'] == 'A_31')]"
   ],
   "metadata": {
    "collapsed": false
   }
  },
  {
   "cell_type": "code",
   "execution_count": 4,
   "outputs": [],
   "source": [
    "# line_1_a"
   ],
   "metadata": {
    "collapsed": false
   }
  },
  {
   "cell_type": "code",
   "execution_count": 5,
   "outputs": [],
   "source": [
    "# line_1_a.describe()"
   ],
   "metadata": {
    "collapsed": false
   }
  },
  {
   "cell_type": "code",
   "execution_count": 6,
   "outputs": [],
   "source": [
    "# 결측치 개수 파악\n",
    "# 셀 실행 결과를 데이터프레임으로 보고 싶을 때 to_frame()과 pd.DataFrame() 두 가지를 사용 가능\n",
    "# line_1_a.isnull().sum().to_frame('nan_count')"
   ],
   "metadata": {
    "collapsed": false
   }
  },
  {
   "cell_type": "code",
   "execution_count": 7,
   "outputs": [],
   "source": [
    "line_1_a = line_1_a.dropna(axis=1, how='all')"
   ],
   "metadata": {
    "collapsed": false
   }
  },
  {
   "cell_type": "code",
   "execution_count": 8,
   "outputs": [],
   "source": [
    "# 제거 후\n",
    "# line_1_a.isnull().sum().to_frame('nan_count')"
   ],
   "metadata": {
    "collapsed": false
   }
  },
  {
   "cell_type": "code",
   "execution_count": 9,
   "outputs": [],
   "source": [
    "# line_1_a"
   ],
   "metadata": {
    "collapsed": false
   }
  },
  {
   "cell_type": "code",
   "execution_count": 10,
   "outputs": [],
   "source": [
    "line_1_a.to_csv(\"./data/split/test_T050304_A31.csv\")"
   ],
   "metadata": {
    "collapsed": false
   }
  },
  {
   "cell_type": "code",
   "execution_count": 11,
   "outputs": [],
   "source": [
    "# 다른 데이터에 대해 반복\n",
    "line_2_a = train_data[(train_data['LINE'] == 'T050307') & (train_data['PRODUCT_CODE'] == 'A_31')]\n",
    "line_2_a = line_2_a.dropna(axis=1, how='all')\n",
    "line_2_a.to_csv(\"./data/split/test_T050307_A31.csv\")\n",
    "\n",
    "line_3_t = train_data[(train_data['LINE'] == 'T100304') & (train_data['PRODUCT_CODE'] == 'T_31')]\n",
    "line_3_t = line_3_t.dropna(axis=1, how='all')\n",
    "line_3_t.to_csv(\"./data/split/test_T100304_T31.csv\")\n",
    "\n",
    "line_3_o = train_data[(train_data['LINE'] == 'T100304') & (train_data['PRODUCT_CODE'] == 'O_31')]\n",
    "line_3_o = line_3_o.dropna(axis=1, how='all')\n",
    "line_3_o.to_csv(\"./data/split/test_T100304_O31.csv\")\n",
    "\n",
    "line_4_t = train_data[(train_data['LINE'] == 'T100306') & (train_data['PRODUCT_CODE'] == 'T_31')]\n",
    "line_4_t = line_4_t.dropna(axis=1, how='all')\n",
    "line_4_t.to_csv(\"./data/split/test_T100306_T31.csv\")\n",
    "\n",
    "line_4_o = train_data[(train_data['LINE'] == 'T100306') & (train_data['PRODUCT_CODE'] == 'O_31')]\n",
    "line_4_o = line_4_o.dropna(axis=1, how='all')\n",
    "line_4_o.to_csv(\"./data/split/test_T100306_O31.csv\")\n",
    "\n",
    "line_5_a = train_data[(train_data['LINE'] == 'T010306') & (train_data['PRODUCT_CODE'] == 'A_31')]\n",
    "line_5_a = line_5_a.dropna(axis=1, how='all')\n",
    "line_5_a.to_csv(\"./data/split/test_T010306_A31.csv\")\n",
    "\n",
    "line_6_a = train_data[(train_data['LINE'] == 'T010305') & (train_data['PRODUCT_CODE'] == 'A_31')]\n",
    "line_6_a = line_6_a.dropna(axis=1, how='all')\n",
    "line_6_a.to_csv(\"./data/split/test_T010305_A31.csv\")"
   ],
   "metadata": {
    "collapsed": false
   }
  },
  {
   "cell_type": "code",
   "execution_count": 12,
   "outputs": [],
   "source": [
    "train_o31 = train_data[(train_data['PRODUCT_CODE'] == 'O_31')]\n",
    "train_o31 = train_o31.dropna(axis=1, how='all')\n",
    "train_o31.to_csv(\"./data/split/test_O31.csv\")"
   ],
   "metadata": {
    "collapsed": false
   }
  },
  {
   "cell_type": "code",
   "execution_count": 13,
   "outputs": [],
   "source": [
    "# train_o31.shape"
   ],
   "metadata": {
    "collapsed": false
   }
  },
  {
   "cell_type": "code",
   "execution_count": 14,
   "outputs": [],
   "source": [
    "# train_t31 = train_data[(train_data['PRODUCT_CODE'] == 'T_31')]\n",
    "# train_t31 = train_t31.dropna(axis=1, how='all')\n",
    "# train_t31.to_csv(\"./data/train_T31.csv\")"
   ],
   "metadata": {
    "collapsed": false
   }
  },
  {
   "cell_type": "code",
   "execution_count": 15,
   "outputs": [],
   "source": [
    "# train_t31.shape"
   ],
   "metadata": {
    "collapsed": false
   }
  },
  {
   "cell_type": "code",
   "execution_count": 16,
   "outputs": [],
   "source": [
    "# train_o31.isnull().sum().to_frame('nan_count')"
   ],
   "metadata": {
    "collapsed": false
   }
  },
  {
   "cell_type": "code",
   "execution_count": 17,
   "outputs": [],
   "source": [
    "# train_t31.isnull().sum().to_frame('nan_count')"
   ],
   "metadata": {
    "collapsed": false
   }
  },
  {
   "cell_type": "code",
   "execution_count": 18,
   "outputs": [],
   "source": [
    "# train_a31 = train_data[(train_data['PRODUCT_CODE'] == 'A_31')]\n",
    "# train_a31 = train_a31.dropna(axis=1, how='all')\n",
    "# train_a31.to_csv(\"./data/train_A31.csv\", index = False)"
   ],
   "metadata": {
    "collapsed": false
   }
  },
  {
   "cell_type": "code",
   "execution_count": 19,
   "outputs": [],
   "source": [
    "# train_a31.isnull().sum().to_frame('nan_count')"
   ],
   "metadata": {
    "collapsed": false
   }
  },
  {
   "cell_type": "code",
   "execution_count": 20,
   "outputs": [],
   "source": [
    "# line_3_a = train_data[((train_data['LINE'] == 'T010306') | (train_data['LINE'] == 'T010305')) & (train_data['PRODUCT_CODE'] == 'A_31')]\n",
    "# line_3_a = line_3_a.dropna(axis=1, how='all')\n",
    "# line_3_a.to_csv(\"./data/train_T0103_A31.csv\", index = False)"
   ],
   "metadata": {
    "collapsed": false
   }
  },
  {
   "cell_type": "code",
   "execution_count": 21,
   "outputs": [],
   "source": [
    "# line_3_a = train_data[((train_data['LINE'] == 'T050304') | (train_data['LINE'] == 'T050307')) & (train_data['PRODUCT_CODE'] == 'A_31')]\n",
    "# line_3_a = line_3_a.dropna(axis=1, how='all')\n",
    "# line_3_a.to_csv(\"./data/train_T0503_A31.csv\", index = False)"
   ],
   "metadata": {
    "collapsed": false
   }
  },
  {
   "cell_type": "code",
   "execution_count": 21,
   "outputs": [],
   "source": [],
   "metadata": {
    "collapsed": false
   }
  }
 ],
 "metadata": {
  "kernelspec": {
   "display_name": "Python 3",
   "language": "python",
   "name": "python3"
  },
  "language_info": {
   "codemirror_mode": {
    "name": "ipython",
    "version": 2
   },
   "file_extension": ".py",
   "mimetype": "text/x-python",
   "name": "python",
   "nbconvert_exporter": "python",
   "pygments_lexer": "ipython2",
   "version": "2.7.6"
  }
 },
 "nbformat": 4,
 "nbformat_minor": 0
}
